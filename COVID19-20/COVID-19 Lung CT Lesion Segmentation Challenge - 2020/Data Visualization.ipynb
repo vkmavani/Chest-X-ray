{
 "cells": [
  {
   "cell_type": "code",
   "execution_count": 1,
   "metadata": {},
   "outputs": [],
   "source": [
    "import nibabel as nib\n",
    "import numpy as np \n",
    "import matplotlib.pyplot as plt\n",
    "from IPython.display import display, HTML\n",
    "from ipywidgets import interact, interactive, IntSlider, ToggleButtons,IntText,link,VBox"
   ]
  },
  {
   "cell_type": "code",
   "execution_count": 2,
   "metadata": {},
   "outputs": [],
   "source": [
    "image = nib.load(\"Train/volume-covid19-A-0011_ct.nii.gz\")\n",
    "image_data = image.get_fdata()\n",
    "label = nib.load(\"Train/volume-covid19-A-0011_seg.nii.gz\")\n",
    "label_array = label.get_fdata()"
   ]
  },
  {
   "cell_type": "code",
   "execution_count": 3,
   "metadata": {},
   "outputs": [
    {
     "data": {
      "application/vnd.jupyter.widget-view+json": {
       "model_id": "d7ea8a61a3fb4b20a5a56e55a2a62fde",
       "version_major": 2,
       "version_minor": 0
      },
      "text/plain": [
       "interactive(children=(IntSlider(value=0, description='Select Layer', max=290), Output()), _dom_classes=('widge…"
      ]
     },
     "metadata": {},
     "output_type": "display_data"
    }
   ],
   "source": [
    "def explore_up(layer):\n",
    "    plt.figure(figsize=(10, 8))\n",
    "    plt.imshow(np.rot90(image_data[: ,:, layer]), cmap='gray');\n",
    "    plt.title('Transverse', fontsize=20)\n",
    "    plt.axis('off')\n",
    "    return layer\n",
    "\n",
    "\n",
    "select_layer = IntSlider(min=0, max=290, description='Select Layer')\n",
    "\n",
    "interactive(explore_up,layer=(select_layer))"
   ]
  },
  {
   "cell_type": "code",
   "execution_count": 4,
   "metadata": {},
   "outputs": [
    {
     "data": {
      "application/vnd.jupyter.widget-view+json": {
       "model_id": "222b6f4276b840128d3e885eb36ce28c",
       "version_major": 2,
       "version_minor": 0
      },
      "text/plain": [
       "interactive(children=(IntSlider(value=0, description='Select Layer', max=290), Output()), _dom_classes=('widge…"
      ]
     },
     "metadata": {},
     "output_type": "display_data"
    }
   ],
   "source": [
    "def explore_up(layer):\n",
    "    plt.figure(figsize=(10, 8))\n",
    "    plt.imshow(np.rot90(label_array[:, :, layer]), cmap='gray');\n",
    "    plt.title('Transverse', fontsize=20)\n",
    "    plt.axis('off')\n",
    "    return layer\n",
    "\n",
    "\n",
    "select_layer = IntSlider(min=0, max=290, description='Select Layer')\n",
    "\n",
    "interactive(explore_up,layer=(select_layer))"
   ]
  },
  {
   "cell_type": "code",
   "execution_count": 5,
   "metadata": {},
   "outputs": [
    {
     "data": {
      "application/vnd.jupyter.widget-view+json": {
       "model_id": "9b24769aa8c243f58fafec2076319e4d",
       "version_major": 2,
       "version_minor": 0
      },
      "text/plain": [
       "interactive(children=(IntSlider(value=0, description='Select Layer', max=511), Output()), _dom_classes=('widge…"
      ]
     },
     "metadata": {},
     "output_type": "display_data"
    }
   ],
   "source": [
    "def explore_up(layer):\n",
    "    plt.figure(figsize=(10, 8))\n",
    "    plt.imshow(np.rot90(image_data[: ,layer, :]), cmap='gray');\n",
    "    plt.title('Transverse', fontsize=20)\n",
    "    plt.axis('off')\n",
    "    return layer\n",
    "\n",
    "\n",
    "select_layer = IntSlider(min=0, max=511, description='Select Layer')\n",
    "\n",
    "interactive(explore_up,layer=(select_layer))"
   ]
  },
  {
   "cell_type": "code",
   "execution_count": 6,
   "metadata": {},
   "outputs": [
    {
     "data": {
      "application/vnd.jupyter.widget-view+json": {
       "model_id": "d2d7f153552e47baab7311ce3bdb6386",
       "version_major": 2,
       "version_minor": 0
      },
      "text/plain": [
       "interactive(children=(IntSlider(value=0, description='Select Layer', max=511), Output()), _dom_classes=('widge…"
      ]
     },
     "metadata": {},
     "output_type": "display_data"
    }
   ],
   "source": [
    "def explore_up(layer):\n",
    "    plt.figure(figsize=(10, 8))\n",
    "    plt.imshow(np.rot90(label_array[: ,layer, :]), cmap='gray');\n",
    "    plt.title('Transverse', fontsize=20)\n",
    "    plt.axis('off')\n",
    "    return layer\n",
    "\n",
    "\n",
    "select_layer = IntSlider(min=0, max=511, description='Select Layer')\n",
    "\n",
    "interactive(explore_up,layer=(select_layer))"
   ]
  },
  {
   "cell_type": "code",
   "execution_count": 7,
   "metadata": {},
   "outputs": [
    {
     "data": {
      "application/vnd.jupyter.widget-view+json": {
       "model_id": "faa333f97e424ef4a03ce1e5c8d9f351",
       "version_major": 2,
       "version_minor": 0
      },
      "text/plain": [
       "interactive(children=(IntSlider(value=0, description='Select Layer', max=511), Output()), _dom_classes=('widge…"
      ]
     },
     "metadata": {},
     "output_type": "display_data"
    }
   ],
   "source": [
    "def explore_up(layer):\n",
    "    plt.figure(figsize=(10, 8))\n",
    "    plt.imshow(np.rot90(image_data[layer,:, :]), cmap='gray');\n",
    "    plt.title('Transverse', fontsize=20)\n",
    "    plt.axis('off')\n",
    "    return layer\n",
    "\n",
    "\n",
    "select_layer = IntSlider(min=0, max=511, description='Select Layer')\n",
    "\n",
    "interactive(explore_up,layer=(select_layer))"
   ]
  },
  {
   "cell_type": "code",
   "execution_count": 8,
   "metadata": {},
   "outputs": [
    {
     "data": {
      "application/vnd.jupyter.widget-view+json": {
       "model_id": "088c8f2f8c564bd9b07b32e587a60833",
       "version_major": 2,
       "version_minor": 0
      },
      "text/plain": [
       "interactive(children=(IntSlider(value=0, description='Select Layer', max=511), Output()), _dom_classes=('widge…"
      ]
     },
     "metadata": {},
     "output_type": "display_data"
    }
   ],
   "source": [
    "def explore_up(layer):\n",
    "    plt.figure(figsize=(10, 8))\n",
    "    plt.imshow(np.rot90(label_array[layer ,:, :]), cmap='gray');\n",
    "    plt.title('Transverse', fontsize=20)\n",
    "    plt.axis('off')\n",
    "    return layer\n",
    "\n",
    "\n",
    "select_layer = IntSlider(min=0, max=511, description='Select Layer')\n",
    "\n",
    "interactive(explore_up,layer=(select_layer))"
   ]
  },
  {
   "cell_type": "code",
   "execution_count": null,
   "metadata": {},
   "outputs": [],
   "source": []
  },
  {
   "cell_type": "code",
   "execution_count": null,
   "metadata": {},
   "outputs": [],
   "source": []
  },
  {
   "cell_type": "code",
   "execution_count": null,
   "metadata": {},
   "outputs": [],
   "source": []
  },
  {
   "cell_type": "code",
   "execution_count": null,
   "metadata": {},
   "outputs": [],
   "source": [
    "train_transform = Compose([LoadNiftid(keys),\n",
    "                           AddChanneld(keys),\n",
    "                           Orientationd(keys, axcodes = \"LPS\"),\n",
    "                           Spacingd(keys, pixdim=(1.0, 1.0, 1.0), mode=(\"bilinear\", \"nearest\")[: len(keys)]),\n",
    "                             ScaleIntensityRanged(keys[0], a_min=-1000.0, a_max=500.0, b_min=0.0, b_max=1.0, clip=True),\n",
    "                             SpatialPadd(keys, spatial_size=(192, 192, -1), mode=\"reflect\"),          # ensure at least 192x192\n",
    "                             RandAffined(keys,\n",
    "                                         prob=0.15,\n",
    "                                         rotate_range=(-0.05, 0.05), scale_range=(-0.1, 0.1),\n",
    "                                         mode=(\"bilinear\", \"nearest\"),\n",
    "                                         as_tensor_output=False),\n",
    "                             RandCropByPosNegLabeld(keys, label_key=keys[1], spatial_size=(192, 192, 16), num_samples=3),\n",
    "                             RandGaussianNoised(keys[0], prob=0.15, std=0.01),\n",
    "                             RandFlipd(keys, spatial_axis=0, prob=0.5),\n",
    "                             RandFlipd(keys, spatial_axis=1, prob=0.5),\n",
    "                             RandFlipd(keys, spatial_axis=2, prob=0.5),\n",
    "                             CastToTyped(keys, dtype=(np.float32, np.uint8)),\n",
    "                             ToTensord(keys)\n",
    "                        ])\n",
    "\n",
    "val_transform = Compose([\n",
    "                             LoadNiftid(keys),\n",
    "                             AddChanneld(keys),\n",
    "                             Orientationd(keys, axcodes = \"LPS\"),\n",
    "                             Spacingd(keys, pixdim=(1.0, 1.0, 1.0), mode=(\"bilinear\", \"nearest\")[: len(keys)]),\n",
    "                             ScaleIntensityRanged(keys[0], a_min=-1000.0, a_max=500.0, b_min=0.0, b_max=1.0, clip=True),\n",
    "                             CastToTyped(keys, dtype=(np.float32, np.uint8)),\n",
    "                             ToTensord(keys)\n",
    "                        ])"
   ]
  }
 ],
 "metadata": {
  "kernelspec": {
   "display_name": "Python 3",
   "language": "python",
   "name": "python3"
  },
  "language_info": {
   "codemirror_mode": {
    "name": "ipython",
    "version": 3
   },
   "file_extension": ".py",
   "mimetype": "text/x-python",
   "name": "python",
   "nbconvert_exporter": "python",
   "pygments_lexer": "ipython3",
   "version": "3.8.5"
  }
 },
 "nbformat": 4,
 "nbformat_minor": 4
}
