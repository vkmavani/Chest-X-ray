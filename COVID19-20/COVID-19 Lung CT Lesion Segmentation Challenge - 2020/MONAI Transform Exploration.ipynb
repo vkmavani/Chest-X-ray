{
 "cells": [
  {
   "cell_type": "markdown",
   "metadata": {
    "id": "IyvdwlXda3OK"
   },
   "source": [
    "### *Install and Import Libraries*"
   ]
  },
  {
   "cell_type": "code",
   "execution_count": null,
   "metadata": {
    "colab": {
     "base_uri": "https://localhost:8080/"
    },
    "id": "qRXq3iVda3Bb",
    "outputId": "7380e74a-33e9-44fe-ae23-a97da3a8bc95"
   },
   "outputs": [],
   "source": [
    "%pip install -q \"monai[nibabel, tqdm]\"\n",
    "!pip install itk\n",
    "!pip install itkwidgets"
   ]
  },
  {
   "cell_type": "code",
   "execution_count": 48,
   "metadata": {
    "id": "byFu-5g8azu8"
   },
   "outputs": [],
   "source": [
    "import itk\n",
    "import itkwidgets\n",
    "import numpy as np\n",
    "import nibabel as nib\n",
    "import seaborn as sns\n",
    "import matplotlib.pyplot as plt\n",
    "from ipywidgets import interact, interactive, IntSlider, ToggleButtons\n",
    "\n",
    "import os\n",
    "import glob\n",
    "import numpy as np\n",
    "from tqdm import tqdm\n",
    "import matplotlib.pyplot as plt\n",
    "\n",
    "import monai\n",
    "from monai.data import Dataset, CacheDataset, DataLoader\n",
    "from monai.losses import DiceLoss\n",
    "from monai.metrics import compute_meandice\n",
    "from monai.inferers import sliding_window_inference\n",
    "from monai.transforms import (\n",
    "    AddChanneld,\n",
    "    AsDiscrete,\n",
    "    CastToTyped,\n",
    "    LoadNiftid,\n",
    "    Orientationd,\n",
    "    RandAffined,\n",
    "    RandCropByPosNegLabeld,\n",
    "    RandFlipd,\n",
    "    RandGaussianNoised,\n",
    "    ScaleIntensityRanged,\n",
    "    Spacingd,\n",
    "    SpatialPadd,\n",
    "    ToTensord,\n",
    ")\n",
    "from monai.transforms import Compose\n",
    "\n",
    "%matplotlib inline\n",
    "sns.set_style('darkgrid')"
   ]
  },
  {
   "cell_type": "code",
   "execution_count": 49,
   "metadata": {
    "id": "TSkaO81hmEqo"
   },
   "outputs": [],
   "source": [
    "keys = ('image','label')"
   ]
  },
  {
   "cell_type": "code",
   "execution_count": 49,
   "metadata": {
    "id": "N5FKBUc1f-eC"
   },
   "outputs": [],
   "source": []
  },
  {
   "cell_type": "markdown",
   "metadata": {
    "id": "iRQIH68kf-04"
   },
   "source": [
    "### *Load Data*"
   ]
  },
  {
   "cell_type": "code",
   "execution_count": 50,
   "metadata": {
    "id": "Al-aKyo-gBuc"
   },
   "outputs": [],
   "source": [
    "# Load Data and transforms\n",
    "\n",
    "DIR = './COVID-19-20/Train'\n",
    "\n",
    "images = sorted(glob.glob(os.path.join(DIR, 'volume-covid19-A-0011_ct.nii.gz')))\n",
    "labels = sorted(glob.glob(os.path.join(DIR, 'volume-covid19-A-0011_seg.nii.gz')))\n",
    "data = [{keys[0]: img, keys[1]: seg} for img,seg in zip(images, labels)]"
   ]
  },
  {
   "cell_type": "code",
   "execution_count": 50,
   "metadata": {
    "id": "9DZsVGXS73v3"
   },
   "outputs": [],
   "source": []
  },
  {
   "cell_type": "markdown",
   "metadata": {
    "id": "rHqWuAnW6__k"
   },
   "source": [
    "### *Before Transformations*"
   ]
  },
  {
   "cell_type": "code",
   "execution_count": 51,
   "metadata": {
    "colab": {
     "base_uri": "https://localhost:8080/"
    },
    "id": "NP3BEWBn73rZ",
    "outputId": "925dbcc0-6519-41f7-be9b-58ca11e91daa"
   },
   "outputs": [
    {
     "name": "stdout",
     "output_type": "stream",
     "text": [
      "Shape before transformation:\n",
      "Image: (512, 512, 296)\n",
      "Label: (512, 512, 296)\n"
     ]
    }
   ],
   "source": [
    "image_data = nib.load(\"./COVID-19-20/Train/volume-covid19-A-0011_ct.nii.gz\")\n",
    "image_data = image_data.get_fdata()\n",
    "label_data = nib.load(\"./COVID-19-20/Train/volume-covid19-A-0011_seg.nii.gz\")\n",
    "label_data = label_data.get_fdata()\n",
    "\n",
    "print(\"Shape before transformation:\")\n",
    "print('Image:', image_data.shape)\n",
    "print('Label:', label_data.shape)"
   ]
  },
  {
   "cell_type": "code",
   "execution_count": 52,
   "metadata": {
    "colab": {
     "base_uri": "https://localhost:8080/",
     "height": 373,
     "referenced_widgets": [
      "b87242230b064cd99f7dde534a65cf16",
      "ac582a12c1cc4abaa3684e2ac5f83275",
      "e1f1a1d122f44526a593eba95478fd95",
      "14dc41fe46a24c3c875fe5815779527b",
      "1bde713145f44d66b9859fcafb5aaa17",
      "315bcea0c50c4cbca1ef0f5da7dc7597",
      "00857702123c4970a1cbcef1bd59cebd"
     ]
    },
    "id": "eXROsL4O9AFs",
    "outputId": "b4d16591-7037-45d4-a950-10b7bae6e48c"
   },
   "outputs": [
    {
     "data": {
      "application/vnd.jupyter.widget-view+json": {
       "model_id": "b87242230b064cd99f7dde534a65cf16",
       "version_major": 2,
       "version_minor": 0
      },
      "text/plain": [
       "interactive(children=(IntSlider(value=147, description='layer', max=295), Output()), _dom_classes=('widget-int…"
      ]
     },
     "metadata": {
      "tags": []
     },
     "output_type": "display_data"
    }
   ],
   "source": [
    "def explore_img(layer):\n",
    "    plt.figure(figsize=(10, 5))\n",
    "    plt.imshow(image_data[:, :, layer], cmap='gray');\n",
    "    plt.title('Explore Layers of Brain MRI', fontsize=20)\n",
    "    plt.axis('off')\n",
    "    return layer\n",
    "\n",
    "# Run the ipywidgets interact() function to explore the data\n",
    "interact(explore_img, layer=(0, image_data.shape[2] - 1));"
   ]
  },
  {
   "cell_type": "code",
   "execution_count": 53,
   "metadata": {
    "colab": {
     "base_uri": "https://localhost:8080/",
     "height": 373,
     "referenced_widgets": [
      "dae3f2852fa94764bc67ddf937364429",
      "3196486924204ad4a6ffcf106a114559",
      "ccfa12132bf244359dc4f5f85d934dbe",
      "15fb4cffde2f4e538a8402534e4ebf88",
      "aa188ff265754bd2978c31f2a301cea9",
      "9f3b6d56e41c446c94083338562de636",
      "a712bd4c2fda4b4e9fb6e1791c6e1477"
     ]
    },
    "id": "A3P2wVuM9Ara",
    "outputId": "994431bc-c26e-4b4e-965e-0cbb78c2b725"
   },
   "outputs": [
    {
     "data": {
      "application/vnd.jupyter.widget-view+json": {
       "model_id": "dae3f2852fa94764bc67ddf937364429",
       "version_major": 2,
       "version_minor": 0
      },
      "text/plain": [
       "interactive(children=(IntSlider(value=147, description='layer', max=295), Output()), _dom_classes=('widget-int…"
      ]
     },
     "metadata": {
      "tags": []
     },
     "output_type": "display_data"
    }
   ],
   "source": [
    "def explore_img(layer):\n",
    "    plt.figure(figsize=(10, 5))\n",
    "    plt.imshow(label_data[:, :, layer], cmap='gray');\n",
    "    plt.title('Explore Layers of Brain MRI', fontsize=20)\n",
    "    plt.axis('off')\n",
    "    return layer\n",
    "\n",
    "# Run the ipywidgets interact() function to explore the data\n",
    "interact(explore_img, layer=(0, label_data.shape[2] - 1));"
   ]
  },
  {
   "cell_type": "code",
   "execution_count": 53,
   "metadata": {
    "id": "fRP1GZnU9BIs"
   },
   "outputs": [],
   "source": []
  },
  {
   "cell_type": "markdown",
   "metadata": {
    "id": "sx5bQXkp9DEt"
   },
   "source": [
    "### *Transformations*"
   ]
  },
  {
   "cell_type": "markdown",
   "metadata": {
    "id": "j3XRT6we-G1m"
   },
   "source": [
    "#### Load data, Add_channel dimension, orientation"
   ]
  },
  {
   "cell_type": "code",
   "execution_count": 39,
   "metadata": {
    "id": "U2KG2KpDgFJz"
   },
   "outputs": [],
   "source": [
    "trans = Compose([LoadNiftid(keys),\n",
    "                 AddChanneld(keys),\n",
    "                 Orientationd(keys, axcodes = \"LPS\"),\n",
    "                 CastToTyped(keys, dtype=(np.float32, np.uint8)),\n",
    "                 ToTensord(keys)\n",
    "                 ])"
   ]
  },
  {
   "cell_type": "code",
   "execution_count": 40,
   "metadata": {
    "colab": {
     "base_uri": "https://localhost:8080/"
    },
    "id": "bSQ8oBiqD6Sw",
    "outputId": "dd19bf30-5e9d-4445-a372-f73610e4ef6f"
   },
   "outputs": [
    {
     "name": "stdout",
     "output_type": "stream",
     "text": [
      "Image: torch.Size([1, 512, 512, 296])\n",
      "Label: torch.Size([1, 512, 512, 296])\n"
     ]
    }
   ],
   "source": [
    "dataset = Dataset(data = data,\n",
    "                  transform = trans)\n",
    "\n",
    "print('Image:', dataset[0]['image'].shape)\n",
    "print('Label:', dataset[0]['label'].shape)"
   ]
  },
  {
   "cell_type": "code",
   "execution_count": 23,
   "metadata": {
    "colab": {
     "base_uri": "https://localhost:8080/",
     "height": 373,
     "referenced_widgets": [
      "ab4f7183b7bf46e890120e3eba3f1102",
      "dcc5e7d8361845a5866c59c96d3d8670",
      "941ec65f56c448f88285184a5e9a0cde",
      "1eac61ae6ac3445c90a871d9b275550e",
      "6e9b89144aab4913861d4cfcd2bd28a5",
      "ce16009918924f62806f8f1a45acba33",
      "2a248e87edac4c6a9a7078756946fb4c"
     ]
    },
    "id": "n12uE4W24PTS",
    "outputId": "538c33eb-aeb1-4c94-f90c-66298a212bc0"
   },
   "outputs": [
    {
     "data": {
      "application/vnd.jupyter.widget-view+json": {
       "model_id": "ab4f7183b7bf46e890120e3eba3f1102",
       "version_major": 2,
       "version_minor": 0
      },
      "text/plain": [
       "interactive(children=(IntSlider(value=147, description='layer', max=295), Output()), _dom_classes=('widget-int…"
      ]
     },
     "metadata": {
      "tags": []
     },
     "output_type": "display_data"
    }
   ],
   "source": [
    "def explore_img(layer):\n",
    "    plt.figure(figsize=(10, 5))\n",
    "    plt.imshow(dataset[0]['image'].squeeze()[:, :, layer], cmap='gray');\n",
    "    plt.title('Explore Layers', fontsize=20)\n",
    "    plt.axis('off')\n",
    "    return layer\n",
    "\n",
    "# Run the ipywidgets interact() function to explore the data\n",
    "interact(explore_img, layer=(0, dataset[0]['image'].shape[3] - 1));"
   ]
  },
  {
   "cell_type": "code",
   "execution_count": 24,
   "metadata": {
    "colab": {
     "base_uri": "https://localhost:8080/",
     "height": 373,
     "referenced_widgets": [
      "86db38a840ea4e9d890a7a82c9edb4bd",
      "867141c418984023a527f961975583af",
      "ae42fce3272548ecad7cae3a1000ec2e",
      "7e0c6e96131d48c6b8168846f72faaa2",
      "70751ec55c0e4dee893c08c997ad035e",
      "c0b8ca571dc54fcd9423125669300b55",
      "cbfe0d531c554c748b07979f8573cf9d"
     ]
    },
    "id": "zVTHGUqX94zF",
    "outputId": "f6ba0b66-fff6-483d-a5c5-1b6ab9b6fe90"
   },
   "outputs": [
    {
     "data": {
      "application/vnd.jupyter.widget-view+json": {
       "model_id": "86db38a840ea4e9d890a7a82c9edb4bd",
       "version_major": 2,
       "version_minor": 0
      },
      "text/plain": [
       "interactive(children=(IntSlider(value=147, description='layer', max=295), Output()), _dom_classes=('widget-int…"
      ]
     },
     "metadata": {
      "tags": []
     },
     "output_type": "display_data"
    }
   ],
   "source": [
    "def explore_img(layer):\n",
    "    plt.figure(figsize=(10, 5))\n",
    "    plt.imshow(dataset[0]['label'].squeeze()[:, :, layer], cmap='gray');\n",
    "    plt.title('Explore Layers', fontsize=20)\n",
    "    plt.axis('off')\n",
    "    return layer\n",
    "\n",
    "# Run the ipywidgets interact() function to explore the data\n",
    "interact(explore_img, layer=(0, dataset[0]['label'].shape[3] - 1));"
   ]
  },
  {
   "cell_type": "code",
   "execution_count": null,
   "metadata": {
    "id": "AHnxYtQ798e8"
   },
   "outputs": [],
   "source": []
  },
  {
   "cell_type": "markdown",
   "metadata": {
    "id": "I0P9vrv8-LQh"
   },
   "source": [
    "#### Spacingd"
   ]
  },
  {
   "cell_type": "code",
   "execution_count": 45,
   "metadata": {
    "id": "ATbCiPNV-Nfc"
   },
   "outputs": [],
   "source": [
    "trans = Compose([LoadNiftid(keys),\n",
    "                 AddChanneld(keys),\n",
    "                 Orientationd(keys, axcodes = \"LPS\"),\n",
    "                 Spacingd(keys, pixdim=(1.0, 1.0, 5.0), mode=(\"bilinear\", \"nearest\")[: len(keys)]),\n",
    "                 CastToTyped(keys, dtype=(np.float32, np.uint8)),\n",
    "                 ToTensord(keys)\n",
    "                 ])"
   ]
  },
  {
   "cell_type": "code",
   "execution_count": null,
   "metadata": {
    "id": "pAtsPgsaEAKK"
   },
   "outputs": [],
   "source": [
    "dataset = Dataset(data = data,\n",
    "                  transform = trans)\n",
    "\n",
    "print('Image:', dataset[0]['image'].shape)\n",
    "print('Label:', dataset[0]['label'].shape)"
   ]
  },
  {
   "cell_type": "code",
   "execution_count": 32,
   "metadata": {
    "colab": {
     "base_uri": "https://localhost:8080/",
     "height": 373,
     "referenced_widgets": [
      "67ce521033f040b9a080937e91d1efc8",
      "ed5af083ed7b406aab8457a0d8e42182",
      "7fc5938cb70747948b963b1d10a8277d",
      "f0723a0746bd479ca644c1695f31584a",
      "8392c38d44fa46ef98ad4a6e45bfffbd",
      "00aadfe7188046d6b9bfc89c63a76d77",
      "028a7a06663f4dddabe48f8951e288d8"
     ]
    },
    "id": "B-I-5kXC-NZH",
    "outputId": "4703ded6-4554-4a0c-91a6-824a4bcb2604"
   },
   "outputs": [
    {
     "data": {
      "application/vnd.jupyter.widget-view+json": {
       "model_id": "67ce521033f040b9a080937e91d1efc8",
       "version_major": 2,
       "version_minor": 0
      },
      "text/plain": [
       "interactive(children=(IntSlider(value=29, description='layer', max=59), Output()), _dom_classes=('widget-inter…"
      ]
     },
     "metadata": {
      "tags": []
     },
     "output_type": "display_data"
    }
   ],
   "source": [
    "def explore_img(layer):\n",
    "    plt.figure(figsize=(10, 5))\n",
    "    plt.imshow(dataset[0]['image'].squeeze()[:, :, layer], cmap='gray');\n",
    "    plt.title('Explore Layers', fontsize=20)\n",
    "    plt.axis('off')\n",
    "    return layer\n",
    "\n",
    "# Run the ipywidgets interact() function to explore the data\n",
    "interact(explore_img, layer=(0, dataset[0]['image'].shape[3] - 1));"
   ]
  },
  {
   "cell_type": "code",
   "execution_count": 33,
   "metadata": {
    "colab": {
     "base_uri": "https://localhost:8080/",
     "height": 373,
     "referenced_widgets": [
      "28414ae02de84e97b071e823dbc748e6",
      "2a93719e8a524eaea396197d080d4573",
      "7097da20fa7f470eb1ce493ca5d2640f",
      "29c177cb2ef441138509b6d08bb45e00",
      "c855ab6711714b44ad77ec158e5719c1",
      "67bf177452db4a4da6df528d5509342c",
      "7d952e85fa9e4a8e981d4ad42f6ba6e8"
     ]
    },
    "id": "ctbROF6a_Rxd",
    "outputId": "f0502ff5-9b90-479f-bf30-e621512d2240"
   },
   "outputs": [
    {
     "data": {
      "application/vnd.jupyter.widget-view+json": {
       "model_id": "28414ae02de84e97b071e823dbc748e6",
       "version_major": 2,
       "version_minor": 0
      },
      "text/plain": [
       "interactive(children=(IntSlider(value=29, description='layer', max=59), Output()), _dom_classes=('widget-inter…"
      ]
     },
     "metadata": {
      "tags": []
     },
     "output_type": "display_data"
    }
   ],
   "source": [
    "def explore_img(layer):\n",
    "    plt.figure(figsize=(10, 5))\n",
    "    plt.imshow(dataset[0]['label'].squeeze()[:, :, layer], cmap='gray');\n",
    "    plt.title('Explore Layers', fontsize=20)\n",
    "    plt.axis('off')\n",
    "    return layer\n",
    "\n",
    "# Run the ipywidgets interact() function to explore the data\n",
    "interact(explore_img, layer=(0, dataset[0]['label'].shape[3] - 1));"
   ]
  },
  {
   "cell_type": "code",
   "execution_count": null,
   "metadata": {
    "id": "e2g5sWLb_Ro4"
   },
   "outputs": [],
   "source": []
  },
  {
   "cell_type": "markdown",
   "metadata": {
    "id": "oJy1wUZk_ADR"
   },
   "source": [
    "#### SpatialPadd, RandCropByPosNegLabeld, RandAffined, RandGaussianNoised"
   ]
  },
  {
   "cell_type": "code",
   "execution_count": 73,
   "metadata": {
    "id": "OP8qlKW3_Es5"
   },
   "outputs": [],
   "source": [
    "trans = Compose([LoadNiftid(keys),\n",
    "                 AddChanneld(keys),\n",
    "                 Orientationd(keys, axcodes = \"LPS\"),\n",
    "                 Spacingd(keys, pixdim=(1.0, 1.0, 5.0), mode=(\"bilinear\", \"nearest\")[: len(keys)]),\n",
    "                 SpatialPadd(keys, spatial_size=(192, 192, -1), mode=\"reflect\"),          # ensure at least 192x192\n",
    "                 RandAffined(\n",
    "                    keys,\n",
    "                    prob=0.15,\n",
    "                    rotate_range=(-0.05, 0.05),\n",
    "                    scale_range=(-0.1, 0.1),\n",
    "                    mode=(\"bilinear\", \"nearest\"),\n",
    "                    as_tensor_output=False),\n",
    "                 RandCropByPosNegLabeld(keys, label_key=keys[1], spatial_size=(192, 192, 16), num_samples=3),\n",
    "                 RandGaussianNoised(keys[0], prob=0.15, std=0.01),\n",
    "                 CastToTyped(keys, dtype=(np.float32, np.uint8)),\n",
    "                 ToTensord(keys)\n",
    "                 ])"
   ]
  },
  {
   "cell_type": "code",
   "execution_count": 74,
   "metadata": {
    "colab": {
     "base_uri": "https://localhost:8080/"
    },
    "id": "aoEtBq5G_Eqe",
    "outputId": "d4e79244-ffb3-4277-d134-085f4a23a526"
   },
   "outputs": [
    {
     "name": "stdout",
     "output_type": "stream",
     "text": [
      "Image: torch.Size([1, 192, 192, 16])\n",
      "Label: torch.Size([1, 192, 192, 16])\n"
     ]
    }
   ],
   "source": [
    "dataset = Dataset(data = data,\n",
    "                  transform = trans)\n",
    "\n",
    "print('Image:', dataset[0][0]['image'].shape)\n",
    "print('Label:', dataset[0][0]['label'].shape)"
   ]
  },
  {
   "cell_type": "code",
   "execution_count": 75,
   "metadata": {
    "colab": {
     "base_uri": "https://localhost:8080/",
     "height": 373,
     "referenced_widgets": [
      "0a279b9d3bf54e83acf7ebf555f5db4f",
      "35415b5fc7ea45348c3783694d7f7bfc",
      "88b37f0a13f44d169776743021885b39",
      "3056b85c925a4744819064e4a259df6f",
      "8ce5017a685e496ba32f9f6dbf91c28d",
      "929d1ab98f414e93b1955bb1f7b06c46",
      "d95f0832cf9f4522b00f8ce1f3183520"
     ]
    },
    "id": "OOF4n8boN9iP",
    "outputId": "b0747fb1-1391-46b3-fe4f-aaff2584179e"
   },
   "outputs": [
    {
     "data": {
      "application/vnd.jupyter.widget-view+json": {
       "model_id": "0a279b9d3bf54e83acf7ebf555f5db4f",
       "version_major": 2,
       "version_minor": 0
      },
      "text/plain": [
       "interactive(children=(IntSlider(value=7, description='layer', max=15), Output()), _dom_classes=('widget-intera…"
      ]
     },
     "metadata": {
      "tags": []
     },
     "output_type": "display_data"
    }
   ],
   "source": [
    "def explore_img(layer):\n",
    "    plt.figure(figsize=(10, 5))\n",
    "    plt.imshow(dataset[0][0]['image'].squeeze()[:, :, layer], cmap='gray');\n",
    "    plt.title('Explore Layers', fontsize=20)\n",
    "    plt.axis('off')\n",
    "    return layer\n",
    "\n",
    "# Run the ipywidgets interact() function to explore the data\n",
    "interact(explore_img, layer=(0, dataset[0][0]['image'].shape[3] - 1));"
   ]
  },
  {
   "cell_type": "code",
   "execution_count": 76,
   "metadata": {
    "colab": {
     "base_uri": "https://localhost:8080/",
     "height": 373,
     "referenced_widgets": [
      "1d8fc0035e1341c19854caebdb30243d",
      "72ae73c8ab7147a3972c38398c152ad6",
      "cab7a9d9843f4a4282bece18511ae67b",
      "e2dafa27458e40a4ace139c70451efe5",
      "70263cba15a44b3aa9a1e5cf7fdb2f67",
      "3cf54f0a26934692b52c6d6ba8eff387",
      "52a776c74d7a40d6b54aaf40e027786c"
     ]
    },
    "id": "yTdPvT5mN9fX",
    "outputId": "66bbee45-3ebc-4713-eda8-14d3eb3935b6"
   },
   "outputs": [
    {
     "data": {
      "application/vnd.jupyter.widget-view+json": {
       "model_id": "1d8fc0035e1341c19854caebdb30243d",
       "version_major": 2,
       "version_minor": 0
      },
      "text/plain": [
       "interactive(children=(IntSlider(value=7, description='layer', max=15), Output()), _dom_classes=('widget-intera…"
      ]
     },
     "metadata": {
      "tags": []
     },
     "output_type": "display_data"
    }
   ],
   "source": [
    "def explore_img(layer):\n",
    "    plt.figure(figsize=(10, 5))\n",
    "    plt.imshow(dataset[0][0]['label'].squeeze()[:, :, layer], cmap='gray');\n",
    "    plt.title('Explore Layers', fontsize=20)\n",
    "    plt.axis('off')\n",
    "    return layer\n",
    "\n",
    "# Run the ipywidgets interact() function to explore the data\n",
    "interact(explore_img, layer=(0, dataset[0][0]['label'].shape[3] - 1));"
   ]
  },
  {
   "cell_type": "code",
   "execution_count": null,
   "metadata": {
    "id": "kSuVOxOAOA0m"
   },
   "outputs": [],
   "source": []
  }
 ],
 "metadata": {
  "colab": {
   "collapsed_sections": [
    "IyvdwlXda3OK",
    "iRQIH68kf-04",
    "j3XRT6we-G1m"
   ],
   "name": "MONAI-Transforms.ipynb",
   "provenance": []
  },
  "kernelspec": {
   "display_name": "Python 3",
   "language": "python",
   "name": "python3"
  },
  "language_info": {
   "codemirror_mode": {
    "name": "ipython",
    "version": 3
   },
   "file_extension": ".py",
   "mimetype": "text/x-python",
   "name": "python",
   "nbconvert_exporter": "python",
   "pygments_lexer": "ipython3",
   "version": "3.8.5"
  },
  "widgets": {
   "application/vnd.jupyter.widget-state+json": {
    "00857702123c4970a1cbcef1bd59cebd": {
     "model_module": "@jupyter-widgets/base",
     "model_name": "LayoutModel",
     "state": {
      "_model_module": "@jupyter-widgets/base",
      "_model_module_version": "1.2.0",
      "_model_name": "LayoutModel",
      "_view_count": null,
      "_view_module": "@jupyter-widgets/base",
      "_view_module_version": "1.2.0",
      "_view_name": "LayoutView",
      "align_content": null,
      "align_items": null,
      "align_self": null,
      "border": null,
      "bottom": null,
      "display": null,
      "flex": null,
      "flex_flow": null,
      "grid_area": null,
      "grid_auto_columns": null,
      "grid_auto_flow": null,
      "grid_auto_rows": null,
      "grid_column": null,
      "grid_gap": null,
      "grid_row": null,
      "grid_template_areas": null,
      "grid_template_columns": null,
      "grid_template_rows": null,
      "height": null,
      "justify_content": null,
      "justify_items": null,
      "left": null,
      "margin": null,
      "max_height": null,
      "max_width": null,
      "min_height": null,
      "min_width": null,
      "object_fit": null,
      "object_position": null,
      "order": null,
      "overflow": null,
      "overflow_x": null,
      "overflow_y": null,
      "padding": null,
      "right": null,
      "top": null,
      "visibility": null,
      "width": null
     }
    },
    "00aadfe7188046d6b9bfc89c63a76d77": {
     "model_module": "@jupyter-widgets/base",
     "model_name": "LayoutModel",
     "state": {
      "_model_module": "@jupyter-widgets/base",
      "_model_module_version": "1.2.0",
      "_model_name": "LayoutModel",
      "_view_count": null,
      "_view_module": "@jupyter-widgets/base",
      "_view_module_version": "1.2.0",
      "_view_name": "LayoutView",
      "align_content": null,
      "align_items": null,
      "align_self": null,
      "border": null,
      "bottom": null,
      "display": null,
      "flex": null,
      "flex_flow": null,
      "grid_area": null,
      "grid_auto_columns": null,
      "grid_auto_flow": null,
      "grid_auto_rows": null,
      "grid_column": null,
      "grid_gap": null,
      "grid_row": null,
      "grid_template_areas": null,
      "grid_template_columns": null,
      "grid_template_rows": null,
      "height": null,
      "justify_content": null,
      "justify_items": null,
      "left": null,
      "margin": null,
      "max_height": null,
      "max_width": null,
      "min_height": null,
      "min_width": null,
      "object_fit": null,
      "object_position": null,
      "order": null,
      "overflow": null,
      "overflow_x": null,
      "overflow_y": null,
      "padding": null,
      "right": null,
      "top": null,
      "visibility": null,
      "width": null
     }
    },
    "028a7a06663f4dddabe48f8951e288d8": {
     "model_module": "@jupyter-widgets/base",
     "model_name": "LayoutModel",
     "state": {
      "_model_module": "@jupyter-widgets/base",
      "_model_module_version": "1.2.0",
      "_model_name": "LayoutModel",
      "_view_count": null,
      "_view_module": "@jupyter-widgets/base",
      "_view_module_version": "1.2.0",
      "_view_name": "LayoutView",
      "align_content": null,
      "align_items": null,
      "align_self": null,
      "border": null,
      "bottom": null,
      "display": null,
      "flex": null,
      "flex_flow": null,
      "grid_area": null,
      "grid_auto_columns": null,
      "grid_auto_flow": null,
      "grid_auto_rows": null,
      "grid_column": null,
      "grid_gap": null,
      "grid_row": null,
      "grid_template_areas": null,
      "grid_template_columns": null,
      "grid_template_rows": null,
      "height": null,
      "justify_content": null,
      "justify_items": null,
      "left": null,
      "margin": null,
      "max_height": null,
      "max_width": null,
      "min_height": null,
      "min_width": null,
      "object_fit": null,
      "object_position": null,
      "order": null,
      "overflow": null,
      "overflow_x": null,
      "overflow_y": null,
      "padding": null,
      "right": null,
      "top": null,
      "visibility": null,
      "width": null
     }
    },
    "0a279b9d3bf54e83acf7ebf555f5db4f": {
     "model_module": "@jupyter-widgets/controls",
     "model_name": "VBoxModel",
     "state": {
      "_dom_classes": [
       "widget-interact"
      ],
      "_model_module": "@jupyter-widgets/controls",
      "_model_module_version": "1.5.0",
      "_model_name": "VBoxModel",
      "_view_count": null,
      "_view_module": "@jupyter-widgets/controls",
      "_view_module_version": "1.5.0",
      "_view_name": "VBoxView",
      "box_style": "",
      "children": [
       "IPY_MODEL_88b37f0a13f44d169776743021885b39",
       "IPY_MODEL_3056b85c925a4744819064e4a259df6f"
      ],
      "layout": "IPY_MODEL_35415b5fc7ea45348c3783694d7f7bfc"
     }
    },
    "14dc41fe46a24c3c875fe5815779527b": {
     "model_module": "@jupyter-widgets/output",
     "model_name": "OutputModel",
     "state": {
      "_dom_classes": [],
      "_model_module": "@jupyter-widgets/output",
      "_model_module_version": "1.0.0",
      "_model_name": "OutputModel",
      "_view_count": null,
      "_view_module": "@jupyter-widgets/output",
      "_view_module_version": "1.0.0",
      "_view_name": "OutputView",
      "layout": "IPY_MODEL_00857702123c4970a1cbcef1bd59cebd",
      "msg_id": "",
      "outputs": [
       {
        "image/png": "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\n",
        "metadata": {
         "tags": []
        },
        "output_type": "display_data",
        "text/plain": "<Figure size 720x360 with 1 Axes>"
       },
       {
        "metadata": {
         "tags": []
        },
        "output_type": "display_data",
        "text/plain": "147"
       }
      ]
     }
    },
    "15fb4cffde2f4e538a8402534e4ebf88": {
     "model_module": "@jupyter-widgets/output",
     "model_name": "OutputModel",
     "state": {
      "_dom_classes": [],
      "_model_module": "@jupyter-widgets/output",
      "_model_module_version": "1.0.0",
      "_model_name": "OutputModel",
      "_view_count": null,
      "_view_module": "@jupyter-widgets/output",
      "_view_module_version": "1.0.0",
      "_view_name": "OutputView",
      "layout": "IPY_MODEL_a712bd4c2fda4b4e9fb6e1791c6e1477",
      "msg_id": "",
      "outputs": [
       {
        "image/png": "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\n",
        "metadata": {
         "tags": []
        },
        "output_type": "display_data",
        "text/plain": "<Figure size 720x360 with 1 Axes>"
       },
       {
        "metadata": {
         "tags": []
        },
        "output_type": "display_data",
        "text/plain": "147"
       }
      ]
     }
    },
    "1bde713145f44d66b9859fcafb5aaa17": {
     "model_module": "@jupyter-widgets/controls",
     "model_name": "SliderStyleModel",
     "state": {
      "_model_module": "@jupyter-widgets/controls",
      "_model_module_version": "1.5.0",
      "_model_name": "SliderStyleModel",
      "_view_count": null,
      "_view_module": "@jupyter-widgets/base",
      "_view_module_version": "1.2.0",
      "_view_name": "StyleView",
      "description_width": "",
      "handle_color": null
     }
    },
    "1d8fc0035e1341c19854caebdb30243d": {
     "model_module": "@jupyter-widgets/controls",
     "model_name": "VBoxModel",
     "state": {
      "_dom_classes": [
       "widget-interact"
      ],
      "_model_module": "@jupyter-widgets/controls",
      "_model_module_version": "1.5.0",
      "_model_name": "VBoxModel",
      "_view_count": null,
      "_view_module": "@jupyter-widgets/controls",
      "_view_module_version": "1.5.0",
      "_view_name": "VBoxView",
      "box_style": "",
      "children": [
       "IPY_MODEL_cab7a9d9843f4a4282bece18511ae67b",
       "IPY_MODEL_e2dafa27458e40a4ace139c70451efe5"
      ],
      "layout": "IPY_MODEL_72ae73c8ab7147a3972c38398c152ad6"
     }
    },
    "1eac61ae6ac3445c90a871d9b275550e": {
     "model_module": "@jupyter-widgets/output",
     "model_name": "OutputModel",
     "state": {
      "_dom_classes": [],
      "_model_module": "@jupyter-widgets/output",
      "_model_module_version": "1.0.0",
      "_model_name": "OutputModel",
      "_view_count": null,
      "_view_module": "@jupyter-widgets/output",
      "_view_module_version": "1.0.0",
      "_view_name": "OutputView",
      "layout": "IPY_MODEL_2a248e87edac4c6a9a7078756946fb4c",
      "msg_id": "",
      "outputs": [
       {
        "image/png": "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\n",
        "metadata": {
         "tags": []
        },
        "output_type": "display_data",
        "text/plain": "<Figure size 720x360 with 1 Axes>"
       },
       {
        "metadata": {
         "tags": []
        },
        "output_type": "display_data",
        "text/plain": "147"
       }
      ]
     }
    },
    "28414ae02de84e97b071e823dbc748e6": {
     "model_module": "@jupyter-widgets/controls",
     "model_name": "VBoxModel",
     "state": {
      "_dom_classes": [
       "widget-interact"
      ],
      "_model_module": "@jupyter-widgets/controls",
      "_model_module_version": "1.5.0",
      "_model_name": "VBoxModel",
      "_view_count": null,
      "_view_module": "@jupyter-widgets/controls",
      "_view_module_version": "1.5.0",
      "_view_name": "VBoxView",
      "box_style": "",
      "children": [
       "IPY_MODEL_7097da20fa7f470eb1ce493ca5d2640f",
       "IPY_MODEL_29c177cb2ef441138509b6d08bb45e00"
      ],
      "layout": "IPY_MODEL_2a93719e8a524eaea396197d080d4573"
     }
    },
    "29c177cb2ef441138509b6d08bb45e00": {
     "model_module": "@jupyter-widgets/output",
     "model_name": "OutputModel",
     "state": {
      "_dom_classes": [],
      "_model_module": "@jupyter-widgets/output",
      "_model_module_version": "1.0.0",
      "_model_name": "OutputModel",
      "_view_count": null,
      "_view_module": "@jupyter-widgets/output",
      "_view_module_version": "1.0.0",
      "_view_name": "OutputView",
      "layout": "IPY_MODEL_7d952e85fa9e4a8e981d4ad42f6ba6e8",
      "msg_id": "",
      "outputs": [
       {
        "image/png": "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\n",
        "metadata": {
         "tags": []
        },
        "output_type": "display_data",
        "text/plain": "<Figure size 720x360 with 1 Axes>"
       },
       {
        "metadata": {
         "tags": []
        },
        "output_type": "display_data",
        "text/plain": "17"
       }
      ]
     }
    },
    "2a248e87edac4c6a9a7078756946fb4c": {
     "model_module": "@jupyter-widgets/base",
     "model_name": "LayoutModel",
     "state": {
      "_model_module": "@jupyter-widgets/base",
      "_model_module_version": "1.2.0",
      "_model_name": "LayoutModel",
      "_view_count": null,
      "_view_module": "@jupyter-widgets/base",
      "_view_module_version": "1.2.0",
      "_view_name": "LayoutView",
      "align_content": null,
      "align_items": null,
      "align_self": null,
      "border": null,
      "bottom": null,
      "display": null,
      "flex": null,
      "flex_flow": null,
      "grid_area": null,
      "grid_auto_columns": null,
      "grid_auto_flow": null,
      "grid_auto_rows": null,
      "grid_column": null,
      "grid_gap": null,
      "grid_row": null,
      "grid_template_areas": null,
      "grid_template_columns": null,
      "grid_template_rows": null,
      "height": null,
      "justify_content": null,
      "justify_items": null,
      "left": null,
      "margin": null,
      "max_height": null,
      "max_width": null,
      "min_height": null,
      "min_width": null,
      "object_fit": null,
      "object_position": null,
      "order": null,
      "overflow": null,
      "overflow_x": null,
      "overflow_y": null,
      "padding": null,
      "right": null,
      "top": null,
      "visibility": null,
      "width": null
     }
    },
    "2a93719e8a524eaea396197d080d4573": {
     "model_module": "@jupyter-widgets/base",
     "model_name": "LayoutModel",
     "state": {
      "_model_module": "@jupyter-widgets/base",
      "_model_module_version": "1.2.0",
      "_model_name": "LayoutModel",
      "_view_count": null,
      "_view_module": "@jupyter-widgets/base",
      "_view_module_version": "1.2.0",
      "_view_name": "LayoutView",
      "align_content": null,
      "align_items": null,
      "align_self": null,
      "border": null,
      "bottom": null,
      "display": null,
      "flex": null,
      "flex_flow": null,
      "grid_area": null,
      "grid_auto_columns": null,
      "grid_auto_flow": null,
      "grid_auto_rows": null,
      "grid_column": null,
      "grid_gap": null,
      "grid_row": null,
      "grid_template_areas": null,
      "grid_template_columns": null,
      "grid_template_rows": null,
      "height": null,
      "justify_content": null,
      "justify_items": null,
      "left": null,
      "margin": null,
      "max_height": null,
      "max_width": null,
      "min_height": null,
      "min_width": null,
      "object_fit": null,
      "object_position": null,
      "order": null,
      "overflow": null,
      "overflow_x": null,
      "overflow_y": null,
      "padding": null,
      "right": null,
      "top": null,
      "visibility": null,
      "width": null
     }
    },
    "3056b85c925a4744819064e4a259df6f": {
     "model_module": "@jupyter-widgets/output",
     "model_name": "OutputModel",
     "state": {
      "_dom_classes": [],
      "_model_module": "@jupyter-widgets/output",
      "_model_module_version": "1.0.0",
      "_model_name": "OutputModel",
      "_view_count": null,
      "_view_module": "@jupyter-widgets/output",
      "_view_module_version": "1.0.0",
      "_view_name": "OutputView",
      "layout": "IPY_MODEL_d95f0832cf9f4522b00f8ce1f3183520",
      "msg_id": "",
      "outputs": [
       {
        "image/png": "iVBORw0KGgoAAAANSUhEUgAAAR4AAAEzCAYAAADn+2w+AAAABHNCSVQICAgIfAhkiAAAAAlwSFlzAAALEgAACxIB0t1+/AAAADh0RVh0U29mdHdhcmUAbWF0cGxvdGxpYiB2ZXJzaW9uMy4yLjIsIGh0dHA6Ly9tYXRwbG90bGliLm9yZy+WH4yJAAAgAElEQVR4nOy9eZClZ1U/fu7a9/Zdunt6ZkIMSyI4M4FgqFQMxGi+JBVJEDAEqoAEMlIKFCgBLSxJgoKCgFLspCgWMRAokSVgacqiRAQDBZXgAOIfKggEkskymentrn27731/f8zv88znfvo87/t2ZgSRPlVd3f0uz3qez/mc8yxvIUmSxHZkR3ZkR36MUvxJF2BHdmRHfvZkB3h2ZEd25McuO8CzIzuyIz922QGeHdmRHfmxyw7w7MiO7MiPXXaAZ0d2ZEd+7LIDPD9lcumll9qll176ky7GjuzISUn5J12A/82yf//+zGduueUWe+ITn/hjKM1Pp3zmM5+xG264wa666ir78z//8590cXbkf4nsAE8OefnLXx69d8YZZ/wYS7IjO/J/Q3aAJ4dcd911P+ki7MiO/J+SnRjPKZK7777bzj//fLvgggvs8OHDU/f6/b499alPtbPPPtvuuOOOcP3666+3/fv32913320333yzXXHFFfb4xz/eLr74YnvTm95k3W43d/6j0cg+8IEP2DOe8Qw799xz7bzzzrNrrrnG/uEf/mHLs/fcc4/t37/frr/+evvBD35gv/d7v2cXXnihHThwYKp8X/7yl+3FL36xPfGJT7RzzjnHLrvsMvuLv/gLW1tbewgtlC2dTsf+8i//0g4ePGgXX3yxnXPOOfakJz3JXvrSl9o3v/nNqWdXV1ft3HPPtcsuu8xiu35e+tKX2v79++3f//3fp67/27/9m73iFa+wiy66yM455xz7f//v/9lrX/tae+CBB7akce2119r+/fttNBrZTTfdZJdffrmdc845dv3115vZ8Xa/5ZZb7KqrrrJf+qVfsnPPPdcuvfRSe9nLXmZf/epXT1HL/N+THeA5RfKIRzzC/uzP/sxWV1ftVa96lW1uboZ7f/qnf2rf//737Xd/93fdeNCb3vQme+9732sXXHCBHTx40BYWFuwjH/mIHTx40NbX1zPzHo1G9tu//dv2tre9zTY3N+2aa66xK6+80u666y77/d//fXv729/uvvejH/3InvOc59jhw4ftGc94hj3nOc+xZrNpZmY33XSTvehFL7Jvf/vb9uQnP9muvfZae9SjHmV/9Vd/ZVdfffW2QDGvfO9737N3vvOdViwW7clPfrK98IUvtIsuusjuuOMOe8ELXmC33357eHZubs5+/dd/3e6++253gN933312++232+Me9zh7/OMfH65/+tOftquvvtpuv/12e+ITn2gHDx60c845xz71qU/Zs5/9bLv33nvdsr3iFa+wj3/843beeefZb/7mb9q+ffvMzOyGG26wN77xjba5uWlXXnmlXXvttXb++efbd77zHfvyl798ilvo/5AkOxKVffv2Jfv27Uve/e53uz/vf//7t7zzute9Ltm3b1/y1re+NUmSJPnMZz6T7Nu3L7n22muT8Xg89eyrX/3qZN++fckFF1yQ3HPPPeH6eDxOXv7ylyf79u1Lbrrppql3LrnkkuSSSy6Zuva+970v2bdvX/KiF70o2djYCNePHj2aXHLJJcm+ffuSQ4cOhet33313qNvb3va2LXX42te+luzbty957nOfm6yurk7du/XWW5N9+/Ylb3zjG7Oab+r5V7/61ZnPrq2tJceOHdty/b777ksuuuii5Iorrpi6/u1vfzvZt29fct111215593vfneyb9++5BOf+ES49v3vfz953OMel1x22WXJ/fffP/X8V7/61eTAgQPJ7/zO70xdf8ELXpDs27cvefrTn76lbGtra8n+/fuTq666Ktnc3NxShqWlpcw6/6zKDuPJITfddJP784EPfGDLszfccIMdOHDAPvjBD9rHPvYxe/3rX2+7du2yt771rVYs+s198ODBqSB1sVi0P/zDP7RisWi33nprZvluvfVWKxQKdv3111u5fCJst7i4aC972cvMzOxTn/rUlvd2797tBs4/+tGPmpnZG97wBmu321P3nvWsZ9nZZ59tf//3f59Zru1Kq9WyXbt2bbn+sIc9zK644gr7/ve/P8VIHv/4x9s555xjX/jCF+zBBx8M18fjsX3605+2RqNhT3va08L1j3/847axsWGvec1r7LTTTpvK48ILL7RLL73UvvjFL7ps7pWvfOWWshUKBUuSxKrVqtu3CwsL+Sv/MyY7weUc8l//9V+5n52ZmbF3vOMd9uxnP9ve8IY3WKFQsHe96122d+/e6DsXXHDBlmuPeMQj7PTTT7fDhw/b2traFgCAdLtd++EPf2innXaaPfrRj95y/0lPepKZmf3Hf/zHlnsHDhywarW65fq3vvUtq1Qq9rnPfc4+97nPbbm/sbFhS0tLtry8fMoH16FDh+yWW26xb33rW3bs2DHb2NiYuv/AAw/Yz/3cz4X/r7nmGrvxxhvt1ltvtZe+9KVmZvYv//Ivdv/999vVV19tjUZjql5mZnfeeeeWuI+Z2bFjx2w8Httdd91l55xzztS9X/zFX9zyfLPZtEsuucS++MUv2pVXXmlPecpT7Pzzz7dzzz3X6vX6Q2+EnwHZAZ7/ATnrrLNs//799s1vftMe85jH2K/8yq+kPr+4uOhe3717tx0+fNg6nU4q8JiZ7dmzx70PwPMCwrt373bfWVlZsc3NTbvppptSy93v908p8Hz+85+3V7ziFTYzM2O//Mu/bI985COtXq9bsVi0O++80+68804bjUZT7zztaU+zv/iLv7BPfvKT9pKXvMSKxaJ98pOfNDOz5z3veVvqZWb2oQ99KLNeKrH2fec732kf/OAH7bbbbrP3vOc9Znbc+Fx++eX26le/OtrGP+uyAzz/A/KBD3zAvvnNb9rCwoJ997vftfe///3B5fHk2LFj9vM///Nbrh89etTMjrsgMUEwGM+qHDlyJJpGoVCIppkkid15553RfP8n5F3vepdVKhW79dZbt7C31772tW55arWaXXXVVfbhD3/YvvKVr9gv/MIv2O23327nnnuuHThwYOpZtNWhQ4fC33kl1la1Ws2uu+46u+666+y+++6zr3/96/bZz37W/u7v/s4OHz5sf/3Xf72tfH5WZCfGc4rlG9/4hr373e+2s846y2677TY766yz7D3veY/967/+a/Qdb0Ddfffddt9999kZZ5wRZTtmxwfTIx/5SHvggQfsrrvu2nIf0+OPfexjc9fhCU94gq2urtp3v/vd3O+cCvnhD39oj3nMY7aAzmQysUOHDkXfu/rqq61QKNgnPvEJ+/SnP23j8die+9znbnnuCU94gplZal+cjJx++un2G7/xG/ahD33IHvWoR9mhQ4dseXn5fySvn3bZAZ5TKJhKLxaL9o53vMN2795t73znO61UKtkf/MEfBKqvcsstt0yt/ZlMJvaWt7zFJpOJPetZz8rM99nPfrYlSWJvectbbDweh+tLS0v23ve+NzyTV174wheamdkf//Efu2tb+v1+iJecSjnjjDPsrrvumsozSRJ7z3veY//93/8dfe/MM8+0Cy+80L70pS/Z3/zN31i73Z4KKkOe//znW6VSsTe/+c32gx/8YMv90Wi0LVBaWlpy43/9ft/6/b6Vy2WrVCq50/tZkh1XK4fAd/fksssus7PPPtvMzG688Ua799577Y/+6I/CtQMHDtj1119vr3/96+3666+3973vfVvSOO+88+yZz3ymPfWpT7VWq2Vf+cpX7D//8z/tcY97nL34xS/OLN9v/dZv2e23325f+MIX7Morr7SLL77YhsOhfe5zn7Njx47Zi170Ijv//PNz1/fCCy+0V73qVfb2t7/dLr/8crv44ovt4Q9/uPX7fbv33nvt61//up133nmZsRKWQ4cOhUV3Ko997GPt4MGD9sIXvtBe97rX2VVXXWVPecpTrFwu2ze+8Q373ve+F4K4Mbnmmmvsq1/9qh09etSuvfZaq9VqW5559KMfbW984xvtNa95jT396U+3X/3VX7UzzzzTNjc37d5777VDhw7ZwsKCG1D35IEHHrBnPvOZtm/fPtu/f7+dfvrp1u127Utf+pI9+OCDdu21127bpftZkR3gySFpQdYzzjjDzj77bPvoRz9q//RP/2SXXnqpXXvttVPPPP/5z7evfe1r9vnPf94+/OEPB0YBufHGG+3zn/+8ffKTn7TDhw/b/Py8HTx40F75ylfazMxMZvmq1ardfPPNdvPNN9ttt91mH/vYx6xUKtmBAwfsxhtvtKc//enbrvNLXvISO++88+yjH/2oHTp0yP75n//Zms2mnXbaafac5zxn22n+6Ec/sh/96EfuvbW1NTt48KA973nPs2q1ah/5yEfsb//2b21mZsbOP/98e/Ob32z/+I//mAo8l156qS0sLNjy8rLrZkGuvPJKO3DggN188812xx132Fe+8hWbnZ21vXv32uWXX25PfepTc9fpjDPOsOuuu87uvPNOu+OOO2x5ednm5+ftrLPOsle96lUu69qR41JIkp2vTPyk5Prrr7fPfvaz9oUvfMEe/vCH/6SL81Mtd999t/3ar/2anXfeeTsB3Z8C2Ynx7Mj/CfnQhz5kSZLYC17wgp90UXYkh+y4WjvyUyv33nuv3XbbbXbXXXfZZz7zGTtw4IBdccUVP+li7UgO2QGeHfmplbvvvtve9ra3Wb1et4suusj+5E/+JLotZUf+d8lOjGdHdmRHfuyyYx52ZEd25Mcuqa7WO97xDkuSxJIksclkEq5j+XihULBCobBld26xWAz3+DlIkiRhZ+9kMrHJZGJJktjS0pItLS3Z4cOHw56cQqEQ0uYyeILnkBfSR378jNbFI35a/lKpFNpjPB5bqVQK5eLzd7xycf2RHtoAgvQ8GY/H4VnUAWXhtCeTSShrvV63+fl5azQa1mg0rNlsWqVSsXK5bBsbG+Gn3+/b0tKSdbtdW1tbs9FoZKVSycrlsi0uLtqePXus1WpZq9WyXq9nx44ds8OHD9v9998f+qRcLlu73bZWq2WLi4u2ublpa2trtra2ZsPhcKoNUG/0T7lctlqtZnv37rX5+XkrFos2HA7t/vvvt36/b8PhcEqHisXiln5E+3B76jYHvqfthnvaN57Oqc7w8/wO2mz37t22sLAQ+rdcLtvs7Gw4SaBYLIb2RhpJktjm5mbQK1yrVqtWq9Ws1WrZYDCwfr9vy8vLQc9j4tU17TnUZzwehx9cR/uXSiUrFou2ublpw+HQ7r33Xut0OtZqtWzPnj12ww03RPNJBR5uBL3OBeRCY7UmCo1OYLDhyqMieO5kfPTJZDI1eFlpkD9fKxaL4bqCQEw8AEUnQNBJXBfOh3/yStog4nsMiM1m0+bm5qaUnMEKQFqr1azdblu1WrWZmZkw0EulkjUaDSuVSlYoFGw8Hlu5XLaZmRmbm5uzbrdro9HIkiSx2dnZAHLlctk6nY6tr6/beDze0qeqU5PJxNbX18Pm1EKhYOvr69bv921jY2OqX3nQq+5pu/D/rG9ee8aMJOtF7F0W6Bfao9VqWaPRCLrGebBBQxtz+3DZtV4MwgqS6FeVNB339CvWliooQ5rhVMkEHi5YrBO5ANVq1arVarBAyjhUuDPL5bJrzbYrsby03JPJZCqvhwI+rKjaPrE0lQ3mlVj5vEEHxjM7Ozt1RAMYJspQLBatUqkEcKpWqzYcDi1JEisWi9ZoNKxarQbQLhaLVq/Xrd1uB3BJksQajYa1222rVCo2mUxsOBwG0IDE2hZl6na7wcJvbm6GtGPvMphntQn3dQykYmnhXTUYnm4DRBqNhrVaLWs2m1ar1aYYEfLiAQu9z2L1nnD+rM8xY+7VP0v3lV3rGED5846hzFmtGMhoJQA68/PzVigUbDAYBAXmRlfUx9+lUslmZmbCQNnY2Jjad4Q8sjrGUw4tP5chD9PiNPBcuVwOQFkoFILl1/w8axljK/xslmVSiwcplUpWqVSsVqtZvV6fOhgM5dvc3Az1KBaLNh6PrVKpBADiduc6gk3NzMzY4uKizczMBHAB4AwGg+C2AeC4blpnWOfJZGKj0chGo9GWOnEfoMxIR9MHK/PeBXOCvgHwvHLiOvIDoHB5C4WCbW5uTrmb9Xrd6vW6nXbaadZqtUJZGKS4/PAQcH1zczN4CuzecN3RZ+PxOAA1A6O65FyvNEOXBzQUfMDklDDo2FXJBB6Pznr/w3K2Wi1bX1/fYq24UWJKWKlUrF6vW7PZtH6/H/VbvZgP58XWA2kwlfXqouzHLL3xUBcoCfLJ03Gx9PgZT0FUeRjokHepVLJarRZcHi0T3uHBjbbhAYUf3uQIYEF6tVrNZmZmLEkS29jYsJWVFVtbW7Pl5eUAUshH2UEeg4YyqSuhIMT3eVBrWzPDqNVqNh6PbWNjY+qMH85TB66GDnANgLSwsGDtdnsqnqZtDnCq1WpWLpenXBQYBXaZWCqVilWrVatUKra+vm7D4XBqnHG50oTHiuoCCxtRb+zE8IBBMyYPeR2PZloqlYKbBT9d6RmLBz5Af1hqRn+lkB5DURoLNFamlSZZjIpjRaqEXIaYS6Q/KKcXgI7VD39DUTn/Wq0WWCMrdJqyMJB7+cLCjkYj6/V6QalqtVrIAzEZxHUwGJmlxlycNFHjltY/OqnB1726e+2eFV7QgQ2mWKvVbG5uzprNptXr9cBiVPfAGGdmZqbiVmAwnLaWD2wLYLm+vh76n8vvga7W3QNyr33YECmR0PR50iNrHOV2tdLuw9ICkQeDQVayW6wfCg66DwBj5OTKAnw81gNLrUcSZIGPNhbSV5CDW8DAyq6PpgNGAcUrl8thYMKVqVQqQRFjFojdAFjrjY2NQLdLpZI1m80APLCosboy+Hl5sQXb3Ny0brdrR44cCVa51WrZzMyMFYtF6/f7NhgMbGNjw2ZmZqZctPX19QDWed3bGCv22pfLyjOP3gDBoBiPx1NgDPfTaw8ecKyPMJIIJC8sLIT2UIFbhQA+QBu6hDKxjrIbZnY87jUajWxjY8MGg8EWo6NtlSbahhrHgpRKpS3sJWZc2YDpkbUq22I8aRaLLZw+4w34WANxUBQNjecxcGNgyL4tKOnGxkagpXgmL/tBefCegpxaQY6boKyVSsVmZmYCKM/MzFi1Wg0xIg4sZgU/vbpquTg9Ly0ejBorwf8YEEmSBMDpdDp25MgR63Q6QUmHw+HUlKrZ8WM/EXwG43zggQes3+9PLTlIc4kYmDympuxXZzK1j9liA0Qx2+YNXAYv1JX7GC5Ts9m0xcXFsFyBGabqBxuaSqUS6sDT1RsbG1NGE/o7Go2m2CRPb3MbcT28mBiLZ1S5rZjNs6hLq+/h3VMS44m5SywIdA2Hwyh183x8fo5ZD9w2RlxGY09heMB5loP98jziuXhaH82f/XBQcPjzsHgcrOQ65bVW3BYMxJ4V89wFrV+ar76xsRGAp9frBUuWJMmWQDDHK9B/ZmaNRsNGo1EY8KzY/LeZP0jSrHps4HltxfXG82gfTUd/cL1YLAZw3bVrV1iGoGtwlHGxfgB4oItIHzoBfUHbD4dDGw6HqWvF0lhPHoPvuZsxlylWR5aTdrVihVLB9OdwONwSjVeGkTbA0Dm1Wi1YVHZnGFi8WS88xwuvzKaZC9/3hMvL4OPFdDhvMBr4+VBQACgAJ0s8JdI2RFrsToGhaFDeYxVoB43rcBvCDcBCtfX19Sl3iV08DuijX7BYcXZ21rrdbng/je2orjE4sP7wuxjEmg63GZ7hAZEWK2SXDIL2RvB4fn4+HEaP97TtGdTYzUb+HLBmhlwqlazf71u327XBYBBA3mO0zELyGK+0Z7i908RjPtx2We/ndrViissDvd/v27Fjx6xUKgXaaDY9eLiTVMmQFpR1OBxapVIJVhL3zCwEsM1ODBaeatzc3AzWme/jd7lcngoQe8JxJFUuDEAEC+fm5sLajVarFWI2McaUNlC8dvbKxmXMY/X1b6Sti/wA9nxN4x8KBjAECEKXSiXb3NwMIFyv10OfqEvg0Xaui7pN2t/oc51hRF0YFBF7UhbNrJGBB3UHICwsLNj8/HyIo/GUPLM4BUMw3kKhEAL0rKPQbaz5WV9ft6WlpeBBINaj/ahuM/qEY2Ho35hbq+2P9LxZRM0XefLPKZ3VUgvqKcd4PLZ+vz8VI/DcLa5g7B4i/zMzM1PTnUpPucGZBbEicKMzGuO6NhIPKs+NKRQKU25Uq9WydrsdgoYcKI4BmypBGrDH2kvjD1nWLkanOQ/uA4Aq1lUh5sDCSot3x+OxdTqd4I7BWGDwcb+oa+yxFG0frasOkjRry+CpfarsCuwEMcdGo2Fzc3Ohj1EWBjt11yBgO+Vy2cbj8dQCS4QCoDODwcAGg0H4fHXapIPnhuIZXnPkGagY24MwCMdcOe4fuNKeN6KSC3iyaBMXFNZO38uib3oP8RCsmoV4e3I4DVb+2D0dbCw8heg1OCwou1RYFg/lyUN3Y23gMRNvoEC86c6Hmj8LM0P0AwZNVj5JkoSZrPF4HJgB6hJjBl7/xIQZSRbQmKXHHDz2yW5Pq9UK68s4iIx3Y8DP13giYX19PcS8cA95TibHV317wXjP4KfV22M3XMY8s4tePzB4c111iUma5N4yEbuvDcFuCAqZZrU9d8vMQqcj0Ma+MDcYsystLyM8ntEYg9JSrR8rFaZP6/W6LSws2NzcXAgkq+XXNkhrM69N1PJ4ZfOe5Txj9YoJD2ZWLmxMnJmZCVO4CnbqDk0mk2C1eTrdq4N3zaP3uB+z8Cp6jwdFzB0AC5udnQ173RBA5nVJSANt4RlbThPxLjML7YIZObR1qVSy9fV163a71u12p9wmro8H/DzL5TFC1N9rXy8+BEbk9QO7uOhXxPxihl9lWyuXPcsQAxVUni2yPuOxDf4bncHve43qzRAoreR7Cj4a7+EGRweUy2XbtWuXzc/PW7PZtGazGeIFHuiltVus/h7bUVEl4sCkl57WhdNOY1Tc3mwE+v3+FreHy4B3eZZnNBpFXUXuryxWov2H8m1sbIQ66DoeHgBphgmbX2dmZqZcKl4kaWZTgyvGnBmMELep1+uWJEkI0ms60HUEkhEjZcCOAX2svbitUF9cU4n1j97zdAztrDvp0yTXAsI02ptGj1EgDUx6BddrMUumHez56THRBkSZYtbU7MRsFdamYIEeL+zKI7HOi7WvBwppsxbbcbPUNUhrN4AIYlrlctlGo1Ho15hFRJocX+D7Ghz38o8Bc2wmRQ0UA1vMnULcBdsY2IVmlhJjnWkuEMAMM19Yk6OzvswgsCBUg74xd8gDbn03NnunaXMdYoyT7/NMIYO9975KpqvlKbLnO3pBRq8SOgDT6LYnWllmVLE0oWQeRWdAVAuJQVev121ubs7m5+dDYDHLXdL8vXqoz+09g/dVwZnyox3yHkvAZWYwUyBhy40NvAgwx1xqNjK4z8/yc9qHsTZgphszPB6b49krFq4T6tVqtaxWq4UlEd7xKjoeuD5e+QE6zWYzuHbYW8XtwHvaGHhQhli/euw/NuBj+qF6xW2IPGI6noYPJwU8aqli1oOtGr8Dv08bN1Yhz2rzwOJ38AxX0LOEMSvJdeKl53ge5Z2fn7d2ux3OtYnRVVZ4trRp7CbLvVCW44Edu3rYIxUDRc6bXUsWBgSkgRjF3NycdTodM7PwG+/AHeWZQsTluC1UUT2jhXLxdhKN1zEriMX4uE+hg1g53mg0bHZ2Nuxtw2JHbgNPVAeZXfH7tVrNdu/eHWY8B4NBMH6DwSCUCYatWq3aZDIJsR+kz23jrVvzdCpNYmNYyQJEWaQaZ2ZrbMBPytWKUd2YX+tROigO4gQQj57FmIo3kLyK5aGY3FGxxoeS8uFWulBMRVmXJzrwubNwzZOYsnjpsmublSYPGgVUDzCxeI73CnFwlN+PgS//ry64ug1aX8TpdGMkG0VOD/3IR4UAeMBucJ/ryq4Qt73qKQAWAteqWq1as9kMLCpJknDMC5gPtwnKoYs/wQQ9FzvNIPH/qv887mAks1x4/VFPQYH/pBlPTGHyCDLmLQQ4QoE7l//nwiuKeqINq/EEXPPAh//WemHZOisPgqX8vg5OXNuOG5ZH0piLJ2k+vSpIVlo8+LCmZTgchtMD+DllSnmAkqm+Bps5HegIz0apqwNDhelpLAWADmI1Oa7HXAqPhXkDT11HsCccS4Kpd5RZ2wb5o7zQX9UzdZO4bDFXh1lKGqggXz4aJZZmGnPV504KeLhiXCBWRs6MlQedgdkfnW7UVb3aKViqzxRPFZlnoThu4IGPWjUPNJAWfH5sAIy9mzaw8oK2R9VjdYwBikfHY8FQVgx2K9MUhft9dnbW1tfXrdFohP1DPGhQHtUbLxaiA1DbBD9w1zF4Wc9gnMA0ECSGoeMNuTEw1nN2mPUpSGKyAQF33nHearUCe5lMJuH77XyGdbVaDbvR4Wrhed6Cwu3O+Wt/8t9e2EH1x4u3KpB5eu2BjjJC1uWTBh5PYm6RCqwAfFHe6wOayqDBMQIUnDcXIm+lht6UofrHHAvRMkJKpeNHVu7atSssCtSAnOfCeG5J7H8WjlHEypTnupaPB7RaT486K3BrngxSHIxdXV3dcrwp1xvXY8DNiqouBQeezSwMSugOwKRcLocFfigbWA2vIueBx4YRgulgPhEBZUcaYMKNRiMEpgEcKAumwjc3N6eC1XgORnUymYS4Wa1WC0eKoI6qd3qOdyw+F7vnBeHVzWXd4We1X5mBYszypufYuyzbmk73fEjNhGcSFCTUv2SAYeVHY+CoAEVQ3Mc+Lk88i8t1wjMMepVKJXwpAdOpHtvKclV0cLFlUaXIAh2vIz3m51mtLCXyypsV8Aa7QLxkMpmE/VdqDLz0lQHpLKKXhs6KwaDhp91ub9mUy8dP4IfdNVxDW0HXADIMTljLA+ABoGHAwZXTEx/B1qDnABTMioIl1Wq1LVtRslzgtH7KcrM9puM9m1rKPoUAACAASURBVHWPjXya++XJtrZM5EEzLgAsFjpd01NflNOAq8XHbIRC//8oO5lMwn31QTUfvq6Cw8eazabt3bs3xHTMpoOkHmtIS9erV9oxFjHQ8dLyAAyDCUqet5zIO49Cmlk4i6bRaEx9goXT4YHB/QFjxOVm8I8BJtxlAMGuXbvCQk64OAgg86JTZVNw19TNR2AYIIRyFwqFkCYD2MbGhg2HwxCo5vVAOMRuNBqF40kB0HDBoHOLi4tWrVbDIsgYI1eGzXXQAHGMqTDrQdvkYdGcBreLul1e6CQmD/noUy4EKsWDCtdGo1HYUMfMxVNO/j5Xr9ezfr8fzl42m95pjL95OwW7BMiPy+u5QKVSyebn58NPo9GYopIMakrVYyyKRTuEn9G4jSqO92mYNIqt7ar+NsBUn0E+PLA8NxDlQpB5fn5+yhVmFuG5v9zmXpthQCvYQzcAdouLi7Zr164w28juVKFQmDoyl88k1kWf3D6sV6VSaWp6HfVBmnCbZmZmgs40m82pWdskScJ3ynq9XnBLAdL4+gTyQh04juW1vzJ/NmY6Jlln0gyQtgnqqWEFNSD847nKaZJrVktdh9hzXiH5GXat1L9kKm1m4WwfPdrC7MSpbawMXp4eHeUYQbVanfr+EWY6vIZl0Il1oLIb72/v3Zir5N1Lk7Rn1V2JuTXcR7HYjdnxtsWubZyQx/cZnHmXNBRbD0HDO6rMAAKcf9Nut2337t3hUzq6Axs6gfe1D7VNtO1Qfl7+z4yOt1YgdoPd+NhfhfYpFk+sf+r1era+vh7cUoAQXDHEiTiIjnQ8o6pxziwdSDOIShbUJUtzo/j6KYvxxPxIRVSIsgq+xpXMUookSWw4HE7t4OVKovO8e14dcB/P8P4ZrEiG1VEl9phDmmgbcBwh5nqmtZ/ZCTdD6TXXj5+NlYspubq4zPLyCFyeer2eerQsWClmprAGB+ATE46HVCoVm5+ft927d9vc3Jzt2rUrfCuMVwNjQKOdNOaS1X/cFlhTo7ElAA7HALH/igPtYNLVatXa7bYtLS3Z+vq6DQaDKb1Ce6OuCjxaNmUWLLH6oZ/TXG12w5hxqjul1xggeab6pIAHCsPuBVcGGTBweMrEJ6/BoqJztUGLxWKI7egqTjQQ8tMVlF6DcNrww5vNpi0sLIQzVqCgfNK/52rFWF/MOrCCpDEcvuYxBa6HuivI33OJ8By7CtrWMZbhpctsyMzClxUKhUI4FlXPAmYXjs9qQd34dAEsrEOwdnZ2Nvzs3r07uFezs7MhLwYyHELG7DrGhrXtuY5wedBmcIcQDIaOPvjgg7a6uhqOJuUBa2Y2NzdnCwsLdsYZZ9jpp58eYjuDwSC49nDRRqNR2JLCs7isP2xEvYHN7EgZdFr9WVR/OV1+RvMFu0PZTsrVUuU0yw5cKRrzwGU0ZQBiBTU7cWwAWwMFFPaB04JaDDo40kLPymXAUXdK/+bB7+WV5n6hfdL+13e8fLKsibrIsEbegWfe71j6GpODuzWZTGx2dtY6nc6W3eCTyWTLily+p3XEjBmWM6DP5ubmwizm2tra1MAEKwFAcLp6bEpW/+A9bgswHXzscGVlxYbDofV6vbDp0ztKF4ehlctlO/PMM61SqVij0bAHH3xwaqEhvvGFzam8yllXVpvZFCNSBqSAo/X0XC6vbz03XNsK7a7uZR6QywU8il4x2hYDJR3EHogxuKAj02IMZlutgDY0Dzq4V2A52AhYKBSioIN0Y3XzJM3dVIkNAgZTHayeqNvlxbWYTaWVISbMKNFGvBWhXq9bv993F+PpqnRlWChHoVAIgxGzVQCeRqMRQIbPbmZWyC4R1y3GEFi4bGrd4e6VSiUbDofW7Xat1+uFzzh5BsjMwnfI8E14PtNIvzjCCx49Q6t9qzEfraMHKF462sexMad6qMZXQeekXC3uyDz+MTJVZeDCesCDQsPl4VkJTj9Wxtj/HCcA4DSbTatWq1P0PM03jlkNz4VSZoT73FEec/Pq5ymLd88rs9df+llfllhAml01/p9nERHrQQB1MjnxnSgurxoIDHB2yarVaji7GjNYzWYzsFMszoPbxgDHrJndfj6vOwb03AcaN8TaLuylevDBB7d8bUP7kH8Ph0M7evSoHT582M444wzbs2dPWLejs7QAJjAc9Qi4b2N65fUh/+Y+Vz2OMes04OF82K3OklTg4ZWUXBCtUJol4ylKnZnitJjmxRiPZyVZWKnREDg1EP40lrHr1oIYW9O0FTxi7lcsiBvLC+/gt+dTIx3uWG+AezOH6upsR2IuJa88b7fb1uv1zMymXFd2sT2XGKtfMfvTbrfDbvF2ux1WvjObAiCgHDqjhTKpYYn1B6eTJElYSIgZrELheAwLP6q73t/8/+bmpt17772hLR7xiEeE/VmFQmFqzQ+/x4FtHegcAolNNHjiGbTY+M4aZywx1heTTODhBuIMPADwLBkjYcwaK3Ap4+H8Y3EKLQcsKDZ7Qpk5cOohOf+d1pgxoGKlyXs+jid5wMprzyw2lEdB0mbeYmlhnQ2YJICC2zFG7zHA4QLD7cBXOfHpJG0L1i3VGZ5NVEGZGOj1Prvo/IkfXmGcxxOADAYDW11dnTouAywUDBGnDnIwnsukYKAGUEEl5m5B0pigpxc6Tjn/vLO+kFTgwbd8eJovrWBcKAw8BhysU4BSqyuFa/g0r86QxCyvCvLCamRYUd6BGwM/T2Lo7oGwl9Z2mIZn3SDebFiaZfEsYMyKeXlllZPTKpfL4euhPMOkgWXNF4sR4VohnoID5jFdzsebMqNlt0Q/ea2bLVmH2H3hAYr77AZhMetgMHCZR552G41Gtrq6amZmu3fvDoyKGSn6V90VNcAc22LGzuCUlwUx+MTYv+q2xpd0PKS5fpBU4Ol0OlPHDKh4Aw4WDxWGEqLT2QJCMdCQUB7MaOmMGDdCbKBjRWmr1bI9e/aE3cqM+rGBoJ3nuVRenrH/+XjQtCC45s/P8TXPMuO6Knwa6KAN8ihIzK3TMhQKhTBdjO+LYcB2u93AfnhpRalUsrm5OWu1WmHaHIYOG3T566NcDrawYA4AEu5fjlHp12QVeLSdYAT5Y4TsvsYYFdqF9adQKATG9J3vfMcmk4nt2bPH5ubmpkIRsfZFXbBXrF6v22g0mvpBmyg70v5j3eI+ZdYYmylmRsb/gyXG2lQlFXiwiA8fGVNrrO4XdwQqBOBha8WMqFA4EQDGANITATlPtkraIAgiI6YDC6pTfDrYYywijX3wc5ym1+nqS/M7WR3k5ZmXQcX6Zzt55nHduDxwcfGdMUyJY2Efn5GDw9bwv9mJz/hiDRkYkxoBCK8wBtP13BF2q9ToeIaNgcCbgNhOG7JLjOUA3W43TJ8jr0qlEoCDjS4M88LCQtjEXKvVwmdyBoNBmNrnbRnoa2ZvhcKJ2BdPy3vLHdLcLW0Hj0GmSSbw8PJzL0OvUBrriLEDNCqoOp7XxVNevpoGZld4KhZ7v9KYSizd7YhaNggDWpa7lleRPTdRZ3PylDVPfnlBSo0R3CdMtfOHAMFI4WqopWeLyqyXQU4tMlZFw/iYbV1iwCzWA28FH/5kkbeSWCXW9qp/k8nxjc1YJMt73PTMIC4Tgu8An0KhEDaXYiYMzIcNN1gmu3aj0cjW19fDPkh1sdLGggfmWV6IJ6nAw5/iwD4mZQMxl4UbDoit9I6nBTFL4QFPzLeFQmCNzu7du8P3rHn6mMvDdNNDb8/1UsnDgCAapFVGyM89VPFiPxzgR76eG8ll4jp49dY8uJ+YOeJv3jHOabB15D5Ruq7t77miuI76gjXAsuNZ1h1PZ3kmFYNaWXtae3P7sLHVSQYAT6/Xs263a7t27QosD3vfoLsMHLOzs/awhz0s7KA/fPhwmBHEfkM14lxXLK4sFo+vuu50OnbPPfeEw9y8iRwIu1NIi90tdvnxXNbWm8zgMqgbphV5wHIBvcLCcmCGotfrbQElFNhTMO54gBIqjp9KpRKOR9i1a9fUDncNXiv78vxcvBcbqDE307unZUhjD2kWU9/32M12ZhTySB6mE3P7PBcvjYKjPuwWmG1ly9wWyiRY8J6CHOsvW3rPNcN7XlnT6uC1gW7tQTxTy8DxLy6zMtpi8fhKapACHM/BnyHixbE8EwcjPZlMrFqtTs0Wxsa21776jBqNLEkFHlgBz/XxYhmewoFCaoCaqaCXNgMFNzie531XON8W4OgNTM7Pc3vyulpZ7kdel0mDtrEgrjKX7YrnUkDBtuN2xSQGPsgrxg68siE9dtM52BljlMpGdDYU6epv7UsFHoCBl29avTkfr7y8sx3toLOA6iqOx+PwpQps3ygUClO73dkL4D16fKQqnvFOjvSMMl+PsVBtPyYJMclcx6MHPSEzj+F4BeAZDO1ErhCvF1L6rYrIR17u3r07HDHpMR2vgZBnlhsVeycLwNRaxtbFMIPh/3lflTeTpes1OB8W5Js3cJglOjuX9Sx+POMUczVZdzY3N8PSCu/jel5ZvHhMjJ0qg+Jn2WiCgXgzPl5dOD1+BulhoSS2gWxublq/37fV1dWw6VQN+2g0sqWlJTM7Hu9ZWFgIG04REsH4YKLAOob9igA5vMMMX9+LxcIUgLJYrUrmd7UYeNIsGzLXguBv9vk5YA2rgqnOrIIXCoWw7gMLsaAYOiB1jYPnzimq4+80a5fG1tha6VEWeDYN0Lj8aSDI+eF5rTNbHm/we22lksZWGCAZZEDxodAac/AUlN3qJEnCDCWE+4JjJjrIvDojTY5LwH33wCtJkrCGDewEIKjGIgY6HptAWOBRj3qU7d27N3wIAUtIVlZWrNPphKCz5nP06FHrdDp2//33W7lctn6/P/W5Y+iIgi8TANVVtKcXk0nzDPC+zlbnlcwvifLOW68g/Nt7hkV9bvi7HhvQPMxO+KdwrTTgzfnwAEybWYsBQVZdYuXNYkyxdPNQd46JZcV4Ynl4f2fRYmUYXrpq8Txw9twbFbgBGPje7uy0sugsjQZ2eXAy6Kg+MBOYnZ0NwJMnluY9U61WA0Pfs2ePtdvtAMgbGxu2vr4eFkoy6DBYIuwxHA6tUChMrd3xJlPwN1iVls2LmXkG2QMVz1XfDuvJBJ4YDfN8wLR0tIIYPFxhiKe8cK+w2RNnl6TNBqUxExYFC25IrWOMJeVhJ7EyppVNy3EqRGl0Wt5evImFA8Mei9E8PDeUBcCzvr4etriwu8iuLLtkMF4c59D6Qjw3IRYYBvCgTPgCBdrCY5meYCMtzhVCPBJp6hoctC2XB3XT0IcCOrexxke9GWNNR91jlZhR45+s7UK5gAcF8QZ52iBkgGKLoWzHzAJdVMqHBgXgnH766dZsNqdAhxtUyx6L4+jg0wGSBTSxdvDy0mdi7psCjJcmKzz+jwkvPfDYhscUs9JUUI6BGLNlbIHwlJFPCYSubWxsWKfTsfn5+bCFAjvf1VVTV1ZjFrjPe/RQV8/1YP1EuoinlEolO3LkSGgfj2VqnyGMcNppp9nevXttYWFhyo0vFothgyiO+kUZdJ8kl5+NtnoM3Efcvt4KcJ09izGZNMmjWyrb/sqEKppm4hWALRGuMdPB7lwE8AqFwtSis0ajMXUgu355UfP1QIc7J+Z26f8ck0AafJ1/dMDBEvIXSM2yA7RZHabvKlh47YD7WWmnzUBBFBi9WAYzEXyUEXnH9k9xX+Ic4sFgMLUQEVtpoDNsFHj7Da8A5oGaxkpRb27fyeT4mptWqxW2dWxubtra2trUt7dYuO2xxWF+ft7m5uZsc3PTjhw5Ymtra3baaaeFNTv8uSCeao+VFfkwQMaC2dz26mVwOgBoBuaYsJH0jFeWDplt4ysTnt/nobHn5ykQMLoqKE0mkzBlCAXjs1lwkn9eNw/5aV3S/vfe1XqpG6ptg3qksRake7JuVFbcIQageeIVXl7s1kDUOnIQt9frTX0UT9Pz3Fm4NvzhPgYdPIf3dTB5ZdT2SBs4AB7M/mB7w+LioplZ2HeF/D3Q5o8fYmXxcDi0TqcT9g9iWw/W4MRYBuuYupsaq1Fjw64ap+cBkKfn/I5XNr2fRzJdLe8aK4hSNNBIpbdeR3sDFqCzsLAQGE+r1Qodz/6+N2OjQMDlTKubMjhlbdzBjPbqJpjF15KwAJg4vSzXRcvLLIfLynl44rUFX/Nm1DTWk5YmuzGTycRWV1eDa4xD2NBeMXclSZJw9s1oNApuF9JMq59XLm5H/CA2hOtIE/EXxJuOHj1qZmaLi4t25pln2tzcnHU6HVtaWrJutxtiM8pC5ubmwuJWTHtjmwI2wQKAvE8sIy1uK7hP6hbFRMeYzj56fe+1X8yV0zZlVzdNMo8+5d3peRCNqR8jrccQND2A1szMjO3atSukh+tMq1Ee74xfjw1lxS0U6T1/Va9xmVg5uHMVYNJEZxw88ON66exWjNFw3WLWUdtDy8vP5lFOrFivVCrhuNBS6fhnamKK7oErlvQnSRImFCqVSgjKaqxDzwDStBnQVVc4DWZMg8EgfCUCAIgg8WAwCMFhsAhMwwNkNzY2wnOTyfGjW9fW1sLphsgH5zer0cT9WD/q2NTYHgNMzN2MuUdeu6kuel5OluQ6+jRN0mirPheLyTBTAtBxGXS3OlPhmOXHu3zdo4ramVlswGsjpq1e5zI72k7aXl3ySBqYqI/vpZ3GBtNAh4EJ7QkXaTAYWKVSCR94zNIVFmwLKBQK4VgILKXg5z390j5XK+2Jp0+I6aAMODMZn05mkAeTAWPColf+xE+v17OZmRkbDoepx9JynTzQ0XKy/qWBeprn4T2v7/F4STPWMckEHnaZYgWKUX0WnW3gZ2ElADq64EwbvlwuB3dGGQ+eU4T28mbA44ZkRc47QFgp1GphsCsgpAVzPYDgPBXIszqa72t5NC7AogwpVh51xXTGZTgchsPSeZMhD3K19PhdKBTC52PG43HYl4SyaKxFwTA2EFkXdBBx7GgyOfH5YT6oHW4UfziAgQduFf43O7ENqdvthkWArVYrlIMZinoJaXFBT5c4LW5T1QW0TQxsdMxw+uhHNU6nBHgYCLxn0iTWWAo6UBDkhwVVCMYlSRJWN8/NzaWivleuGD1U0OFnYq5IlsupgfNYOizefS8IDffSA1Kvw9MMQVreWeIpv6bPh8DhGm9YVODUeAsLwAsfxVtYWLBqtToV9/NAB38nSbLlrB4WDhFoO+q1QuH4HqmVlRVbWVkJz4EVlctl27t3byjX5uamtdvtcFwLtkRMJsdnzfjsIuyK16N/9cxytH+s72KegI6bNJBQj4TbEnrI1/mcnyydSgUerEGILQbyEFCpICuTIjque+wFxwbgFDvQVTAeBAB1AOZhZLr713tWrWRWQDUNlDktjePw314MhQct6uotkMsLOJ7EXD5WSnZdtM+9unOfYjocB1jpANLypvWLmQVXZWNjI7hczJhZp1AWpBtjmDwhwkyN3XsYRV5/xhsvwXBw2Bf3V61WCzNX8/PzNplMwrQ/AtN8nAsP6piuxmKCaa6yx3w98fSJQYf1QZlqHkOW+SVRjblwoRRE1N9T6qrvqDvCBe92u+F71Fi/gY7ng5CyxHOv9KhMpfVaV6a5ae6X1w645gXJVbxZM24TZjteG8fqkCUeBWdlz+P/K6hymXGUKYLDMZBUkOdBoewFOgHXR6fr0WfsknLYQAET99JcLugOL+zDwWMAHkz1Iy4FI8H7vBATKhaLgdWjnbDZWQPDWSuBs/o8TcfzvJfnfwWmNEkFHviyfKobdwQLsx22QMx4cIYuF1IrgOh+p9Ox1dVV6/f74XqxWLROp2Nra2shfbb+3iBkwTuoT6zhkFYsDRZlXCqswDGlj5WbGaCexgcLHEsPZfWC+WnlVOrN7pDH/mLUnT+N1Gq1pg7cT7PAnijQmllYCd/r9cIhVwAgxICwjgYshKfP2Q1kloO24rOMzSysnC8UTkx2wPjho4OtViscbWFmdvTo0bDvDGt4RqORdbvdqXzW1tbCl1Obzab1er0pwOF+xnuqb3yGNPcFAIxdfyYHsb7NAhEe60gXe8myQMcsA3gQsfdONFN/Gr81LsGMCVOp+sE3bTB2J3RQwpIMBoOwyDCtoswKvIGjrMuLM8QGGl/3qDDnUShMf4fKUyJuW4CM5sXxBnVP0iTmSun/seeYNXjBaG8GBYMfU+u6rEBBKAY8Xr/xYMJgx3k1YD9wbTQ+4rEbxJ+wip4/I8xgh3U7AC584x0H0c3OzoYxM5lMbHl52dbX163T6QSjura2FsoPMJxMJmEvYr1et8FgEPSFt3awvmS557iu51Kr7sTcLRbWUQ2b4Drr7UnFeGA5YhFvZRo6EHiWCjQVVtzb7KZpawVRIawmhW+M/Dzh9z0W81ACq14eJ3PfbJrdsJuC97n8eRTFLH/dsgL1sXfSAuLobxgHXiDnsa+02bRYntwmejwHBix/sZNP+NM2xdQ3gIePAy0Wi1M70xmUEPDGdD+ut1qtsObIzMJeM5wvBBmPx+F9TK3zSm2uZ5aLq+Mvi83n1aOYqEuaF3TMMoAHyA2LkIdZ8P/4ogB/TwuNCbqqVFDzAICZnXA30FHr6+tTm0W9Ae6BYpZlTbseU4C0NJQFKgBq2zItNrPQfl68BWk+FEH6ulzCAwFv0Hvn4iBdxD9g+T1Wy1Sf80oTHWh8jrIyRv4QIMdneL0Y2pSBx5uwAGiwUeD38N0tzFydfvrpoQ2KxaItLy+7jM3MQjn7/X7Yv1Uul8OXRdlNzxIFKc910nZOAwo27Apc3rjKa+xSgQffGWfA0ALhb52OBM3lg8TQYVh41ev1whkkZtMsB6LWH0vo4W4p6MRQ3/N9WbLiJbG6e8KWkl08rqM+q4NQwc5TAKTniadgacLp6Ipsvo4yMBB6MSl2D9jCc5qee6bHNsSYFQSDW2OPngurx/hysBnP8UDFb3YNUR6OueG5fr9vw+EwHOi1e/duK5VKtnv37imWjgA7G5jhcGhra2sBFLEOCPc53BGbjYrpBUBXJ3AwA+i1secd4Lqn02bTh+Kf1LEYODTaK4AWkH9z52OKEY0MHxwLsHQaUK0MxxLwNyrI55fwYMkLDNsVTj/WHpw2FCQrGKtU2QPfhyJ5mVAseMgDWdNSnz9NP5SpMT3PKmtWX2n75u1bDyxjAnBjBgcDyIsX+afb7YYP7+EDk8ViMXyNFAaa24VPX8S37NBeeXUgzVBijOgzefRE3X4FPy6/WbbBy3S10LEx5dSCs3VGMI47htdd1Ov1qRkHTzSIaTZ9Sp0XsNUyZYmH3mhYj51sxzfWgeBZKy94ajYdQIX74vn7HAvjOmynjF6dYm2ooMP1SAu45zUMD1W4nVAeFs/tVtGZIOgqwgZY4AeXTD+exwym2+1aoVCwRqMR9mRhNs5znTFOkEeM3cb0x2P73iws3uEyp7GemKgLzfvkst5NBR5vGh2iCMhMB5XxjotkuttoNCxJkmBFmMIyWPH7SBdBwPF4vOW4Bc8XhWTFYPQ5nU2CcHzBs7KxQZYGWpontyNvM+A8WHlivneWcB14A26M1m+HMYLmp00kpE3Te0xL82cXkNc5KWOLTTdzGlp2sxPr2Xh2jwOp+FG2D6NbKh3/Cihcu2PHjoX01ZiMx+PwddW5uTlbXV0N48KbdYyNSe0/Tyd0vDJwxkR1EIIYWJ5Vy2Y5dqerL+uJVog7BSCDioGidjqdgPzIixssbeBgMCI+BODJYj6xBuPf6vrxc7HpyyxrwQNLB5c32Lw4BQOxgk8WM9kuCHEdvAWPXrAd5VOGo+9q+qgbFNp7P638HjB67p/G+2KsyGzr4edgN6PRaEo3+CxyD5yxYx3gUyod/zAfpsqVxU4mE+v3+yE+2mw2w4HuzOS8tvTawTO8aYyU68JjmJmk1yfsep6SdTx5qbtWMEbF8TfvNufV0awwabQYFUWMx6usBz4PNbbD+fLfMReJJQugPOH2VJBhBeT2OVXui9JnpO0BBktMR7zB77E0TdfTm+3UAfnooWFmJ6w2r/Fh4ON2Z0YTE0/vuRyTycQ6nU5gMlino+CXJEmYbi+VSlM73zFmuB3TxHO1vHfyuEX8rKcHiLnyjOBJuVqxzPR/pZh50sRp+bzOh31nFm/AwqLgmAVWtofqcngWIw1cvGv6vBdg5veVPXjlhiuqwMzPqhJrwDpNPMaKtGKzfWbTA8xrA4/xZJUnK01P2LWCQYJxwjnGcAOQPtgHPl+DI1YRz0EMhN3pPGDIoIrybG5u2oMPPhiOQMVudD5qg8ENoYRarWbtdtuKxaKtra2FldZZBi+LAXtlZfD00lV9Y5AGYPLnkE9qVkt3QXvK51kpr+JqmRktoSSFQiEoibo+ekaP2Qm/crsdwEqsjQRl0efS4hyx6XkvMJ532p4VXWc/1G/36on8ta7e3zHWoa4Arm2XOcbiEJ4LEAOYWKwN1zhGiMV4OPGP44osKysrwQXC8br4fBJAKNY2PFD1R+uHgYlTFvbu3RuMCX9CGHXBokJ8uA/BZuyEBzjyO2n95hkAPOfFjVgAMmnLaXjRZVZ6kMwP+qXFd7QjGA0VhGIugVpxpmuarjIrUGllScoI0iTLknqMxGsPL5202SoVtTr6fNY7JyOxdNJiYnkkzSVghhYDxBjTjYEq4gxYYDoYDMLXMlUfAeD8aZyNjY1wqDwYEH44/ubFSdjF8Aww0h8MBmGVc7lcnpqORzo8aYJD4NvtdohpKvjHGIa6frF+UJD0+kndf36eJ3rySibjiaElFwwFQdQencNb+7PoHwOJt/GTmQ8DosZ5OD4EiQV/tWO8weBZYgbA7UoaUMTAh8Hci5upmwVJ+5/dE+0jb0aJ2Re3ibarp7g8weDlkyZemdWNZRDh7Qf8VQqkxXWFDiFGsb6+Hk4GhBuGj0fGjodREFR95jYEG+t0OuEAeN44kjOPXgAAIABJREFUjWd4dT9iUfPz84HFYTc7t3Ha/1yu2AQJv5uWrsdU9UOEeSTzsPc8aIlKVKtVazabliRJWAKulfEqgutqjZTCMt3nSuOnXq+7acesZpqkDaqYhdiuC+IpK5ef/2cWqTOFKsoaPEVU9w1pMeikgaDmw3nw2UkQbyBmtZfWIxYrgwHCAADtj7k+eIdBCEAEVx8bTqvVqjUaDavX62EzKBiQAjD3pzcbjOudTsfMLLhQnA4zIIAmPtm9d+/ewORWVlZsfX091FHBRF0sdVVjLpiW1zMk3HaI7WCmjt27NNn2VyY8gU8Jaoj1O977XHDP7fKUNXYPeUPZtNFQrjSQ8ZgP0s0jPDjT4iqslDEg9v73yurFGmIAw4NLgQzto+0cKwvnz/WNlT/GKGPXPMkKpGKQwuX2AslpIKr1g/Dq+NFoFJjQaDSyVqs1tdtey6kMVQXsyuzERmzPfSsUCmEcJUkSzp/CSmh8MoeP+4Bw3bfDRLid1OjrD8CRdxB4OurJtoFHgUMHAU7Wj3WqR+1VCbOsoiqwLibUNNWap4FKntkUb9DwYOR76qJ5lj9vWZAGs5U00UCfx3oYfPAMBx21vzz24824eQCUp85avjzC07mI9+nObi/vtPJwnWDV+RwnHInBK/FRZnUBIWosi8XiFIB5eoFnURaEMmq1Wug7vJuXKHiGK+aeeayR3wfY6wLRk2I8XuG8wuuz3GlZ7+WxtN7zSAvAg0OWsC5IBwwPwqyZE0iMRWhZPJD1OlQVMVaOrAHKFoeVGeVlS+xZeuStrAW0H8sTYlaU68UrzTltjiF5syfKvrScXpq4roL4Ds+upBnHGBBx/lpWuPVHjx61Xq8XjnJtt9thvY2K1gt1KhaLYTU6AAwAwycRIHYJIMWmaAAWzmguFApTQXQFMG+CxKs37qFcymi5DmBSGt+BTqStVDfbxpdEPd9NKSyOf8TaiayK4rcOoDybzZTBwCrhNH92bTxl9Vwfjy3ht+eGaYxG6+Ypr9YpDZTTYhoeUE8mk6lp1jxW0GNQmCVRMFA2o6cietYQFhGbHj0j5rVRTJRhcVwGM1pII8u98lxJrp8aKuSH2bLBYGDdbtcajUb4zLGeGKjpwTCbWfhSKjaf8jlB6AduE3WN0dc4QiO2rcLzMGJutI5Hr33wg2l21gNmnmmSm/FkWWFkOhgMXB879g4LT4lyYM5zLXTAAH1x7IB3ul2eeqSVF+l419JcMpa87kNe1pcmafVIa0/PGEAY7HVA6QDF8SWYhcE3sbYbhNcycB6IMQB4NLYYY6zKyGPg5Lk+PNDwPwKr9Xp9S9zGY/m4xxud046FZT1HewOs2AXUqXU2rOpdeExUyxkTz9AoSKZJbsaTJbA8vBt9OwKXCcoKBfIGBDqJNx9OJpMtp7ghXRVYnTQQ2E75s0AHHZS1mlMtTRbb4cGu+W4npqFl441+GJSxd3UpBfdjv9+3tbU163a7IU0+zFzLvR1AwvNgVOh7BFpRHnb5FGD4GrsonoHy2hXWnY82XVhYCKAQW/ODsidJEvS9UCiE7RHe+MF13uKBYHPsg4AKNJwWt6Hnmmsa/DwTAiwJYOODMZom2wIeD4258/SM2iyqzr/RgaCvYE16ELdWGPkmSRK+T41pUHVp1DLjepqFZIDCAM0DSp6l9a7F0ooNQi6/Bzycbh5LxsCSl42hHbz1PkzBR6ORDQYDW1tbC/2LVcLqKpvlj70x6Kyvr9vy8rJ1u10bjUZhUOpWHI1VcPt4g03dLNZrbkPo38bGhh05csS63a7Nzs7a7t27p1ZAIy2kwV+jwLGoxWLRms1mSJcPyANA4DB7HCmrM8j6gQVP33hSwasPt4k+g7IgD2w5AfAj7ZPaMuHJdpkMFzhmdXhKlL9Dzfe1IRQEOLjIn8PJKnOMETGqc778dyzdNHqf9V6WeJY3BvT6Tlp6WbQ6z7VYGgChfr9vq6urwbrDRdjOmiroA1gOtkXAUAHQstoyjxEAaLGRM4tvN8ERqAhub2xsWL1et0ajsWV9DTMtgMdoNLJSqRSOHE6SE6ca4kuqqBv+B/h6xjytvt7SjzRd8EhDoVCYAkKcP5Rn1jVzOj0tGKeSpoxZVJpps26BYL+WaTCfHQPWA38fMwQxBYxNmzPd3i7Ibgc4kH+eGSh9Ny14qErN7/J7eZYNqEDpNT+vzLxQzczCVyBWV1etWCyGz8XwDFoa2+R6YBaz3+9br9cLLhZTfOibsh1tJ088NzmtTVBOXfszHo9tbm7OyuVyCK5rGcxOHGyHwHilUrHZ2VkrFothYJud+FQzb36NbRnifvGMZ0xUZ9J0yOy4m1ev1wNo5o2lZh6L4QGPAoDnuniLlmIDx+zEB9F6vd6WBVGqOOhoUGqAFluA4XA49U1rZk7agGmDDnnFQJjdhDzAjPzZiuM6W3UWjxpzudNcWK67fl7GK1/s/J2YWwJRkMDxnY1Gw5aXl83MwuTDeHz8y5qzs7PWbretVquFmR1Nn4OVYE6rq6u2tLQUJhN00AEAvD5j3VV3iwdamsFl9s4xLo7PDIdDW1paCgBx2mmnWbVa3bJNAu9gQuW+++6zXq9nzWbT5ubmQlnH47GtrKy4R8GoK5fGXDxwx7tpLq/qEp4rlUrWarWsUChYt9u11dVVS5LsDxDmOhYjq5O8d8ymD+6OdSTSwhYLfK7Yc8mYEQD1sX6CfXEcNKYfJOQ8PYmxHAYflTTQig1Wj72lgVaMKfJg96yR54LFjIXnuvFznjLr2iid/arVajYej63RaATXgGctwQxqtVroKx7MPGPE2yE6nU44CB2i7jyXA+ml7bDW/9Nca9Xl2FiAji4tLYUv4MLt8lwcGN+NjQ1bW1uz5eXlwAgHg0FgUV7wOc29jM2uKRNio6PlY13C39A/fMYIHyPM8m7MTnJWi62+UlzuEB2c2nE89corkGOKwO/pSW5MxTFb4B2N6g1Ar25pz8TqE7uneatCez54HtHB5oF2WpkVALW+sXKkKXuhUAguxuzs7NTqcu07nKmECQFmEHBDsE4FfyPwylY+1vaon7fEIo2Fe22lAzLWzngO4MNfv2XmqbqDJQHFYjEcjYF0dN2Up0vc99ynOkkSq7MHsnncTfQ1ZppPKsajhfMYDzqUC6t/q2gcBYgO4PEqzOkBlPRzyGBCUNq1tTVLkumPyWmd+H8PALJmsbxOSWOCHp1XxcC9POCTxd50oHluk9ceWYrDddKBjTLDdZqfnw/xCQRCMYDgfmmbgKHwc17ZtU25PMwslA3xewy2/BzrKE/R4zk9dU/bEHmNx+PwXa3JZGL1en0KYJGnggp/QjlmsLTeql/cl56OaTpZusF5MTlAXCotrsqSa69W1sBKGzixwuM+kBwLD72BxhaCp8oLhUKwhCxIA9OUeI8/4BarK/uvnhXh8uv7MSrupY888ojnRsXucX5eW3J8TIFd65AGPvo+u6I84Mvlsi0uLtpkcnxVNQ465zz0wDmvTjrwYkaOwRXPAxwYjLIAm92TJDmxR4rX5/B2ET48DvmwS7K5uWlra2s2Go3CbnN8X4vrE/MSYiwd19WocLt4yxG0HT3Q0tlEzo8ZF8YXviGvX0v1JLerFVP+tA70aJ8+A8XTgnoIjAry2Sj8tUVWNigDZlNwZAZ/TE0ZB4s3o5IHybMkBjZ5YkWeKFCqEmsa/FzW4MsCH1Y8sxOf9oWrjLwqlYo1Gg0bj8dhFgrvK+jEpqo9BucJgAXshNONffk0TfCuDjY9R4cDvOr+4QchgE6nE9qnUqlsGczIkycU2LgzGODdPEsIuB3xvt7Lagt+Ric8QArysJ5tHfaeRse86dC8lQFAKNJzp3M+YC+lUikcJ+ktWkL8oFAohOlMdHiaNdgOwHK7eM+rRWFqzfl7Fg7XFQTVCsHiKfBqf/EKU49RxMqeNeOB/HEuEjbr4vQ+rGUxO85CeUuNshwFGy2jsmvtF9YRHBuhVlzTU0Pk5cvLH9gIKtPTWKL29ebmpq2urlq1Wt0yk6eDmpeRID2emY3N0rJwv6axKM7f82i8dAuFwtSJEMViMdQri83nBh5WjDSqiw6BpE2rA3B40Z/ninD+sKg4kgA7aT3QQ+etr6/bsWPHAgVst9tTK6KzGIVOp2t9vc73BrI34LmDWIn5ff3WlaareXqKArDmZz0GoYPAa1N+FpZ8ZWXFHnjgAet2u9br9cJMR71etz179lir1bLZ2Vnbu3evJUkydTC4sgpmLXzfcx0ZFPAO7/DWevH0vNd2HjhpWyOfer2+pQ94LU8MrDudjpXL5TBowcK1bxh4MKbQDlpnD7hRbg/YtN5aTtUl/q1T+Yi/gcGdNPCkIZ33nGflNUDKnZkkydSJcRxcM9vq7qDSmI7VPUVcPv4f4MPf8qrX62Eg6iK+tEbLcj1YPEWIva+K59U9S7SduQxqTdMkDcD0OfTHsWPHbHl5OUwHFwqFsJ4K+eOLmmCiOOmv2+2G6XYGHzV86oop80Ob4cgJ3GPjwEzQC1brO7inn8HB4GJQ5EPI+GuhqA/XAycc4jPesTOT83odsWe8qfSYZ6Lvqyul7c7sUll1lmx7Oj1m1fMKVw6dhQAxK1JahXlKlsul5eEpTV7Z7J0e5yk758tsRNvCYw552sC7rvXK856XBtiU5wYra8pDrWP3sGATm0HBXGHRMQD5Cw7z8/NhlXqv1wvtiNiPV95YmTzmwlZZDRkHgWPuLUuhcGLDp7r5GsTms3P4ff4BSGELyWAwCGGAPJMNnE7Mbfb01WNunsR0BNc8necyMDinSS5Xi//3kJYbwsym9klxhZTtoPHh98cqiUZUBqBfclSXyGzaKmLV59LSkplZWLbPO2xZ0tY+pA0GbzCnXUd6XF51FViZ2QXxQMOj3WnWy3MTvTYEreY8ECzFjA0DHsrd6XSs1+vZ7OysLSws2OzsbIh36H4tbAHg9mB3y8zCPiYumw5CdlVwX+vD7cxsSI0Qu27QFTAr3q6BuuNgLwj3O8oIpriysmLNZnPLZmjVA9Z9ZlDqQnJbqr7FdNK773kreo/z5jHoMX2Vh7SOhwuJysUyShuofJxBWv7YFsG+JQuUhjuI198oiA2HQ1teXg5Mq9Vq5d6wmMYGslxQ/B1jNmwpPIbFddV8MdB4tThbdz1oKs0C6jUooIIdwF8/bcI6gb9xat+uXbumVpJjxTq7W0hbBw4Gfa1Wm2LJlUrFZmZmwupnlBcgxmDJMR7eVpHGgPh7UQwMWPSKfNSAaYCf3S7kPxgMgtuFQLO6hgyeMVbuyXaYK4tHOPT/GLhoGWOS+yAwRc6H4mYhLQiCy3r2jtmJA40wOwJGpMFqVVDQ4WKxuGWKntPmU/ER8zGzLdsrOJ+HIkpJcS3NrWRFi7l3+j/SZBao9DftbN+0+nmzaMiPF9FxWmqkwIzwaRe2ykgn7fC4QuHETujZ2dkpIMEXIHAEKQY2DBviSdAdZUu6kjjNMChzQpt7jMMzENrmKCODphoHdZ+8Qa2gmTYL6T2X9ayX50MdE2YP4Twezwfk+wwe3Eieq8LLwFnAchDxRyAPQWK1JPw3pvPMbMsxmNx4UEZY2VarFc6JUavlSZrlUaX1gEff81wCzc9Lk/9HvAXpoB8A3iwe69GYiIrGDpg1cJ940u/3bTKZhHgG4mwYcNVqNezz4TqjnMVicWpjKU+Z79q1y9rtdvgWFtgevt7Z6/XCcRUszA45ZsNxGmUdfMaPxiW9jamoB55Ro4LzeLDsgA+PZz3Rv1WfYy6T3mM2muZ6qW7GgNBs+tTDPG6WWc5ZrSyGo3SSFdMrEArOs1kxRNV9Hzq1zLSvWq2Gnc6IN7BiaINDOY8dO2a9Xi+cnQsFxnQ9ROM9KqqsyFMHk+e3cxt5AIXBYXZioR4PdsQM+CNwAGweVBAFipjiKtvhdjCzcOCWLqhT2dzctH6/b/fcc8/UOcXz8/O2sLBgjUbDZmZmbG1tbWppBdcdoDM/P2/VajXMmrXb7bAZ2DtJUdPRADOMmtn0sgMNRvMRFWBUkJhrj2eZbXL7TSYT6/f7gckBeJAn6zqnr664F1f1RMcav6NxJK/vcS+WRl5v6KSPPs1iQSwcFGUfnN0kTpdnCZQGm20FAKSJd9PKyo0HBeJjNPE1yVqttmWTqSqOps0A5Pn4nlXQwFysLklyfCqWvweOtGBxwST4DBiP5udxr/hZLTfnA3dY3RkWMFaAC7bJYGkDvhM+GAys1+tNfQlUGaa64awjzCbganmgqPXRmJjHxgFcCkp5lyhw3rjOZ1Njet3TkRgbxXVdgqH5xYDRK2Me1rIdd11l27NaXgbsE3sV9zoGFgNApKAT869jHYIBiuM1PXDSa2wBoUT4KiK+od1sNoP7BgahdFktkscm8MNsJxYDSJLpA804hpAkxwO1COgiLaSLMlarVavX61N944kX5/DiaNrneB6u0uzs7JZD+r00EM/D54JHo5EtLi4GVxflLpVKtrq6GuoOpgu94UGEo1SYtfA97/watfxsNHgBnE5qoM81kM+sKc+gZYGLzEfCeOPIK29esGDd5FjRdsAiz/MxUqCyrVktTlgLE/NtlXIiDSiQBuY4H6acuMbWj6d3zWwqLQx0VkIvSMqKBJaxvr4erB6sOc6WxXVdHcsujZYdz3ozHqwQ/LWETqcTvv+tnwtRVwuMrFQqhelqrBzmoG3MJeZrAB5mpRjocHfYCICt7N27d2ovFqcdYz+TycSWlpZsMBhYo9GwPXv22Pz8vM3NzVmr1bK5ubmpHdpmFhYroh0QtAZAAFS4P1Qn2VVBOTj2AcYLIFdd5viOAnvWGPCMwGQyCQtcB4NBaGOUURknADgW4/Ha2sufwxYsXh04fKCxPjWqeST3CYR5fTeuiDIk7mD8z/63phMrDw96Bh7dJ6Nl8tw07kQFST5wvt/vT4GHTn1zHEXZGfbkIGbE5UEb4AcDDdZPZ020LohTARx5WwQHO3lgZQmYCVwVAA+2QPAAxATA4uKimZl1u92wehn141kl7W+wHzw7GAxCfK1cLoejQwuFgq2trYXpZxgdnlniQcUuOi8jUB1lXVFDxAMKBkT1FhJztyaTyZZTETRtXOcZLp4M0NgLX2d9QH6aP7Mjz231+t8b+9pmHiZo7DEm22Y82xUP4U82Tc+SIV2loKrknpXX/1l5VQm9jmflZEBioAQjYYXygIcPrVdw4jzZAnE+fOKi7mHz2t1zcQF+POuXlk6xePwM5fF4HMCJt7XgfGRspVClRJ4ow8zMjNVqNWu321Yul8MiT4AhPoSHtLDDmxfyaf24X1RfPIuPdTnoW94rpbGfmAvCuqesh90+Bjs+LE11TfNkA4z2BhtRvU4jDmmxIS2vV1ctax6SkivGo+joDUKvcAo6PCA1VsKSFqzjvPX9GELzs0iXDwdTn99jB9qYMTBliuyJAiKXC22CGJUXZPSYIWZEdu3aZfPz8wF4dL+QlgP15HjG+vq6ra6uTgVk4VryjAv3McqwsLBg7XZ76tO7YDGrq6vhTF4s/lOjAMDj76JhmhlT6WhjfN4FG4bX1tZCzIjbRsE7NqPoMSDe/IhyatxNmbPXxygzrnkADpbZ7/et2Wxu0Q81qggDwNAsLy8Ht9zshHFmd43LiHQ0NOG1ibqROga9cXfKGA/TUO++xyZiVBSDixWMn4NiKMKbnThK0mMWzAIUOBTsWBFY0hrM6xyVGNiaxSm6l6a6B1wGtpalUsnm5uas3W7b4uLi1LnFeesDtwV7p/RrsPgaBE7O4/eRBw8mZaQ4j3c0Glmv17O1tbVwvnZs7Q7qDxbAq5aTZPowcY67HTt2bEsgmduDwcFbyY1n+D0GXgYi1j8zC8d+4n9vG07McEIvMLvlfY8deeMg/V27doVY2OHDh21lZcVWVlamxhnHZzh/TtMTbyxzH3sMkt/LGieZjCcGNIrWWe95DEEVlDvU81n5moeq2lh6z2NAniuoEmuHGCNipc96R+sey1+Dm7iOIyd58ZzWG8/GrsFN8c7JwSDU4Ljm4QXuIehntsL4nHGpVAqWGuxLN2KabZ3q5vQR30J6XjzMcydi+qBtj/U7YHy8NUIBF2ko8MfcLgVF/t48M0wAJZYvtNvtEISfn5+3wWBgk8nE3YLE+ugZ84cq2mbaHmmS+1gMpuZZz+YVjolwgJdnJmLpK4rzM0iHB4PnJuahhDEXJcZ+lG0p02NQ9dJShU1zC4rFE9PmmF1iSs0n8KUBGwLpcK+0bohNeSxMwTbWpoVCIQAG4jbYI4evRmA2Efnp12C9NuTyISCtMRhlv1xv6AHaymMovBfMzMLaIR1o3MZYpgFQj+mz7u8C89R1R3ge7HFxcdHm5uas2Wxas9m0Xbt2ha9T8LIG7QsdW2kGKZbGqZCHvHLZ6yT43Gn0DYoL9IZV40qqdYi5cJ5l0QHvNZrHcnQAad2g7FwudaNYPOuG/7UOuM4Wk/PiBYzcRmAO9Xp96khXz0h4io/7cF+xhomnmMFM+JxrD2w0ZscBehXEaLD+BzNhx44dC26V5svxFB7UKD/+5lXrKBu7Qqwv0FXtK7wDo8izkd1uN3yYQA0fB6G5XMpUWTRwb2ZTK7K5bPh43vz8vJ1++unhqw5mZs1m0waDgbXbbet0OlvyYb1jg8T3VC+0TVivWAchfD0LrHJ9V0sHgt73CuyJUky1njpzw9djU4paFk7Xo89QOI/1xOqoZVZRgNMyKMX1nmWf2WtvXRGMwTs7O+vSfq/dVNm4PRB/4vKYWVgKwMDHZVcQ8u557cjlwILBJDm+KtvMAnvJU35uf3br8BxiNLwGCe3DOsPtgTbGwMYMH+JTymI8wxBbLuLpvBoCXiDK7YUYD9ZqoWzQBxyxoWVBvrF+4We8vtRy6328F1seo7It4NHMOQNtcI3dmJ0YCGmRdC/vhyqq4Mx0lK6nDRJPNFipz6eBo5ZPBzvK6VkitCFWUmMGy2t3FV5IxtPDrCy86hv5cKzFUyplCtpOsRga8gHA8Pk5sTOSNE8VbKPgIDVWVzcajamjJ9RgMFgw+JhZ+MQwtnIwK2Ijw+tY8qxn4eeQJp9kCPeZ9RjLJgqFQlh6weCKY2Q85hsrg9eesb6L9T/SOiXA4wkPGM4Mf/OA0dkHRnhvhocrYDZ9Rq76pR4wqQX2BgKLN1WYRzSYquUy27reSK0BAw7iFGxxPeDB+1A+3pw5mUymAswMRl69MDAnk0lw1Tg4a3aCeXhlSAMcpK90nNuO+z9JkmDJuY7eGTdmW4EfLlGr1QqxGLhsvPKc09RAK1Z583IAfKUEizoBOjFWgHf4urfmR/WT30ecBx861HfMjgMsnul2u2EGrNFoWL1eD3E76BeDKiQL2D1vRkGGWZnZtNubJpkxHlU2z03QTZExq6ugg0VqPHA8lOX0sJKYy8jlYcCKDRRY9azZLC0DPx9jOiwe5dbnOcDOgb8YPWc3At9qAmjB7VIXBe0GRfRiSdx3cEm47qiz58apMuIa11eXGOB9PqwLsRmPSaDMaRMOZjZ14BnYDruLfJ+nxtGeChQAKQ+8lUGDrSAtLq/O0OkAZXeFA8xJkmx5F2wIiylXVlZCPAzre3hNT0wY9GIGPPa39g/uMVtPk9yzWjEXK81vjKWF/7kD2NVgia0VyHLR8FuZ2EMRpu3e7us0y5/1P67puojY9DQPQighxyJmZ2e3WFFsnsVJdxws5TLgB3vS8K6CTcxFTnNdvX7U8mF9FgY7T1SwnulkBMoGtsD9gK0brGsMJMwIYAh5FTAGOAZTmusIYGNmqwCNax6IQThfHugY1MrIeEEmXM3YPixP0votTbwxm/f9bX9lIqsAMeTU4KpOG6ZN96oLw3/H3vHKrtbdKyszC6XIPFA0PS6L91tn2Rhs8cMzfGYnrCYzNrAbUGkOxppZOCSL8xyNRra8vGydTscqlUo4v0bXnYAN8DS29wldr929tlS3SAVpwI3pdrvBNapUKlObdRkgNA8MUgSAWac42Iwpd2YxXDZsyuXtKuhr3TWO5QpcDkzlA8S0nuyCq+sDPWLWAwDktgbLAZCOx+Mwy1YsHj9UHzOFADlvDHp95vWdN060D2OMN01yH32qjRdzwaAIadYhSU4sWFNqncZQtOPN/N2/WnGl+VAmBQLOV0FHLUjMjYOwYrOVU4qNhW8IfKJMYAEINPLgY/bF7gr/oDzYJ7W0tGTD4dBmZ2et2WxO1Y2PgWD2FOuDNNCJWVllhQyKnU7HVlZWrNfrWavVslqtZmYnZnf0WBJcB9DgvGZ8UDA2gcBlYWaFfkJbq1HQr0wUCif2SSEvuFiNRsMKhYLNzs5OAQTAhuN3yB8BZF5/hDECHWP3GkDD8S/kM5lMwjlSeE77iPstjYHnCUUoIz4lwON1nAdATIN5MMaELZU38JEPOtoL5KJhPNCJ1YUlNr2tDcfgwZZKBxj/zTEoiMcWUD+mx7CCfHqgzioh/3K5bM1m0zY3N4Nv7+3ExlQrPiWMTZfqvnltqfEwbR/VgzwsmfPBxxwBsqPRaAr84E5goCdJEpgegAI76PX4EC0vD2yO96B92R1T3UebYluEBmqZ0cJdRX/CNWKDx/2vOs4DWRkL2N1oNJr6Oi7v/ldATYuZbids4fVf2nNpsq1PGMcy8ywgK6sn6qN7BUfHMC1lhhOj8Gl1Mdt6PgmDJ6eNTgUw8H0OAnt5cPosGrTVfCEYaOVyOXwUj/16ABU+FQNXgncso/zVajUwKv6kj7pCXl9wIJj7IFZfvJdF6zkGA9AAkykWi1PLBDCDAxYwGAzCbneNhaDMELbIfEIiLxsAI+UfgCi7Qsw0cU9ZLdKHIQCrY/eN+17dPdZN74gJ5MHAw3kz8HgrzSHQXY+1p413TU9BjOuXJrn3amUVypMs314bFO+wJcAAYdTnTmOmpcJWmxsa97jRsQk+uvmKAAAgAElEQVSwVqtNgQ6YAgY6YlN8pCausRWEYjIT4LZE+TH7wOf9sFtVLBZD/AbuAFb1Ysc2AEe/w4061Gq1cKQmgAllT5IkuAcaE0A9GIxjrjMDkhfb0XKhreAaMaOERec+5jLjaFSNu8T6n4Wf9ViBx/6YKXlHVqBvAaC4p6zNmxVVkGZgY/cJ/cIAg2toE2zlwIJMbXuuZxbT4bLFPAIFIa6Lx/pZcq/jSXO5vAEN8ego/k4LKHO+mjcruT6jsR0GHNxD5+J/uCCIfzBqY+0HU31YHAwEzMjwwi89pB5l0w6D4iAOwAquCsP+Pm9c5Oli/d4Uz+AkSRJcGnzOGYKd52msTQe5MlsPlDyLy9fgHmkwE/VF3KtarYbrGl/JM4i4HWPiucPob64j8uPBxUwJba3M2isHAx7fN7Mp4NHQAnsB3G7QD2ax3phkVqzli7Wl14/8m0HqpBlPHr9d7+dxtbKAJ+t9zYvLy2VS14AbC89wgLder0/FnvRztWYn4gOcBzMej+WklR8CsPEouQI4U3RWIsRLNjc3A1tjq46YCs4zLhaLAXS8TZlahzwDXMukzNljE9xmHGsBMOnMFNKPTbl7hsgb3Axy+g4PKG0LgLCyGHa/vTJo/l6siNPTDa8s2jf4n1kiC7ezGu+sfs3T7+qapkmuBYTe9VjBkLnnv/KzvJCLLRZTSp5F4I6OBcxiCM6+OH6YBYHt4NOzGnPwaCUv5EJQlDdXeq6d14acNoMbLCroOteLg6yIh8ANW15eDrM8OCgKLitACStxuS3H43EAXo9NMGviNsdv7Q9tM/3NusLthPbjYOlkMgmftDGzADwAJu5Xz1Bqm6INuQway9E+4vc5XY59pdXdK5d6CQBdXseUdi65ul1cDjVYWQYwy1B6BoTrwfmDdaXJto7FyCp4XmuI53kdBK5xfqgIArsamPUCmN7A0DpwA2JnNuIsmLVAnIEHBuenSsNAyzEi9c/NbAuY8rEL+LvdbpvZNIXneA/cJqx1AfCsrq5OzfggdoT7+GGgX1lZCQwJU9lcRxxK1Wg0pqwpB/556XzagMP/PO0PgGXXAu3K7iBW5sL1wloZZQweqLPOeLqqwMFtgOd1C4wyIHW9OP+0scHA4wX6NcaJmBG3q5ZN66HXYvXga/x3bEKBGZQy9TQ5JQsIUSD8aCE8QaAzBj7a+ZwPp+GBgT7H9yeTyRY0hmuCvTEoP69a5elQpKWBSi9vVToFT3bzeOPnzMxMyBesC4OOgYxdE+wl4u9xMSiCRcCqMjAgRqVfiID7VqvVbGNjIyg44mIYBBwchzvkuVpcdrbmqiscA+EpbszSQXfSdIyZNA84vo7nvHe1L9WV4ZiL9g+LBzwxryFmfDlfBkLMWG5sbIR4pIKd5sXp5BnjeQkFG8lTHlyOoWiehtV31N3ieyxqPTT9LHTF86zMnAcvZvS2E7BVZ4bDCuz59lofb5tCvV63ZrNp7XZ7apYFU8haXtzHYeQQsBve74R3USa2Ruw+FQqFLScQctsOh0OrVCrW7XbD0gL+RjlWRgN04K4BKDh/BnTeosBT1Ez7GfSh0Mgfq7a1jWK66hk1FQ+YkCbYGB8vC0MGfVYdieXl6Q1fxyDWKXUeBwD4+fl5G4/HIaaXBjqcTxb4apmy7rGbd9LAEwOaGFDwAAeV1iAyrs3OzoZzd3kaEoXnCnluEwNJFvjwrBFiIxjgnB4H4HAd5VELG7OUnj/OrhX+x5Q4QGZ1dTWwKjAglAMzaAyQWCsC1wWfueFysTJwOXi9D1iLxzzMTqy1wTJ8tBs+M7O5uWkPPvigJcmJQ8gXFxet2WyG6X7oDMqDoDDanxf+MQChT/r9fmCDAGwcU8GH2qOO+K0uBfcHAy+f/c35e4yVQUf7NeZqqFuKMvBMppZTp82RDr7kgaUfrVZrahEps2BuD89dYoOgIBJzwbw2gR7geT1LXWXbWya4YWKV0L+99MwsxDRKpfh3t2OuVCzYxgrAAMmWReMm3PixDogpB/u4bC3ZYqu1QvAQX0rAsv9+vx8sGfYsIe3BYDC1kRJT6ZPJJMyw8Xe9AbBsqTkYzKtb+VM0bMFj/Q6r3uv1po7yUJe01+uFL2CgPggMQzEXFhasUCiEj9lxO/NZNGwQcHQqPryHGUWIGjoVZY+oW57wgM5Gqe5wOTk9AK1OOkAHue21nFoGrDljtomvUyBUgDLG6q7ihSC8Nol5N9wWCvieZMZ4WAGz/GnvGgrlUS9eg8Kb6sz8Rku7rpJGqzX6r3SXG9tzVWLtoJ3ELIoHPdwVDFrMNK2vrwdXj9/HAjEEk3UvFX5AtXltDB85ou3jbcXg+0rZ+W+d8eM8OOZUrVat3+9bu92eYj8At3a7HYAMbheEF+Bpufnb9t1uNzyX1u+elUb5Y2tu1D1Vo8Tvcdr8LvqfQT3WzqhrzE2D/iCeNBwObWVlxcbjcWBAqr8eCMSMaR42pPXU581O4QJCNFwMYNLcJNBMLTyvwO33+5n5a+dofupOeMisShVbJ6Foz4NOGYy+A7DRQCMsAQ6lqlarUxsJeTWymYVtAXBHYTX52IokObGgEJ2NDab4W/cgxSwWt0nMzVDrzvXitHiFd7fbDWCIM4PAurB9o16vh/OFkD/PsoHh8cyf2XE3EAOPZxU9/eB+4FXeHuP1QAbti3HAmziZQXsAozE51iHdFsTum5YRwAOm2uv1bHV11cwsHKKmuusZWS6zWTpQ8LiKjX+OgZ4040FmakU0c/WvWYm1cuwb4/Dq2dnZqfiGCn/PCOJZcC6vxmO4TPoOi7KamOX08lP2hOtgOHARvK99ct36/X5YWczKiDU5HJdotVphMKPcKAeUgWk/sw30DwcDY/E0dS05HZRf4x5cL7iR+B4U74jHDNiePXssSZKpM40B0IiFoS2TJJla9Am3UvVEDQPH9tg9VAaA9kA7gRXFBp+ODcQUWSc4LVzTWSCNy6i3wc/iGgwRxgkbM09iOu2xei/4rf3rlfGkYjxc+diA5cyVjptlB35xhCf8XBWdgdFYjZaXG0QDZFwH3PckDZx0oOFvDdaygrG1xg5ys+lDqtgKwe3ArFaxWJyarYBFxXUtMwABnxJOkiTMHHGdkA4YkwYIUX6vX7TfswAdLKzX6wVGB8BBPZrNZmC+YHhmNrVXjkFSPzvDrMIzHB579dwlD3jxHuu46pCCs9ceHttkXTLzwwmsT+wiFwqFoFt8FG5syw7/rcydx1UsnKBMkPv/lM1qeZnofbWWKhrjYFAwO7GLt1KpbHF7NJjH6KrpaJn4nkc99Rk8l1Z/lEl3gmNQQCGY9iNQDOWARUI8A6uI2epqQJpXMAOo+JQ5LAiEpUG+HGjkwLRSeLQ/yqOuFj/Lbc/Bb+47bjOA22RyfEPo8vJycJP0mNJmsxnqxhtvUS8+xsLsxPe0cOoidCVm6TnWovvpVLe8OA//rTrITJ8Ntr7jCdoVfcwGQl1jBR643u12O3xhAmu5GAi4zF7cRnXf+19ZGN/jeCL6JU1SgQcDIBY78Qamd40tiw52HNXQbDbDOhJWIvV7lYV51gmNoIxHUV1FFcZsmnIzTcfMAgZ47GxfXDM7sSYGs1SdTiesmtZBjfJhoHEcAK5akiR25MgRM7PAGMAi8CwzrKWlpbB+BuXBIjQ8lyTHg90AA3VbeItCtVqdmvJV0UGDYOjRo0cDm+NvR5XLZZufnw+W+8iRI4Ep8fQ7AqtoF1zT+BTy51k99L8HOgzKaqy4DmhPjueoLuIaYkEYiKzXrOdoXw6osx4xs2YA5kWEWF/U6/WCXqnrqfVSw8L1VMBFHb228do+TXJ/0C+WkFdovYZB4K1ZQMPNzs7a2tra1PPcSWZbFTmLwvKPB4ie8KD3GBYaHsDGnxYB7eeYC7cDvk3e7Xb/v/a+rLmRJDk6AJ4AAfDq6e6Z1a6kkdmuzPSg//9HJDOtmbSaY3emm03iJMAT30N/nnQ4PbIKZM/qpcOMRgBVlZUZGRnhEZFHWU/lLJMjHiTdbrcct4LJfXCnsJ9NRJQ9liOeAvnYzsPxDX2hAU5uC1taVSpK6vKiHdg9jycjItjL8oA5KTghE+9GwBnCrsF8ts74zjyuhQEUCSj/ocgUNWrmkpU2Kys1nDxhE8qQ6+o2p2c3G1uewHAgGcFoUfvZoTr9Ta9r3R1/GDS8WvG4lzlfOfPzM8sBAgOxSBPbOjgl5RQCk1N4NUaiLC3XITx1zdQd6na7ZVGmChWeu7+/j9lsVo7sxQZf2haX5oSwQ4CxN/BqtSprqFar1ca+PIvFogxqzChmpcmKFG3B8yCFzC6jWFPoXD6eZcWHzawwyCKiZLlwOibmqqD9x8fHhSdwmThQzHxT2ashXYeG4UKp/LDrz7/xLGbevoPlBTxRZcn1ZhdbFQ+78RFRMqKY4sAoumasm0ILqogycijq1YqH/1RIuXJgpFM+rtJaseFwGMPhMB4eHsq8DNyXBYGbmMHvYSY6JNWmXLauOpW92+2W43eXy2XJwkCBImaBmbYM/9kdY7cF/MaaJtwD4cLaMrxjMpmUo2+Hw2Hx+dF2nK+OdWAgIDceBBB6RheYIcyoQuNP4B8UCeqH8sFHHhy3t7dxfHwcJycnpcyDg4M4OTkp7cVG9Xt7e2UfYQSrOQvG/e8Cx0yclVNjpS4QyxCjKd60DX2GtkMGgPJ49wLc6ybt4RovHFal0+l0yjXMYp/NZjGfzzdWAvCYzVCPQ3mqUN3zWm8XEsmo9danTYWqVcuQUqaEDg8Py9Rv3rAb19UKoTz+TQXI/Y+IMlBRLiunrF36p21kvvCWE2yZXUBT53sood2I6+zv75elEYDa3G7mP9ZMQWlwnIEVGtZMcbt4cEHQd3Y2j5zhoDqvFuf4A/44AMtygB0BEI/CJDgMPGxaDsTIC10RDIciYnnhwa2ypDLD/YzfHdrP+on5gzKxcJbliMuGUuSMJu5DGXwiKvqCjR4jRD5jy51O4dyoGvrRMIVDM+puct2baCvF4/xURyrAylQHw+AKwF3ggcCkSoIZ0wYBuXq5NuMZhcCsNLhzWYHAneHPbvEgW7CI57vRcZsQzGbFg8HJ0+0B77kcDFpYf45zAInx9hO6fs21H+4EhA/1UOGrIU8oZczxwRIMRlKIAUFp6axsXi6RCb26zkxcFxcH4udduRx34UmJUOg6YNllZ4Sp8snIRtEHozuMyeVyWRIWLpWuBrhJOajicW3nexWpvwrxuIo0IZ5aA10wjxtydHQU9/f3cXV19Wz9TVPdQBkc1BQlKw1GJwpB+R3adrWeTlBY0SL4hmc1CKn1Rh0Q8+j3+wV+sxsHJcfZM95PCIe+8Xvh7nCwWQ3K4+PTMbioD3jFa67u7+/LFhm6PgyQnxUoysZ9qOfFxUVZAIlBjECzbtIGy5/1fWZUtC0gF2tho8Ll8mAE8lSXC32jmVooKJ27xfVQGWGZZLTHkzBxRBDP/Fblr+iFr2WuE9xOlW1WMozomxA8aKuz09nlaroPxMqGGe0UEITs6Ogorq+vNywoGunewb/VoJ52AMqE0DkYngl2rXxWQvwODpg7S5sF0xkBYI0S6srnYyOrgTlCgPocw2HhR7rfHQnDLhG3hWMHHNRl14GRFfOy03l+rhhSvo+Pj3F1dRW9Xi+Oj4/j+Pg4Ip4ybXDDHx8fy3IQPgPLIU/ms37m/mRjBBeGZdYhUo7PsJzy4QDgA6NeRgZq3NQl1L11gPqwtg9xxZubm/jrX/8aFxcXcX19vSHfLkThlIwqJYfE8Kzew2EEt32uo60Vj/vNWWxtjGpfF2MBs5GORoNqDXFChvdliKmNC+fK1/a5srRzFbbX3DcHj2FtWKkh4Ash5qn5UDJYJ8W8ZUFhK82wXweFth+zg+HmoB6YBMlKp+bW6IBDGVjRfnR0tHEPNntfr9dl10VFKK4f9P3cJv3P7h0rHpYldYO4zS62xW5r5hWAB/w+RsPqNQDxoKz5fF62vHW7PLg2u35Qg8O/a1l6HXyoGX6mFyseVigOrqm7gu8crGRLjwpjZzucSdTW3UL9uE5OY/N9qJdTOplvy88rTMakMeZBZmVQDtqeuQYgDkRi4h7uUQHltCpPaOTBFBEb2TTETty+PHiXxorgDsNt07gceKttUwWHe+/v78sUAOx2iOv7+/tlUKFdGphlZOB46PpUUQ+7Ttxm7S/0GdqsBgD3gO/ov5pMO96py4RyVqtVmSg4Ho/j6uqqzFhmXrCSa0Iieq8aIQ5HRMQG4mPX69WIx/mI3CgHVbNBxNdw3VWw2+3GaDSKs7Oz6Ha7MZ1OCzPV30VH6POZ0uCBWRNO/j1DI2gT/rugN66hnk4ZsvJygwYKerlclu84xE8VBNDAfD6P8Xgcy+WyxIQwKPAuTsXz5lGYlMj1UncKKWI9U0wzSMwHHUDgjbpyqAO21OCpBLz6Gi5lLW7oXGWug+t3yAb3rW7ZwgqH+xNuEK4jrgYUhXtYZplnPKAd2uE+ury8LFulTCaTjekKrk1tlIEaAyaOSbKxRp1gsHjuUo1edK4Wwy1GPqpl9X7+rgIBghbFuh3MfdHOqSk4jdUoZS6AojfXEU0w0iEhvYbPek+2sI5jDNibB0KJToYlxIZiWGaAa2yR8N9Zf6zvcu4X6oiBpK6Gay/+q1JlIWa5wW+Pj49lrg/iSnqwIXiSKX2lzNhwfTUgru4hDyqHCBghQfFwQFldGeYt2g/eaLwKwWrEcXjrWHWxlN94D2TMeQNAZsxDHm8Zz1jxcCKlRltt9u6Qj/sPyiqaKQ3Qzs5OyXCtVquNvXXVYrGSabJ+/Gzmguk9GvDL4HoW+M4+10gVICMfzNdgFIOOx4Q6npzHs8BZ6fAf2sk8zdxEDk5zu/hZHUyqgJhnmTLgND/v48PIjRFCU3+24TMjGDyn8uTGBP+Bj0CDQFC6i0CT/GeKBwqGy2elo0aX31MbH7jObeJy3GcQz09zCtVRK8Wj2o5dBxZS/LFf7waeuihOQHq9XrlnsVhsHHWbWTaOezA5Ic+i9lxXZ524bTwAuF5ZgDZDhFxP98f7+UREcT2gUObzeSyXy7IGjLM9rKyw/Ui32y0LMTU7xbCcFz+i3bx7IrtgbrC6vnfKnSe88Q6KaBcyd1iGgG01sE6OF2Q6V9bJS2Y0WVkz/9UQKRJC/TngD1kAfxjlaX3wHZlG9I8SeKPP1Yy8ojSVVyZ14dsiHg6wo5watXK1MusLpnMnaVCqViY6TAOQKGd/fz9Go1HJcCCN6tytJuvGpIytoaEmiwmhzK6jTK2j4xUH3nkFPG/sDd4jVY5N2Dk2g+dZ2O7u7jYCzK59GfznumpWi4PNeJ6Vl/KAXT7wmpEBiBEPlkygv6FAOd6Qubb8X9ub3csKxsXf1OBkngEUIrshNUOHZ3i3AEWbqkCyNmmbWYnxGNZnVOHoM4zuwSdkNPmaxsWUtspqOa2nncsCpffps2wZXJnoBJwokG0Iz/Vz1s5ZwVqb9J7sXW4QKzLkgafxCB40fB1Kl7eGxQQ6TAzEYMWcDlhCh0BRNgLDEU+853k1DuW5dmn8R3nVNpCpgVVYe0YYjIrgcmOTfFdPtAPfm4xf9psqIo2pMV+0z90AzsaFunu8xYoqHpUXLh/vcHzIyI0Xd63mGejiXDz3qhiPMsUhDVTMQTIVDgezNeiptLe3F6PRqATSHMzk/9lnnmOgLlvbjmK+uOd5oDulE5EvTAUx0sN2B5hasFqtStYKm4lhZqzWQ+f+cCwHiAS/a8atNh+D+y2zjm2JA57IrmFhJfMJ7iAfZcPpdbboNYFX2XQoyaEYHkicbXLGB/eyEuClRk5h8nvZ4OiEU66/a2cWw6mhmEwZslej5fCziO8w4oGhqFGrHQidYlHLrc+xhncN5850gstWZTgcljjA1dXVs/K4M3Xw4zqjK1ePmlbXerElYv5offgdWfsiNidODgaD8gchX6/XJcU8m83KFAPOODH8RXvVWq7Xm0cCs6Dyc7yTnOsb9C/WUOmaKdf3ILgfPIBg3bHsAtkgIA0sy8Dfw8NDWWGP71AGHGNwhk4HvSLRTCngGuYX6RjgOTxcd323K3O9fortYA4bn6mm93PbnPLj+7mdmYJBmS5e5+rKsg5XmBcIw7WvUaOr5QaQQzdqJVT5aBn4jwGiQTeGtNgU/u7u7tkiuLYoBeQ6qSnQ7MgpXIWmWkcXi+DUKWbMIoYD3mDCINKmbIkUXmfEbWMrBUXgeKCflT860DLLqqhZ+wA8cKl5CDquRzxtmAWjwUsWXLxQ65EZApeZdAgIfEPdQZxd48ELxIbfnYuObTSc0nG8bCKnPGrPssxm96nnAkXMe/+Avlg6XT9rLCGrqHNjNHipmQA0ihtyeHhYtpDkeSlatmNOU324Hk3xCYf0HLpixYrnWBC5vG63u6F04E4hmzMYDDasvkNY3HZHrFiAFDqdzrMYj/KF554wr7h93IdOJhQx61wSXNP28WpvLk9nASPgncVR8LwqHtRb+0Tb6tqC9/A4cO9VY+P6CP3f6/XKAllVoFn9HHEdXYbRtQu/ZbzTfgXveNEuDGhtbheodYwnq2CmVXmQuQYxcyBAPDh1UAHWn52dxcXFxcaePc6qcV30vprv6vx+nv8C5qug88BmgY7YjAtwBpDp4eGhrCzG/KVutxu9Xm/jFAWe3IY/FeyMH4wMePCx8kE9mXfML1ZcqCfHmdAW5Zfyl9HPer3ecKPwLAfbuT3Ma9Qd/zXbo0qPf+e+zQwS15mvO4TE7oVm3RC3UtlAvGowGMTZ2VnZuJ7jX1pn9RAccbtVvt2zOqadwdYxDbcYxoLX/iEDndFWEwj5N+6Apo6tWVQeqMoU1fgINGMmMzYlZwa5urOF5bgIys1IhdJ1lqIv96wqVK0nyuG/iKfjW3hzLFdnVuAZCnXIktvgBhQPFO5PRjcoI0tpZ/VgnnAAlUkDqzVEoUrAocHab6qkVNE63iNQrygbxLEnyAH4hms7OzslkQClUyNnbB05GUAdmE8sF4ykVdFl/aixPdTxi6bTtcL83TWMK60KS0ljDBkkhR+MjI5agTYumDIYvzPjsjpwfV15GWWDR603Kwc+j2u9Xm8EMN0g17rojN5sYCm/uGwVSn2uCfbX+KF/2iZWppnL4BQ7/jt+1+TLDS4l5r0idafEVNFzOQjQHx0dlT2Hmvo2o0z2HL9eSopceZ1exBPCzYwxU6tFoiAnpCw4Dlo7ravP478KmXsWW6QC8eiZUigHFsUJM97BQU0ISa2+DrnhfexO6WBSdFBDkmgHMhw4KRSKFvN5WPj1fYyO1JI3xbCYPxGbQcLM4IBUcTse6rsU1dbuZWWSWXNOxXM5qlSzd2UGj69zQJ5dIodkGSlpEBzTJo6Pj8s2te69rJRrilOppqggk8wfV39V6LyWjjeWh0eC+14V41FynZ5VNrMo6nrxsxoX4WdYYIbDYXQ6nXJudmYxlRQdYc0RtDTKB2NrZaActXT8P1PUrjx2k3jaPOI7qB+fvKpnh2kMQZFoDZWpklR05QYzt5/5p+6YKmP3nXmPdyj/skHHRoQXuWJAKLJifmt/ZUqthvCg8GDEYPgYyWqs8+joKAaDQbx58yZ6vd4GKnIKnJ9VBcUhiiYEytc5Lsbt1HHsxjvie3xCLZTrq4PLbRvAldJAZ01Y1F1hBmj2iO/HJufYqZC3+OT61ToBAsHM5napQlUhZXTjLDGXkwmtU1C8fw5vMcABXAw0Jxggdo+Yj1ofVjiqYJT/KkyMHPmaoiu4wOC56wvl70tovX5anqAJBFzXz9rP2gb+niE8boPGxxRpAdH2er1y7jsr3CZS3mahhew5rY/jk3uWjRf4zCfgQvGjj7+I4mEr5b6z8LsgFRNrflhKdRWgwNR3B7Nh9YfDYckE1RrrhAbvQSZCFZXWWwdHFmtRy6rvVoFXRYYO5KNh9CQIVSbgKc91wbtUSfE1tnjqvuEe3n6T+zfrY3U7gZ643BpfuF1ZsFqNFu7VYDjLTI2yemR11XqCl7zvMitb7rOdnZ3o9/sxGo1iNBoV9NpUN+Y3+hT9W+MrfnPXdaqE8iEbw5BHHNmDcuHmvlrx1FwFVj5aMYaxTdkYDkg5OJ0xbW9vL4bDYTl7ya3azeIc0NjZvfjPg8ZZTwdR0X4uV7NqDmHhGSCefr+/sXkUDywIDM95gbJCsI+Vjgv6scLh92vg1AVP2UhoINGlp1m5M/+cG6YGgD+zS8V11Kwckw4eh8JZyancOQOkbUCdNYWsbcMkwW+++SaOj49LtpL5xm1wbdf6Op7ze9WAswyy0oB8aN+o4sF9WCPIMS6eTd60rvJVW5+63/m32oAEOR9cIbkeGAfCNHtseN3UWK6bxo2a2uQssA5EB5d1wGauDuoBNNfr9TYWTPJKZx5ojETAEwxMIKaIzUl3+n4VLOVVDdWponDkrJ9TBMwjVxd+FnLD/eIGmSKFrHx1RVx/OtToeBLxfO+mTucpMTIajcqaNNwL0vCDujlMzijws46cUuP2OvTDKCsiyhIJ3vUQxk8NQUYv2oFwW1ImglijsoC3EWqU0+v1yhaf2JnNvd9BUFY+XI9am7kt2ok1iOveoQMaqIVPiIQA81HCNQWLuBCUGOrJsQ9exOiopoAdInF8UqvLbVR+ZHx38qL143dl9VclnT3jlI6W5XijitwhKqAdpM7hjjIpGtY2Zjx1aFSfdfXNKFM6eD/veggjjvt4S9gabbUfjzaEr2XWid2uCD+bFdoSgwwW0qUq9TlOr+PoVhYAJ2wqdBmEVWGsBeIcj7SdEbGx5QOeQ8f2+/2yBQayWnt7e+XdQHW8tEDf2+/3y/49WLwJRAilA96y4EMJs3UFPxziYVieEVtr/R3E8Rhtj9YHxOuzuDxOP2t9tb14zhk5HcjMo2xQ4R1qyCDbo9EoTk5O4uTk5IaBi94AACAASURBVFkMTOWBEbCODYdAa211Bgb951AO80B3QcR17PUMt54PXsRSn1e5WjxQ3e/uflRQG6qfM/SDxrFg8exQthQIZGLGJ86Odhtfu7q4AaWUpTTdc1xH/sz3sXAyLMeufuv153O29/b2imVEOQgea/ASg3N/f79Mu9/b2yur2bO2cZ2ZVPE4Qh9xe5yQs4uTDZxMPtho8aLMzJXSNrE1ZsOVySmI14i5OJjyievOPOh0OiUDe3JyUlwsxycXs+EgMm9VAiOhvNDyVBFr8L1GmWvHy2Q4Lgm3HkmQJtpqAiGopnT0Pqe49DkVGh3szGSdGAgY2+v1YjgcPtsVj9+v9VarUFMqjjJoDmuhbXOKS4O/2G8G6XN1P12cCYrr8PAwBoNByZTc3t7aAavfFTEoOZc0401Tm2swnBWYewZGh7N3mVuEctwAQjt1CgD3HdqsaEDvY+L+wXWcEcYzk7U+LqjL9VQElHkcNeWTZQhrfahoE4oHsgmeoE+63ad5PE3U+ngbraSzNPg9a4z6jvq8anIebArPmfb39+Pg4CDOzs6K71lbK6Lv5V35dI8gdb24nVm53BFKWEmtcZb1el1OT+10Pm+FgYPrOp3Oxube7GpwxyOGADQE4Ue8iE9mcCjWuUDoD+4TRRBZSpcRK9roLLvyGUhWXRAYGczeXq+fMmZaJ/wHUtQUvBpEViY8qRS84v7mMlkWtK44Gff09DSGw+FG4N+NG+YnrrttQpR3NeNYc8u4n1SpqoLEZwSV2dVn+dAFwxm1Xp1ea0DteVCNORCKTHjVleEyMX9ib28vzs/PY71el7VNi8ViY6GevpOZzAzkAKxDZJng8mfuPJ7fwelGPgwOG7Kzkl+tVhv3q3BiJTv4dnBwEMvlMtbrzzvATSaTiPg8UM7OzqLX68X19XXZwRB13t/ffzZom1woVnhK6go5F0VJLTPvFaT8xpQDoGO27Iw0WZnAxcFsW+Yn6qyz2aHkeIa4KgVXTqfTKe4VNnVjlOWUKvcrflOkw2OxlhxQvrLC1WkD3E+K2vUzNuDX43R483895iaj1jsQooJamew5/M/8dy7Dpfj43Yx63GCH8B0cHMRgMIjHx8eyDzGY5FLmeGctEJYFAWvt5/oju8RQVK07vwudxtacp6Ur0kAZ9/f3cX19HePxOB4fH4viAeLZ2dmJXq9XBisrLBbGmjJRAUV7lBdO0NvyUmMknDFB3XSA4r8qHBgmZAQ5dqP85DgKth7Rdypici49FFa/3y/r7NzGXmrQm+SJ+6Ct0lFybmObZ1hmEFRm5AVEDZ60ASkvXp2eWXv+jTuV73OKS100fZ6ZpdYRCKXX68VgMIiIz4epYRc/3eVf6+Xey4Ok1hbXbiYILh9Ho+8E8QJHDFrOSDlL1O12C3rC+6BwZ7NZsfb7+/sxHA5Lu3gfHZfWd3Ev5ZMj7scmmO/KZGOFge/6QmWD663BbI07qPuOgQWlA0PFJ4Bq+2DsVDYxCAeDQdnGFAhH26xKRxMR6k4pf7ReLBNZQDwDAk2gIgssR3xGzJBdDlfUqBXicULC92TfHYRTFweNUnIWjRvEQUb8IdbD50/xudJcLxY87jRobq6XcxlU8N2g4PdhgLOPzIOeeYN3o73Ob0Yncx2xNSwgL7J7y+UylstlvH37NobDYZydncXu7m5cXl4W6Mxt4r4BqmH+o55cB00IMJ/YakZsukM6EJiHGnjHcwcHB+VsMe4DlU+WDfACvER5qCPqxrNuYc0d2nPKKyLK9I6zs7MSb0NduO9QnipWVQaZgnZjkevF/OTftXzHO4dgMVMZs5VRNo+5m5ubakaZqap4dD8XbjD/Zzempo3VbVL0oNkM1t6sDCAoGjS8ubkp6OLk5KRszL1er+Pq6srOqNTBpssbdCkHt4XL0IHCZdze3m5AfK2DQ1HOSnMdUDcOgGqQl5HLw8NDzGaz8tz+/n4cHx/H7u5ujMfjDXeT+wNIUf32zCBoO7RO3MeZZWVegV9wN4FEDg8Py4F+t7e3G7zGin70E+QHMTTtMx703F60zw1+J0fIrGKbC1ZoapD5NzVW2Xv4MydhHOlzis607g5Jc/k40VfPjOcwwnK53JDHGlUVjwuucsNRUf6fkSoOPKOxFxVafhcrLReHgKDu7u6WI5Ajopw3jfPEM2uB97OCZCZzsI8F0rWV71c0kClnFRZdPc91YqTBSIF5rYqcA8qnp6dlgGLBX4a+HJJTBaz84H5V5cN1zPjHigAwH3AelhZ/utCXByX3gx71qzLHddL688RLbTcM1tHRUVlx7uRTSfnsFIven5XDz6ksscwwj7UM7Wd8BuJBfAfPs/GP2IxFNlGj4slSpTUmuEaptkWlM8WWpdbR6Axa393dlQWkPD19tVrFeDwuWtlB/PV6vXHmOAuqCwg7txHlQWm4IKZDPAzlIeiY0+NS6KyEWGAyZQQlBB+92/28r9FgMIi9vb0Yj8dFsFwqlcsHDzhY6+TA8Y55wvXS94Ev3BYQ4lYPDw+xWq3KCarK35rh5EmejKg1uK2K07kRQGBnZ2flLDQlRVr8DpUHfZe2A8pOFYXGnUC8CwEbI5Ud/kPfAikuFouNRaH4D8QTEc+MV40ag8uohEJxtaaZUmDt6eCfs6YgdPju7u7GAkd+DsoRzLi7uyvH+X777bdl+4FutxsfPnyIy8vLuLy83ICMrOD4PUBW6GingJVY0Tirp5bHEStnWHtdCqIKHC4I3AkWWtSHXRhsJ4KzvE5PT2O1WsVsNttI82fojPtIt+NgPuB+tu7cX87FcIaLoT8g/mAwKMoUsQXOQnEdWbFofE8HqtaJ5Y13H+x2u2VfndFoFMPhsEwSrPGMeaEIm+eUuf5zCgzPs4Jx7dOxlvGZ+YeDFBeLRYmT8nN88CCSOTVgAqoqHvZ3a0imDSk0x2/KmAi/fQZbXO54JSAFTMbb39+P8/PzWC6XZXZvRMRkMtmY3o0BXHuvQ3tusOAeniRYUzaukzSu5ZQOCELsBpy6E6gfMhQRT6vYkZHRuSn8nA6IrP78jN4HPiqyysrHd8yzgULe2dmJwWAQo9GobAjHz6oBzGJUmdJx/QzCRm1A1jiCKIu7ZDzSPuY5Q4xkMkOvfHNouvZerp/KC+KBUOxuexOebMlp9iaqKh5E/tUPVe3rqMkVq7keIAfb1ELoYFuv1yWVPJ/P4+TkJI6Pj+Ph4aFkHFA2rDuTWhTuiCYtzmVwEJzLrfGG7+Pn3ODQ7zwrVokRKpePmFen0ymoUN2nDIU4dy5rS8TzLKVTiM6dBfF8JLjBmBl8dnb2LLjJbofyQNvlBqG2lZU/+DQYDOLk5KQszFVZbCqTjRIQC9eN3VD+71CzG0NsqPk+115WzGxsMT9Mg8rqESBz2Jaqime5XNqTDbNOUwujwlWzfqAMIbAiYMarYsT/5XIZP//8c6xWq3j37l3s7OzEcDiMXq8XZ2dncXp6Gr/88kv88MMPMZ/P7QBnYXDt5zrxRDotxwUQWYic0GSrv7X9KB+KRyG3CrfW6fHx86p+zNLt9/vPUv7Mi6z+igTZNeUV+WosmC8uCA1C2nZnZyeWy2UsFotSX5zUgH6vDSyOUWTohkl5jYP3jo6OSkyHlXWGJJwB4rpwDA9oCmfJoQ7Z1r5sAHjcQWFyXbJnePoE7r27u4vlcrnhfnO9u93Pp2Q8PDyU8AbKdd4IU1XxXF9fl0lU8LEz1+Kl1PZZneOCzuDl/UrL5bLM3sWAenj4fO72P/zDP5QFlT/88EPxYXkVsA4yJueaZeggKydTOm7wOZSoipynA7g1Z1wuD34ITqfT2UiPKh94AGVuCyuUDIHpoHGkrhxkMCJKEByB5cPDw/JZN0qrESOJzK1i97/b7cZgMChBead08CxPZuQpIU4WoAT5HDX8YXLo9fX1s839FT3is0PEjv+Zi4/63t7ebuxpjj+EELAIFrFVV5+MGhEPTrLkbRjaKh2Gh3qvG5w8SJg0zsT14EltKuhgHA/Gx8fH2Nvbi+Pj42JBV6tVXFxcxHq9LnEPHeg195Ktf9Y2/ZzxzQmFPuP6AfXjmbZsZfmzawfmPB0eHm74+yrULoahdc3cLzYYSs7i8jVetoDZ3BFPSgjuV7ZPEfMvi31xe5S3cPUQSAbS0r7hwccxH12W45T0wcFBHB8fl32ZsLkdpoKAh9qXrEBde/W3DKXyPXDFkQXFb4ycMWcO+0QpiqxRVfHMZrMy3Z7Pc1bfmRuZNb7WUL4vg9q8sI6ZzdkTl56/u7uLyWQS6/W6KJrpdFqOjvmnf/qnODo6ih9//DF+/vnn+N///d+NDIm6eCibZ72y26JLEFRpZsqLedDEF7WsvFEUsipAMVncxGWs8Bz4qLyuGQuH5hRtZYYHvHNKjd1IuCPYaXK9XpdtUDI31ylJNlK4X+MbrMCQLh8MBnF+fl7ON3ft5vgPFBMrSq1Tp/M08fD8/Dy+++67sqAVWSJsqp4pDTfmmN+ZsWQ3C8qP5+RcX1+XFLq6bBpz0/hOU+a20dVaLBYlG8SQUSuiDc8a6qy0IosaZRoadWLUAyY+PDyUndF6vV70er2ioe/u7uL09DR6vV58++23cXR0FH/9619jNpsV9OPa5QQafzxwmxAOl63KjpWOS+fDqmLg4tA/Dfw6nnOwGdAZdeBMBSt2h165zeziOEOD510cj1Pt/Czg/N7e3sbaMm6Tc4+Zr6wA8ZnXxalS54GGzBn2SsYyCOfe8N47o9GorBfE3ChNlkBJvXnzJt68eRPv3r2L0WhUMkTz+Tyurq5iNpuVgc1GBmVpDMkhYu0z5jtPVcB919fXsVqtivHSMY+YYLfb3VhPWJs7xVRVPJjRitiHLmJTxmeoR4kHhf7VnuH3uevMbL0HJ45GRIkXQMB6vV6Btzc3N7G3txcXFxdxcXFRJkW1fT8Td2SWJlarxcqzpqwUiUFJuN3fIJz4w8BhdIbg5e3t7cZZ7XxSaza4s3agvTw4uJ+zYLJTluCHolyQC2Y6g6johNGoogkET6F43Epz3uOaT37d29srWTZdkxfx5Kb0er04Pz+P09PTGI1GsbPzeRc/BHV5xj3zzhkhRZSZ4q8R+MspdOfedbtP69h4kTLfU6Oq4kEqDXM7WHi1cdmL9JrLVmVzH7Jn3JwGuDmwkiibryP4CCgMqzefz8tcjH/7t3+L09PT+PXXX+O//uu/4pdfftmAus610GC3umjZNPKMb26A4D9bbY0fZEiHoTFOrsBES9QN7spisSg7GPJaPVU8sG78vlpWivtF+88FqvkzBzZd+coT7ScerIoU2ACxggDKPz4+jvPz82KYOGgMlIN7T09P4+joKHZ3d2M6nZZFlWz0QDzb+f379zEajaLX68V8Po/ZbBZXV1fx8ePHjUW83OcZOYWdeSQOtYMPi8WijBeneHQrDMhgk2Ir7a9dxCSz2WwW4/E4zs7ONjJcmvJ1DdHv+qcwLyMVGLXYEZspaPjg/G7429PpNO7v70tadGdnpxyHfHR0FO/fv4+3b9/G73//+/jP//zP+PDhQ/zyyy8xmUw2LJdaYh4o6tLgd0YCqsB5ADpli8Gr/MaA4gCmm2aA+SYHBwclRcrKCq5Mr9eLiNiw7hynYSHMXEke/Ow+4Xnmj/ax9tnDw0MZwNzHLDP4nfud+0gNhsZAUCfspfP27ds4Pz+P9+/fxzfffFM23oel5zbx5Mvr6+uYTCbxt7/9LabTaZlJzgoaSGc0GsXbt2/LnuHL5TIuLy/LDPv5fG5jbuApywnzAvc1KQEGEigPYGM6nRbFgz4An8CLg4ODjaOldEzUqHHmMjb/ASrgiqrfl0FwZcS2SseVGeG3zmDk4eaLcOAV98NKdTqdEtDb29uLs7Oz+NOf/lQmif33f/93SS/WGKsDPkMEzBNdv+RS1xrzYWIeOKFbr9clcwUXyq1Zg7GpzU1Rt6mGePV5rrsqHvzGfOMdCBziUZ6qAmd+6OBknvE8pvfv38c//uM/xps3b+L9+/dxfHxc0ACfx877PO3s7MTNzU1Mp9OYTCbP5r5we6G89vf3y0x6DOCrq6uYTqdl5r3jDX/muKvjN7fbAQQtB9MUMPWEg9qs5MAvXabRdiy3Ujy3t7cxn8/LNgqIAdQsXvYbN1j9/xo59KSIAZ/dwNTnmbGw7N1ut2j5Xq8Xb968iT/84Q9l4uH19XV8/PhxQ6icYDllB34y8YDKUKMSx2Q0M+MGOMqD367t54HKLilPHGWhY+RV46+SIsKa0WFkgM/INLoJnRpcbVMf1APlY6vS09PT+OMf/xjff/99nJ+fx9nZ2YZln8/n5VmOe8Jlx/5P19fXG23htiGojNX1j4+PZbb9eDyO+Xy+MRlP+ai8cjxuUkSuXqx4GF2q3CLgv7+/v7FwtC3fI1ocYQymzOfzsocv4gSofDbLFpVWtKNuU03pqCA5hQIoyIR4Dws47kW7+OB5uCFHR0exXn+ez/Phw4cifOfn5/H27dv4y1/+Ej///HP85S9/KS5blo1iSO/cMW4Low8emMozELtSao0c/6BkkSZF+531u729LfGgnZ2djY2xNPCtCk/LciiF+xR79ar7hZm7qKcei6tKq2m7VncNA6jf78e//Mu/xB/+8If43e9+F3/84x9LXHMymcR8Pi/xmuvr68IbTDXBBD/OhsIF437Ee/W02Nvb2xiPx/Hrr7/GxcXFsx3+wEfnTilfnTFUnrPxYAPOoRVMU8BznGo/ODgof1dXVxsue1vk00rxRERJ72GvG0w048l5NQHkMvl+CLPLSrjnlaC4eOtFViwaaMZnjr3c3d3FYrEoWh6zR7vdbszn83L/8fFx/OlPf4rvvvsuzs/P44cffoirq6sYj8cb7pcTdlWg6HSs/FcFzAiDy2JlhPuclefnVBGyUtZ4DSMk8IK3CNE2qrvFq7dr/YUytB3aX8jUcXk1tOXkhesMecP2pCcnJ/HNN9/Ev/7rv8bbt2/Lur6ffvopZrNZfPr0aYNfcJGQSp5MJiUmMp1OCxLmflLDgTgS3CwsAcHsZA1J4LO6TZmXofKQeR7cfxFRdhnkZIomLGAsEEvjrK8qxho1bovBwoqZjNjlzfn6qpldeSCeddyWGCkoMkD5+GNYnr1D/XW1uoyk9vb2YjAYRL/fj4ins9t3dnbi6upqY7q+Q3iONI7h2ss8UpicZXqYH5lgZILJPISQufco0uO2aozK1VGRILvJ/B2ISJUu8zBruypILAE6Pj6Ot2/fxjfffBPv37+PP/zhDyXWN5lM4uPHj8WoYEY3ZisjuIxExXw+L9knfpfG5lBXxHaA9vC8Tt1o207XZlVU+rzWEZ4Np9CdckP9Ub7b6tShMaVW22Lg883NTTkepd/vbwz6JoiVDUAIV23HNqc0ONbh4io6+BXual2hfHD0C/b17ff7G+7m2dlZDIfD+Od//ud49+5dXF5exv/8z//Ef/zHf8Tl5WXMZrNngsaQnwcPb5vRRvmysDhY7cphF0zdExcPYKSBWBcGCKw5l6H9zsqjqd/wHpQJJY93dzpP54mxa+8UprZFUVWn0ymLSY+Pj+Pbb7+N77//Pt6/f1/S2Vjb9+c//zk+fPhQArxYXoPZxciy/fLLL3FxcVEGH8sZJzYUwfT7/Tg6OirHEX348GEjoOzcdh0/quR1YiUrH0UsLvyAbNZyuSwKVPkLtAiliXGhaLjJ2Ea03PoUHQkfcDwex2AwKOu4cC9e7gTZfVchaqPR8ZzLZvA11fy8ejyLE6EcuFx3d3dxdHRU5mrs7OyUjAW22Dg5OYl///d/j7dv38bf/va3+Otf/xo///xzLBaLDYHUeiKQx/VqarMqsSYk5Yh54lAInsPAR/A9ItKjaTFYXMq9beJAeQS+uMClKhk1NqpsMFsdweOTk5P4/e9/H7/73e/KDpUY/JPJJKbTaXQ6nYJu3717VyYFLhaLMpv46upqw8VWA6f9g0F7fHxcsmAXFxcxmUwK2nHxSO07Jn1GeeoUFhQIrkORYpdBRjxK3W63rJoHQtI+bFI6ES1dLQgAr5RdLpcbZyZrjKDp5YxQakipRizsmqLlTmMr7N7jXA0oBt7j5eDgoFxfrVbR6TxNpDo9PS0TEw8PD+Pi4qLA8FpHqtC6zJd7pq3SeUnGEAQeYK3UwcHBRrxFLZwrp/ZubjNcW+6zLG7I96jMwZpDNrEHMk70xJYob968KYHhxWIR4/G4LBM4ODgoRw5jh8b1eh3L5TLG43G5t6Z0lD8RT5MGsW0rMlnuUEAtw7Wd0aND2Zni4bEHPmOFgu67o/2FGdfQBxxaaCNroFbnaqFg3j5hNpuVyD7DYMcsrnjte0ZuMDJ60fiDKh++nrk0jEQYvWFyFGafwr99eHiI8Xgc3W63zFp99+5dvHv3Lk5OTuLHH3+Mjx8/xs8//xzT6fSZL5zBcB6I3F6uJwtFm45WN5N55GJyKBuoDxYSEwuzrScgmLUlDZqWxzO19qj1Zx6oxQeqQEwGJz4AaXzzzTcF9dzc3BTkwqeunpycxHA4LAuJEcsZj8fx6dOnclgkkB7zV5Eeu9LYywcu1nw+L1vQct9wm5tIXSpVdhmBX8gW6mEITuF1Ok8xMigrnsTrXN+MGhWPDpZOp1Nm+XKgjgXLBchUMbF/qsrAdWSNMqQAweROAQMV0nJHq/KB5b+5uYnDw8Po9XpxfHwch4eH8fj4ed7Lzz//XKzj999/H999913MZrP44Ycf4s9//nNcXl7GdDqNxWJhA3ewGA454JryruYq4V4lbavjHfNnvV6X43mA8FgONNvECsHVjZdNcDYT9eJYhfvTtnGmCdtKYGU4jCKjUpwt1u12SwD56uqqrD4fDofx7bffljT31dVV/PjjjzGbzYobgrbwthfgFSNvztAhvtTv92OxWMSnT5/KsgS0g1EejxvmH/e9oh/8VnP30LeoN5QO3D2ev6NhEF52gzlNmeF6leJx0WpkGRBsRWoQQqQWzw0kdYvwV0vBan20XBdUZSvIsFRnCYPU+uo7EGBHWdgegeNcd3d3JUawt7cXv/vd72K9XpdFp5eXl8U3xhwiVUSZ8nF8YZ44VzJTpm1J0SS7MhFhA4tah2wGOcpnRaXKRQ0Gywx26oOiwYJO7B8FmYSLc3JyUoK66/W6uGLYnRIIZ7VaxdXVVYnnIJaDtrJc1YjjKUdHR7G3txfr9Tomk0mJp+iugooItS+YFAEyf7O6aNyWU+jOILLL1u12i6y7rTDaoq2IFxxhDOZg5Togmi6gU7+TBYcZwUwAqasBcjEdJvX19T7OpHB5+MzlaH3RIboLHIKXvD0FNh/b3d2N0WgU33777cYJp8vlsnQ4XDmeno73cZsy0hSz8+kdn9q6ak4h4L18IkLtnaqM+LPOjq256ZAtnkuDID/S3LyRGQjzdhDvgfuEuVrIMqH/4H7NZrOy2JMRFteF652hi/39/ZIdvL+/L2Vq8sE9D9L+ckqniXTMYDkUn9LRxH/0ORSPGsm2LmIrxaPQDelObMiE41F4VTM6kRvjUq+oLJfvlJGSKpWadWA4jDqx9QIz+T4HdbmzcVwru5uwat1ud2P3tuPj4zJI1ut1ETrMIsYpjZhAxsHGTBEpctC6ZgpVFWlTQJCVLPinqAMoklP3Soxc2AVhdxgTKbXenMaFy8IoB1aYn0NdYADgeuF+GEnMXl8sFmUSoMZx2Eg6NwZtUCOADBBWniNzhMXGrm+dDDa51m0VjyJIjGFMnnUuN/8B3QN4aHBd21KjRsWTZVUweG9ubuLy8rL4/kg76gIzbjgrFoZxzGxFQPxud08tLqSunfqx7Hrp6u8mK8RncXOaHdk+tAkzZRFf4BXNCF4jswA0xEsFnNBxcLhmcTNybhHzD89rsBjGx0F/dkM0nsTlu99ZCULQIexIbSM1zvvg8HMqKwiCjsfj+Omnn8rukxFReH19fR3j8bjwn10INUrsDrER4HPccT+C2vv7+2Vm8mKxeLaSm/uD655dw3eOpykic+WwElmv18VjQZDYxZc47gjlz4cBvJS2crVYqzNygCbnPXszoWbl0+R+vZRqAVNWdmoBIKgsZFp3lMW/ocPQeVA0mGTFSIs3U+dlE7z+5/b2Ng4ODkp6U2eTugHvfucV5toeFbCa1WULrgLvhNz1vYvdKHqDcIMnyE4BNcCo8XYdmWLld7CBXK1WZV4SBtBqtYr5fL5xqgYjnEwenZuB/7zWDfNksABZ783kjO9z11lua/VCOeBvRJQ66WZfrg/xHBAuwgNt3pvR1jEeKB8O0mJhWbfb3ThNsea/MvNYCbHmdpQ1TF0LDnLrgNT1RGzBOeuiZfPvOmgAXQHdoUwweLgsbTPPk0FZvPsjXDFO7WvmRykbMKoA+D8rGkYTzHvwVYPOGalCdEaBF7xyMBipcN43icuFQs8I7Ue/YNsJ/M4Djl1IlgGnWDIvgJ9H2jwiymz/bEFxhlhRbsZX/mN5dAqEs4iYJoEFrc6oKWLlPZZZ8WQA41WuVjb4FGqiEY+PnyfZnZ+fF6HVvXjVuiozuWy+7rJW+N3VrWkJBscm8G7nEmpdtXy1WLCwEPTFYrEhaIiPIb6iAof7ECwdDAYFSUFgeFMs3klQ9yTGM0yZIdBsinMpcI33/VXlx4LOCor5p+2FnCBQD3cV57pDMaMMne2dIVz0E9rC/FALz64by57KgvJNM6SIIfV6vdI3ihCyPsh+499VTl1AWF1eRW6Yv4TNvnhBKJfB3/lcM548ybsVOACRUWvE4zoXlXt8fNrHYzabldXrfKB7hN8tTb8rEsqQD2e43LWszvxON3gYBakQatszUqHldqt1ZeHJFB7QE+7FdhFQNvgD2kKaXs9Az+rsMor4z9Y047dTvoxGdMDxYIDCwSxhIBy4WE4ZuEmKmZHULVv0f1Mfg381OUTbdCsRuMpcguvxAwAAIABJREFUH2ds9bfMeNb6MBvwrHRgDBDX4ukc3BY8x/VCvC0iNlzSrH6vQjzaEIcu0Jhut1umgGMtCjpBK4Xv/Lnm89YshCujDbEV1wyDW9eVCYe7ropULRSI5xe5VDorX97SE9kx1BUIizdxgqvGwW+dZcqDz/Ur6uusvw5EdT0ZafAzUDb44zhOv9/fiOOoS8Lv0kA08415z5+1D10GSfvNBa217WgXsmWdTmfjkARF+1k9M9nP5ELJjQ9GoEDcqnicslC5xhFXiOuqvGZjO6PG/XhqhMoxfO10OnFxcVFSo5hmj+uO8TpQay5YRvxMltXKYjVsoXlg8gb33HmsTN27nOXgQe7qhoGOcmuWg2EzUsVoH7tYmGvBW5oAGbFbhtm4Gu9QN8q5t9p3eBapbpQDV4Y3nO92uwUZ87o/5VEm4I6cJeZ6oj7aTyCVEUZ/Ti4xRwgrtrGQerFYWIXiZJ8VZ+YyKqLhseQUryIdyPdsNovJZBKTyWRjTppbFY//iFnt7u5uzPnBO9uiHKatZi4zKbTFS7GuBRXhdVwMkbmy2tiaEmlLtTRy030q6EBA6IRMuFFfhuZNSEk/86CvdSQLICsvvBOIA/Mujo6ONtAPrNbj4+PGtqJATxyf4VMsmC9cDxdLwvISVjQcr3GDI+t710+MVp1bpwNSUVmNWNHg3YrMoTgR/wDS1PktTe4V89LFMrV9+hsoQ0x4F7Z9waTfmgvOCpo3PuP4DvOoDcph2jqrlREYwUFVzNxFUAquhYsHMIMyLc/PRHgk4+5rwxStg7NQ7O83Ca8Ga0FN2TrNBrYhF4PggY26QwkBzXGfcfBavzsFpGiIFQ+C4vjDrHb+Q51QBxc/dIYoaz+ecZSFDLK4UBOx+4tpE51OZyPW1sZwOOWjdWVF4xS+e8YRJyaAgvXdrp0AD9xGRTnbKp2IVwaX+VrEU3wEGvHh4aFsLwnfnX1mhYoKh502dkiiltXI3DQVPIWkPBi0Pvw7D3AeAE7onEvHbWpLtWCnG8D8bjyHGIo+x21fr5+OCIbiYYWl7wHS2tvbi5OTk7JnE5aL4BpPG8BggCuIuIibJ5K11RkzJW57hHd5szapEcFsaGxfikmK2EJFFWbmZmVywkkPHieKUJyhzvjw+PgYi8WipNB5ci+Xo4q+09mck8ZIicd91uaMtl4y4b5nkO/x8TE+fvxYYPtoNCoC785IyqxexhxWFvxuLrNGGVLIIKRTOqystA7KG40X8TWuL+7JlKare6aMMh7AMOg9GvvAoW0s+LD2WPuE1D9cqr29vY3Z22xh+ehb5t3Dw0PZFwfLFxaLhZ0hrXxVgVcl6wLEaCueR7ucDPJ9HM9BzANKU2fy1gyQ+4w4S5PsKlJyssPoEpMFsY9QbcYxKzXu54goyQutnxtzTWOvleLRzqhZXL3/+vq6WLxer1cdeA7hZL9ljc3cmhqsZveGy+Osk4O6mQAp01F2NoiY9Nmaknf9UqNa3KGpPqxkMd/m5OSkxHCU12wNMZcFcsNzZjiojNXifAoDZtYy8so2CNumbVxf54ZpmYhPYZFpt9vdSJlnaWlFJ/jNyUvNq6i5WvoejZdBYagib5Jp1Amr+fmoYkWQ2fMZvTjGUxNyRgWY2xMR5Xwqtnau8W3RCu7HuzKopwiGO7iGFPCnsQgnTA45aX3ZGrsB0qTM2PrWBNS9/yXkoDsmx52cnMSbN29K8gDKhWNDCHDjJAa3XAB76GBrFSid09PTsnAWCAgZFVcvN2Cg7JVY9hw5FI164VBLLBXSlHlEjqTBU/zXOjf1Wc04Mw9YKazX66J0sBsm19OhauYNgsuPj4/FAOAeV1+tS0atZy6jok2kyALH4uCombdv30av19sINteyRK4eET4Ip53PA1VThU3t4k7kDudMCtwVCFrm9rHQ8QJBHgD4jrppXEEVZYbgMmXIAWuF5o4YAXLbe71enJ2dxbt376LX68V4PC6nMmAQPj4+bkwe5fkiWubOzk45PIBn/WKXQLhxq9Wq7Bmj7q4SDzr+7/YFwsBzCQMgMt5f/P7+vmzghU3d8D6d8Kcoh+vskIvzBDgWkwXRtT+5nTizCxt98TOsXJSfKBOuMc4V4wXLfC/3raujUutTJl5KnOkaj8dl1u1wONxgUC0wq53jPitxTOLx8XFjtmxEnhHLfHKHmFTZqQtYq5u7x0F11wdNgWkXgNf2ZFRTwvjM+9sgfby7u7txZC+71Lywk9dldTqdsjwCLht4CKSMdU68d3WtfQ7N1OIOzmXgNmJXyYindDTvpZO9o2ng6SCtybw+49qHdii6n8/nhY+ayVJDrYuKkUbH+izeBK9p7DXRVq5WzTq6axj0nU6nZC8mk0mB2JgSzxawBoGVmjpZmavoB595wGdtwe88sHTbD/cM6ukGQma5spjatogz+53bWDMuPCAUIUCZHx4elv1xdnZ2NpQDYjmM0oCE2K0CmoDLhlnX2KUPhwts60a24ZdrL9wLzEPa39/f2EKDt4SoIek2PHXKy4UeXNtrygeeBB9Zw8+5uqqbBKPR6XTKEc4ZT7cZtxEt91xWoXdZrkxjszuyXq/Lkafr9Trev39fLAsCdDUflhvJjc0arR2IjoHwc2dlbQMPQHiOlQTHb7herHjxpyusM8TFM3hrqKaprvy7Kl5269pkxNbrz5uYXV1dlfJ7vV45gRMDEgcC8GJSDAjO2kCuELSEdQasZ9eNn6m1Wdvi0AR+V/6jfkA5WCaADBsyV02oS3938uzqg/o7JM1ypGUwusR/nAbz6dOnuL6+fnY0UVYHbhtmlD8+Pm6sYncuJSvGL454QE7rKcTj+9AQTN3Hfbu7uzEcDktgEfe4TnMKpo07w9+5XLX6qGeTlWTG80BQ65O5Xdq2GurJYDXXuUZIz3Ld0U6NGbTJiD0+PpaZ6djDBgs6+bQRdnPxXl4BDcvJa8zwH8KNuTzcbkUXtcGj5OSTDQEWqx4eHsZoNIr1el12XcDmXdwm917+765nrh6ecRvnqWFTBMTtYLSjxypHRDkum5VuZsDAD2x6jz5qCr20dTVflE7PSBVOdg2wbzqdlmAY3C7cW9OgWSdmlN27TTpa61MLcDohRJscOsT1msLld9esrFOwSln/tOEpFAaUw3K5LAFhpJm1HrpIVZdo4Pcm1xVtrJFeZ945JY7BytuosmsB5LWtm7etjHI8MjOuji8OtXP6HEpHUaCW5bwYTHXgPnLtfAl9sSUTIK2cNhiZrsfHx7i6uipMePPmTVFCcM9qnd0kCCz8/Nc2WF5TfK6N/FuGZPAsW25XT/cep+DctZcE/dwgcQFtRU+Ie6DfGOorL9w+0k31dfVjy58hG65jxKZ7zGXy0TeDwaAgNqA5KJ8mZJ0hmTbkjJOTHX2PyjQr/OVyGbPZLObzeTw8PDxL4nD5mduIEAhOT9VslhsXNSSq1JhOr6EAdlWahAD3oYIRn09bgP/Y6XRK+pRPL3CpuyZixminRMSzeRc8YFy2q40Qta2fdh4LhMaO3PtVCBURcRu0/2oKXMviOoKPTuFy/V0ckJWNUzjcDlYmLDuu/XyfohoMLlbw3D4oSqTwMUGON95nFwfti3h+JrpDo9pHylPHD/7NDWjnYqoxBYK8urqK8Xi8ce4VkiEs+5pkYQPIx3Zn2axO52melBrRJnrx6nSlbdPugOyo5Hg8LvN6sKiUlUXmz2eNdJaEP7vObUtuEKoA8u8skM5SuPbwfZ3O5lYcqjhdW117HDLbhrbpY6fQaopPEUwNOeO7Q4laFqeI4T7wHtedztOezLVNzME7KLRae119MuI4G/63QRKKdKBwMQ1BF4KqIs0IfYWM5Hq93jj6xrmyXPeafDO9ytXiNKmrCN/HpMjj8fExptNpcbOQaoVl0kPP1AK6jlYEkv3ndtTiNqAMTTDxsyywSq4trgy2alA8+gwLZxur4/iRKQZXr22UlvJTB1LmNkXUV/Or4lE0hPswODEZDv/BS96rKMtQ1kj7QOvURM4wcv25bId2wCNksvg4YibwxQWVtZ6slHXOUtaGbYz3qxSPmwvSpHT0Gu6HP4r9hM/Pz8tCvIjn7lFEXUGgLpkWVuWEbJqmvzUYrEqK+cD3cN3wfgToHCzneuEZ/i1T3jpI+L0aJ9NTP/Wzc0uUXAxFryta4/+wvDows5iSU8wuZa5KB0aLF3QCRQMZYC/kLP7E9Y7YPPrI8U8pc6fAH06dq1LRd+s1tA99tlqtYjqdxocPH2IymRSlg9ibk1fXv5D5wWBQ3DOeMa5AA8+4ttao9er0DPrWsia1eSi4D42L2JxQtbOzU86ahpvBmQ9QxryaUmpy0fg6D4CszQyX3UBWP1rfp23h+5Uvah21HAg017/NoGK+1KxsG/fbCSAPslod3KBTRa2xGyUoGp6kGhEbOy+ywnFGIEPSjk+ZcqnJmDMk+NPYWYZ0cA9OJx2PxzGdTp8dtezcrAyFIsPc7/dLIshNluQ/52E00YsO9GtLbYSUlQ8mFnY6nbKvMFKdbEnV1VAGus96f831ccLIx31kxALl6pEJctYWfUbr5cpTxanWlMut8eIlSju7v205TQgW92T1VXeKZ8Yjjc8bnLvAe002+L5t2lTjQWZI9DorM8z8BiC4vb2N+XxeJjk2ZbJqhrnbfToiGu5nU9trbcxoq0WiNcomI9XKUFcNaAaKBauR3759uzFHBM+AFK5ng1cHbROzVIkovGeCcGuciK2EuiH6fKaYmqwnl8eLUNuiQacsQbw1iJJztbdRHG2EtYYQ8ZkPm8OGc51OZ8N1Rzq4FmBlRJq5b/ruGmLN2uJcLPfHz0B+eEM1JGgmk0l8+vSppL15e1ktr+Z98Dsw2RBuliofLXdb5dNqyYQSVx5at8kNcc+zz6h+L3Zzu7m5iYgoZ5MjS8GTzpQySNxG6B0yYDcL9zgBUbSh5TE0VVKoWkMWqmwy5MPv1LYAwbGixzs1tqJCrO91aDDjgaNa2XheYxSwzHt7e9Hv98uAXK/XZY8cDRhrXWquVETzYlzlsXPXQOoq1xRMhmrZ5e90OgXpfPz4scw7Wq/XG5m8bD6cazvQFE4DBg9dRqtpHDUZoC+STm+LjFxKVAkN4UzWdDotHTEcDgukrq3tytqxjVauoQMVZmeJ3fdtIamj2iB1Cox/b3KhmmC1e6d+r6G3rBxXP4c4oHAwBwfLNTBHBXNxNGjM78sQp1I2l+il5ORlWwPICmW5XD5buZ/JXva79jkmDmocDM80IZu2fPriM5eV2iolHZz8fTqdlkAXdjLkgLMqliZF5N5d81/ZmilMbvOOmgLXjlS30KGkmiBkAWktl8vKeLYNaqndp4iF68nklDw/h/hNv98v+3hjW04MQKzGZiu9jdLIBry7rgg6G5RZ/zuE7O4BymEkCrTDW8S6MaRutENzEU9oCjzmjf+VXH2Z121k5YstEo1oVjLbCjKUDf4jeHZ+fr6R8cIgq1ky7uCMcXqNhc5BZfe8/laz/PouVSDOBeHn2AWEkHFGy5G6BKqU1uunM5bcMdC1gcyDr0nRoBwN8HJ/cTp8MBjEaDSKfr8fw+GwzMO5u7uLjx8/lr2ar6+vn8lC1jeuTno/81+vMy+4zfpZ/6sMZTLFrjFcSYyFi4uL+PDhQ8xms2eLgVVunCvo2o6N+A8ODspcILePtD7Hxljd9IxetB9PG+vliCut82HchCZndWezWXQ6ncKUXq9XIKIiEn1vG6gIckLorvN3Jzx6j0upa7ub3KXMStbqoELOyMgpR1UemUBtw8vsGrcPCg/Kho80xqZUEVFWTK9Wq5hMJrFYLDZm2Lr6OaS3Tdyi1r9OrjLFkk2/UJTLigf1xJarV1dXRTlo+3gcYJyhz7lvNW4J5dbtdjfiY45/2kb97VUxniZ6SaqdG6KfswmJznrwqlukT9FBmTvURNkgzJQMP9P2PXq/U4b6m0Nt21CGUjRugHewcDIyYRS2TZszUh4C5mMeCTaTx4pxPIMMle4l7CaZ8mDO6pC5sswnJh7M2XUtRxFO7f3ME7hYMNI4s46PqeH7nfHNspaqfHjFAJaO1MIEjtdtZaJ1Or2GctoGoZsoU0oRm64E1tZgN7jj4+MYjUbR6/XKPbwgrs1gbfKz9R52d/igQs0AuP9NndNkhWuDKasjPityyZQtI1K+XnMBQW2zQSAENE9OTuL8/DxGo1GcnZ2V42Pm83n8+uuvsVqtYmdnp6wkhwxwujzjhXt3hnC0HOdyOjTY6TwtmnTIy6GvWn8B/UHx4Pify8vLEvd0ssmyWGs/7kUfwYCv1+uCIPU+ZzT5/V9E8ahGdA35Ukonws8Lqb1vvV7H5eVlrFaruL6+jrOzs43D48CYLMDGv2Xf21DmEvGgziar4TkniPiuyjNTXvq7g+0s1KgXKxhWNIx63LQHJh6cTUsL2L2Gwjk+Pt44COD+/j4uLi7KZlbz+byc8jAYDDZQT7ZJV8Yj5T3qAmK07Z7XXSSZV2ifM5zOjc4GMtcDcR2ceT6bzVKlwwrOhS+0bDzf7XbLia9wY7P2OzS+7bh50Tyel9Jr0vPKXKAZ7MWLAXR0dFRSrG5CWFbmayjz1bPr2bublE42sDKFmsUJmNj/V3SjgyWjNpMHs2uI5UD5YFEiDgfgHQDRt/1+P6bT6cYRy21gvrrIba2zMyj8e4R3r/h7Dbly/XRZQkSU9VLz+Xzj4EC9L0M5NWL5wPloSKU3IVdtwzY8fdV+PO6e7JlsImEWXAZlcBl/WIWLTalGo1EMh8M4PT0tR+V2u93GBZLZe5sGN9clK5+vNykkbSe/J+vYNgMOwsVWWRWG6zttH1MWoHauIv/OiAGK5/j4OA4PD+PDhw9l3RECnA8PD3FwcBCj0ShOTk7i6Ogorq6uylYW21jdmhJXF5JjJFDQDpmye8Vl1TKtWZ9xTAdK4ObmpqAdKB41JOzmZ2MqC5cAxfHG7tm8IOZj27Hk6DfdgTDLguFak4JyGSANPOMPZ7YjyzGbzeL8/Lycb40p5oj/ZMoAVt9Z+zZKQmFzGwuoA7eN9eZ7a8pZMxm4xmt5cMytUx66p0vE5uBw9c3QHcN09APOy7q9vd2IayDIjN8Gg0Gcnp6WgwGAhjCzlpFChhLb9J/We71elx0SmAeQOR6cNaSrRorli/mD9qNPIMu8JILvRZ3whz5XmXDtY77hKBu4r07paNte4zG8SPE0BZ2dVd227G0gI4Sg2+2WrSrB0NVqFYPBIPr9fulUWKMmeNz0myMXk2mjwLaxGK/p8Jqldf2l7ip45+aNZG10yhi/IXaBOSQ7OzsxHA7LZ/zBdb6/vy/BVQyQiM/yorGXjE81Zd1EKpeZDDFl9VBXmOdOYRY2x7h4Tk2mdFAfFxB3xh7vxoJaPh+d76kh9pfI49aKZ9tsVgbvmpSSu+YCtNx4IBnAb6QfsXASyIf3MVELxNTE1AziK3LQDso6tc27szhQVieNAdTa4foWwqrWu8mv13o49yXis+KZTqexXq/L4X5Ip/M+OsjqXF9fl7VJPIfF8ey1Ct494xCrohr9XctwcR1MEgS/b29vYzabFcSDU0A1yB/xPIPmeAHS8Abei7AE7xLRxAulLxbjqfmE7gVOWWTKJVNgTcqo5p7xdVY8mE4/Go3i6OgoRqPRxrlVbDV4O1ZWTiiz5tY4qO/uAalSyOB+DTbrM8o/F4CsKVONw3D5OlVAFXamcPEsl8uZr+VyWYKnw+Gw9NFoNCoBz9VqVZDOhw8fSlIBA9e5iZmy5Ppl92ubQdlpC+5+xyeVLUY6OMMKm7Uj3nV3d1f6Ffev10/zmfjYGYwBGHb1QJTg1g6Hw9I+jIFtlbT2eY1e5GoxpGNyKCbrpFq6XJVSFvTMykf9cCwH/q9Wqzg8PIzlclliP9huQ5WWI6cAMqVQ8481QOlQyjaUKSwIgcZAas855ejcMHabanVy/YPyWfGv1+uCTmezWVxcXJTUOuZJ4URMTB51bckQYU1ZO2XDn7lPVREpT2q8wGfuZz0PazabxeXlZQkmI/aG+TWoA7tXNVLj6RTR7u5uHB4ext3d3cae001I2RnFpmdAWymeNjGbL5F+d360i/3UkBI6CEzHhELASOxGd3R0VPxbwE52LdoMsCZFkfnIeF7vbUPOhXEDkTMy25SvBMXFGZxt43daf3XX0D+g+Xy+sekV76nD9XJxCyU1YDVXXt0l972GRGsxHVU8QDswkFj4OZ1ON05kxbMcy2mLLmoE3u7t7ZW9i9wMcG6DaxPzpw1tjXi+hGLJyssCyywkNXcuiyfg2nq9LqdVLhaLODw8LHNIer1eOTkRg0uzFvwOrmMN+dRiIU7paEc2EQuzg/OMTrO5PEyZQmGUosmDGt/xjLZbB6+2m90FPvEAz7GrxgqhZghchk7rre4k141RQ5vYGT/P5eF5KJ31el1Wm8O9givJaxB5Dyq0hctQnjuZU1nY29srp8DyKRtuDDaFHn4zxZPFWLZ5vkZZ2S99pzIBsBXbX97e3sb19XWMx+Po9/vR7/fLCmgEoSHwDmJnSqlJwei1zP3JFGh2f+YKsvJxlropZqFzWGpykA0ApSyugrI5FuSe0zZmbeOpE04pa51VKWbuhOtr7RfmOT8HBAO+4sz4q6urmM1mJWbDysMpnYinbB7XJ5vjw/T4+PjsmB9soMb9wPc7dJMp8CYD95vvx9NEr1VmTJkQZELOlgQTtbAODJtMuRMyHfzOfN029a25c03wPXPVXNlob5PL8VJqY+0yRavKJ2JzgLPgb8Nv5Ss/uw2y5HdwHbZ5FjKEcuBa4vC92WxWQgHgAe8OWYvpNMmPEhQbDCzqUnOzau/Re5qo9czllyqI187raSo7Izdg8ZtmvhDvWS6XsVgsynYMw+Ew+v1+WTzn5olkqUwltnrunmxA6nPuPXyvul5ctnO7sj7l9ynqwcBgd8g933ZgZ+6gKp6Mr21kSqdiZMbIIRz8rvWoxXn4HkYvXNe7u7sSTF4sFrFYLDZ4wMaC3U9HKtsOaXKSAHXBlAXdcTCLqzqeuN+a+vzVW5/WFJIKRNuMV3Y/P6NxnQgPKWvZM4bUIFigyWQSHz9+LNmvfr8fg8GgxIFgKTTWwGWrdc584MyCZwLO71M4n3W4IjTwRgeDDlBNq6uA62cQ9w8md2obnOBmA4ffm/W9e76WdWKe1dwq3FNDHI6/yg8eyNja4tOnTzGZTOyGW1AGjuca+3HpdNyXGX5M2tzd3Y3FYvFs/50m0j7MPjt6savVpA1xjRn+UqplryLqqdsaOdiuln2xWJQ9UObzeTlTGptTwU9GAFTryFA5E96am6Bt1O819yNrK9/LcRutuyKBl/I5i/OoEuR3MXpr0yaNP7nYg35mUqWjvFd+c1lN7ozGCmezWUyn07JNq84Ngow0uT3cXq5zDQww4uEDM5fL5UZQORuz27iXNWp9oF/te40yKN4W7dTuU3cgKyN7BpQhpfV6XWI+3W43lstlQTvIiO3v75fV8HxaJQdJGf3gfRp70YHmFIkqAvzPlI6Lb/DvTRksR1kq27m2jrjNjmpoht/J8lHL1rl3NaETd69rA96v1/DHc3Rw783NTcxms5jNZrFcLp8dNcxoueZaaT34t4h2YxSTMyOi1EPddFBWnnPz29CrDvTLkIiLoG9DbZRORB3puDRvEyJAkFmFO+JpRifmVkREUUL7+/sxGAzKhETOivEZR9wuCFe2STfX27VBYwj43MadgVBnAub46lwXLbMWh1JSFyYiNrIzGbHboM/X3snKP1PgTfEafVaREJfDSQnscQOF8/Hjx42TMFge+NTOTMlnbczIIaBut1vWv/ExxcyXmlupKHtbFPSi/Xja/qbUNkDdNk6TvcORIoSInFk8KDHY3KDGLNqbm5tYLpflIDQoI2zlic9YE8MH0HGmDO+txRKUnFJ1glF7Fu/Fu5XUDdJrOiC4HO2PLP7BAVTmPVt/bpsTeHUfs/YqaVkZQsrqzd/ZvcKzq9Uqrq6uymLP6+vrjeUOtXdkxIbRZVtxj6szZA/rszBjGbzQclT+1SV1fPvNYjwvpTbKpy3iqWXJMo2tTMpcLNzj0A+XhUGB9S3oVD7xEX+Yms7uGuCuIpdsoGk7sjpl1jh7JnNZMsVRg9ZaXxZah+JqbWjzu2tbTYaarPk2pAaK3SueK4YN6bFdL3ietWcbr0FdvyZDjXripA49R57flwX5s/e7745erXiaslrO8jlLkT3/0jo0Wa0my477MekQSogVhNuPJSKKO4Y/toI4PuTg4KAsiOQ1Y3peGAsoUxZUdoOzhnwYoeC5WjCY3SLUw/E4Q4p6H9qq19rG9pjHer3mqrq2OR5n5eh96DueZY3ZyJ8+fYqLi4sywHlSI8d3XCy1yfi69rikjstW7u/vl0mD2cZfiFO6fsyC8Vm9mF6d1cLnTJG0CSw3RdJrz7eNH20TfFbrAQHBd0YHvH8KntGUL2e2sGH5zs5OXF5eFqXT6/VKuh4nKyDjAETFg6PJYrvB7txNlM+KjJWPBnL1Pbg3qxO/S5GPiyHxd+4Dpab4IvehU8SuTsynmvulvGT3JeJpfg5mImOFee3YbW2T+950v7umxhSKBGl0bC/C/NB+fHh42NgMzfGhSbErvXrr04i6EKjQtC3vNZmwpmuqGDI0UXOvcB8YjfkSmQuicQoI4P39fezu7patIQ4PD6PX60W/349er1dcMT3JAuXoO1w7XBtqv+EdUKxt4DveB3KoqUlpOtomvsfvYTe49k6uU8YXrTcrHV1djnjfeDwua670GOCsjWzYHNWUcRslhPoiBtnpdOwxxS+htgoH1CqrtW1WKmIz+7BNzEY/t312G6qlXyPqQTJ2wdj1UqgPJZGhCyAjjg0tl8uCeEajUTw8PJQD7XBPlo1qQ22e04HmkI+jWlZTy689uy1p9lKowbIqAAAM/klEQVRdU1UomQvZVulwOTAIKBOu1Xw+j8vLy6J0ICvZe7gt/L+mgF6aTep0OiWwjPgO1me1KcsZu4ynNXrxzOXsWpuMV1shbXO97f1tsitKTXEOQGbeugF+PqwIp8tdDIldAmw7CZiOY5rfvHkTJycnJUUPtKQ+Ocd82gSUnYuhShkxLvyWDQp+Tl0vl51yz2WumlMsIEYJ7BIrT1y5il6ZXKaO6wNjA6V8e3sbv/76a1l3pbsjcn9pezME0zbGw+i8KaQAN+vw8LCc6MFbkbQZb85l39YYftGslmOU+60tU7Pn3T36eVv/l+sFcox05bKCUTeO91Lhv5obBCWEQ9UwfwhnSgEmQwG5GAbeX2uL3uPu47I40JhRFpDl78yfjLiPVNmowuD4l1M0beqr5NwroAVWlnCt5vP5xrHCTpZcH2l7m37LngfVxgvqjwwrAstqHGtAofZufVeNvpji2RYuf0nXydFLXcQa1TpEB4dmtZpiDg4BYfsOPIOVy7p1Kwevtcw2yqfNdS7LZat0oHFgHvcp/zKk41xudZ0cmspiMXzfNqRKB8gW9PDwULYpxRIIPm7HlZW5JtvSS9qjiuf6+rrIF/efGm++1iZW1qZ9X0zxbON6tSWnzLZRcBp3cS7PSzowS91yfIHhOKfIOf6TBeVRXsTTYW43NzflvKnvvvsuRqNRmQeEstsIhdZb28ABcr0PMQG0y8VX+BlGLc49cnXk71xvPX6nFn9xwq91UwRSy86gDxGYxRYS0+k0Li4uyqGDmPkOHmrbwV9GwbWMcOYp1CjLjKGvDg4OSsYUZ6+3QfaZAcv65DdDPL8FonBRew6qvoa2US5tszgoN4sFqTXhGEq3291wz9SqqP8M64o1NcfHxzEYDOL8/HxjkSrHEmrQ3vEGCMVdU3TDCkrRj35mZcxKiS0qk1OiKuyKgFw9+Lks1qOkSrfb7W4odyx9QAB5Op2WzBA/E/G0ghx9nCFTlm+HPJgvLkzQVl673W7ZxxrypPv/oO1uV0Ncz5TLNuj61edq/Rb0W5fP5GIPbbM3XEbN0nA6UwcIOt0pCr4HHQ7hn8/nsV5/3hrz6Ojo2Qr5top6G+iv6JAHNaMfZy1V8WTII/utJtTKTy1LyQ0c50pym4ByFotFTKfTsn8OHwVT432bmI6SKplt0Q4TeITdBjFpMDNQTiZU6Thvoa0H8apztdrcW3MnaoM1Yns3qCkoti3p+7Pyam2MeEI/uA6ozRvLs0V06If/1uvPs2IRhMam9UdHR7G7u1vuYwv7krgCK4yMVEG6/zU3xpWjv+szGdTXa+571gYui13JiIj7+/tYrVaxXC7j06dP5TBBRjm89YVzU5kyBZHxgBGzxraaygShjjzJ0e2trDzh57ldWdvayllrxZPFW7ZNuWcZJfeeNoM+e0/2uysnU3BtlR740LaOGgNiweX4ACMdVTwoE+4XzkbCxvW6QXrt2GZtr743i6XgmkN8Wp4+k5GrgyujRowwtdwMGfHBgRic2A4XM5CBdrC8AANZ+0b/8N6m8ZIhRvebylpT2XAZDw4O4v7+/tnGX4yo3bPMM25nzfWq0YtjPC+JuTQxxt2/LWrie7ZxNzJqUpQZ1QQD7+P9T1QBQQhUgPEcytzZ2SmoB1YMuyXCn+e2ZG1tO7AzIXPPOyVTUwA1tFJDRG1QmdYL/zkBwFlCnOm+WCzi8vKyBPh1s6zM+rNCdskEUC197TKFbcnJH86id9tgNBlZVTL6e9tyQP/nx9s0vWfbyP42CkKVyjZBZfdep6RqaEqtDS+8zKw90AssbsSTAkPgGW4YhI3dBpTBykwVW5OrsA1pOxTNbVsGk0MVbcoCOaWzXn8+Amk+nxeEM5lMCk9dOVwf/gyl89ox06ZdTUgKaXTe2N3xtMnQa7ltDJmj1ornpdp2W5TzmrLdtW2U1Lb1yRSVdlzGAw0qO/TD5ekge3x83LDA6/W6xCOQeRmNRtHr9TbiPxGbM2kdEmoKLuJ9XG/9Pct68O+Z66PltokrsEvq6gCeaswsIsqscZ62ANQDhKnPaF35MxSOHkfjqDbdoBZg5pgU36ufMRWg1+sVw7RardJ4kZPZl6CaGv1d9+NpmxavDdzaIP6tqSnY3CQAbbISUCiMUjK04pQGYDQOZ5tOp2ULDsz94c3I8F6NATW5SDWFUfs9o6bYT821cwOIecZZKg0aY9kAJgDe3NyUiYC8I4GrA8fj+HpNobelLPHiKJNL1B3zjw4ODgrayRCPq4cGzdUgvIT+zzYCU62exWVe4+d+KWrjOmX3R2w/Lwj/WbDV8rvYjz6LrBdiE1h0ipXvCECzm/GSwcKBaNeWpviLiwmpha3x3SEr9wcCCgHCubm5iclkEqvVquzGB/7VkBbKUsPAcZ0m2ta914xnjaBwsTEdTguFLNTe3QYkuHBAW4W01WbvbQd9m2xSWySzTf20rC+Rls+s3Zcm136NR7DV5mf0WVYgGEir1Squr6/LUT0nJycbm5Bhwli323020S1TKjVF08Z1c2Vl92k8StGgWnxYei4Trun9/X1cX1+XtDh4w8F8dctYoShpkJb5vy3Cb0NNGS6mTqdT0M7+/n4sFouieJqI5UxPdOXya25ZRltt9p5pwW0UU9v4R/acQz9NZWRKxymYmtLRcra9V+velH7n63d3d+U7DwgNHLOl5no9PDzEYrGI5XJZAqZ8ZhiWX+D4HpSrFk1dvVp2StEZfnNunCoURhrO/eP2q6Dzb8j0IWAMRQN3lGeXO8THsTZ9nyoWPS45k/XaOKqh/9q9qJtTAnCvO51O2aoDc8gyQtncfpTnEKb2/xdBPE3UNPCbArBtiF20l1Bbl007NCJXXJkA4f5tMnJtlDBnwVix8CDEdRV+zbLAUt3c3MRqtdrYkL7f729sXM9bfriAuCPnQjUpJ/7v3C7+r2iEeYT5KTgdFvEuXnKCOIdDdxq7qZGLt2X9vI0Rr93j7s0MHTKbUDRQtk2GkalNYHlbr+L//Oz0JmryfzVOpMioCRq/5J21e18T8W+LAHXgK+rRAamDHsFkWP3lcrlxFA+Obca+LTg9FUFpRSOoQ2bpHNpxAdFaAFuRkB4nra7l/f19WTkOJYPtKtB+dq24rIeHh2cnqNZcQIdymtyP18jJNoS9lVnx8I6DTZShWvd9m3DEi4632YZUMWzjXm1TjzZp7de+06UyHbpp40JtW98sY9btdosbdnd3V4KJPBOaBxvKOjw8LPVHSh5B1el0WjIhOzs7RfkgMM3nibESYleEf9c6q8DimVrcSK07UI1m8YBwkB53pycoQnGDkM9XY6pl82phBHe/i3O+dHzw+9n4Yj9vbK/LgWX3vMpdTWE6JOuecfSbIB7n0mwboN6W2gS0215ro0QUQWTvaNvB/C4oirZoT+sAgeDrvIA04mluB9rBW7BCmIAUbm9vi+XEYlTsZNftdst3dsn4syok1JHr6pAHFAuuIRuFmA0fsoigMe8hjOsoD3xq4yo6Huv9beMxei//9hrSAc7nqYPfSBw8Pj6W87wUadbaoq6vy2S9hH7T421+a/qtldn/FW2LzmoZQo0H4Tdd1IgyVDEgHtLpdIoCAmJjJYSYECse/WOkp4qI643/sM5QPvjO8RkoF6A2RTQc40LZbsDUkEwTtXXnt1FUX4LQR5itDESboa+M1Ei4601umNKrFE9W2YypmevykkBz9v21Hdr2+Vpb2pShSPAl9WFBdhkRfpYHf6fTKQgnIs8QATUwetA+Q5k4F4yVHP54NT7/xsoHioIRCt7J6IcDuLiP68m/Of5pGrlNEsHxm3/TsprQt15vkwXK3DIX+GUew6XGFIJtgsp8rY3C0QRBjV6leNpG3LN7X+vLbvPuTCi2ddHcM20RSpv7slQtl+EEsE09Wdk5t0evARmxS5YFrHWHQHVzFN47xAPSd7AScYOWUY7GILg8TTk3KR2+bxs5cffXDM02QVktk+Nj/B5kJHu93obbXBuH2yQ3uO787uvr67i4uIhffvmlWsZvHuNBhWr3NV1velebmIwGdV/zzm3rtA1llhrlvpRYuFhJqBuWvU/htps7w/eq8mCE4qw1KIudsWJRK6/ug7PUj4/5JDh9JuOH1knv43bV4ntNVFNcTfXmMuD+Ig6mp5a2qYsLLrt5PHd3d3F5eVl2ZZxMJtVyv7jiyeBf0zOvfWfEl0VVTe9rcpXaCM82rupLeNRkeVVhY24PkAiuu4AwP4Pf+E8FVGNIIB4MLnjp3KYMITg0VPvuXNWXkipJplrZL72WEZ7huNt8Pi/zdyKajU0m27WxfHNzEz/99FN8+PChIN0addZ/rwkFX+krfaWv9P/p9X7FV/pKX+krbUlfFc9X+kpf6e9OXxXPV/pKX+nvTl8Vz1f6Sl/p705fFc9X+kpf6e9OXxXPV/pKX+nvTv8PaNPvXCuucKsAAAAASUVORK5CYII=\n",
        "metadata": {
         "tags": []
        },
        "output_type": "display_data",
        "text/plain": "<Figure size 720x360 with 1 Axes>"
       },
       {
        "metadata": {
         "tags": []
        },
        "output_type": "display_data",
        "text/plain": "7"
       }
      ]
     }
    },
    "315bcea0c50c4cbca1ef0f5da7dc7597": {
     "model_module": "@jupyter-widgets/base",
     "model_name": "LayoutModel",
     "state": {
      "_model_module": "@jupyter-widgets/base",
      "_model_module_version": "1.2.0",
      "_model_name": "LayoutModel",
      "_view_count": null,
      "_view_module": "@jupyter-widgets/base",
      "_view_module_version": "1.2.0",
      "_view_name": "LayoutView",
      "align_content": null,
      "align_items": null,
      "align_self": null,
      "border": null,
      "bottom": null,
      "display": null,
      "flex": null,
      "flex_flow": null,
      "grid_area": null,
      "grid_auto_columns": null,
      "grid_auto_flow": null,
      "grid_auto_rows": null,
      "grid_column": null,
      "grid_gap": null,
      "grid_row": null,
      "grid_template_areas": null,
      "grid_template_columns": null,
      "grid_template_rows": null,
      "height": null,
      "justify_content": null,
      "justify_items": null,
      "left": null,
      "margin": null,
      "max_height": null,
      "max_width": null,
      "min_height": null,
      "min_width": null,
      "object_fit": null,
      "object_position": null,
      "order": null,
      "overflow": null,
      "overflow_x": null,
      "overflow_y": null,
      "padding": null,
      "right": null,
      "top": null,
      "visibility": null,
      "width": null
     }
    },
    "3196486924204ad4a6ffcf106a114559": {
     "model_module": "@jupyter-widgets/base",
     "model_name": "LayoutModel",
     "state": {
      "_model_module": "@jupyter-widgets/base",
      "_model_module_version": "1.2.0",
      "_model_name": "LayoutModel",
      "_view_count": null,
      "_view_module": "@jupyter-widgets/base",
      "_view_module_version": "1.2.0",
      "_view_name": "LayoutView",
      "align_content": null,
      "align_items": null,
      "align_self": null,
      "border": null,
      "bottom": null,
      "display": null,
      "flex": null,
      "flex_flow": null,
      "grid_area": null,
      "grid_auto_columns": null,
      "grid_auto_flow": null,
      "grid_auto_rows": null,
      "grid_column": null,
      "grid_gap": null,
      "grid_row": null,
      "grid_template_areas": null,
      "grid_template_columns": null,
      "grid_template_rows": null,
      "height": null,
      "justify_content": null,
      "justify_items": null,
      "left": null,
      "margin": null,
      "max_height": null,
      "max_width": null,
      "min_height": null,
      "min_width": null,
      "object_fit": null,
      "object_position": null,
      "order": null,
      "overflow": null,
      "overflow_x": null,
      "overflow_y": null,
      "padding": null,
      "right": null,
      "top": null,
      "visibility": null,
      "width": null
     }
    },
    "35415b5fc7ea45348c3783694d7f7bfc": {
     "model_module": "@jupyter-widgets/base",
     "model_name": "LayoutModel",
     "state": {
      "_model_module": "@jupyter-widgets/base",
      "_model_module_version": "1.2.0",
      "_model_name": "LayoutModel",
      "_view_count": null,
      "_view_module": "@jupyter-widgets/base",
      "_view_module_version": "1.2.0",
      "_view_name": "LayoutView",
      "align_content": null,
      "align_items": null,
      "align_self": null,
      "border": null,
      "bottom": null,
      "display": null,
      "flex": null,
      "flex_flow": null,
      "grid_area": null,
      "grid_auto_columns": null,
      "grid_auto_flow": null,
      "grid_auto_rows": null,
      "grid_column": null,
      "grid_gap": null,
      "grid_row": null,
      "grid_template_areas": null,
      "grid_template_columns": null,
      "grid_template_rows": null,
      "height": null,
      "justify_content": null,
      "justify_items": null,
      "left": null,
      "margin": null,
      "max_height": null,
      "max_width": null,
      "min_height": null,
      "min_width": null,
      "object_fit": null,
      "object_position": null,
      "order": null,
      "overflow": null,
      "overflow_x": null,
      "overflow_y": null,
      "padding": null,
      "right": null,
      "top": null,
      "visibility": null,
      "width": null
     }
    },
    "3cf54f0a26934692b52c6d6ba8eff387": {
     "model_module": "@jupyter-widgets/base",
     "model_name": "LayoutModel",
     "state": {
      "_model_module": "@jupyter-widgets/base",
      "_model_module_version": "1.2.0",
      "_model_name": "LayoutModel",
      "_view_count": null,
      "_view_module": "@jupyter-widgets/base",
      "_view_module_version": "1.2.0",
      "_view_name": "LayoutView",
      "align_content": null,
      "align_items": null,
      "align_self": null,
      "border": null,
      "bottom": null,
      "display": null,
      "flex": null,
      "flex_flow": null,
      "grid_area": null,
      "grid_auto_columns": null,
      "grid_auto_flow": null,
      "grid_auto_rows": null,
      "grid_column": null,
      "grid_gap": null,
      "grid_row": null,
      "grid_template_areas": null,
      "grid_template_columns": null,
      "grid_template_rows": null,
      "height": null,
      "justify_content": null,
      "justify_items": null,
      "left": null,
      "margin": null,
      "max_height": null,
      "max_width": null,
      "min_height": null,
      "min_width": null,
      "object_fit": null,
      "object_position": null,
      "order": null,
      "overflow": null,
      "overflow_x": null,
      "overflow_y": null,
      "padding": null,
      "right": null,
      "top": null,
      "visibility": null,
      "width": null
     }
    },
    "52a776c74d7a40d6b54aaf40e027786c": {
     "model_module": "@jupyter-widgets/base",
     "model_name": "LayoutModel",
     "state": {
      "_model_module": "@jupyter-widgets/base",
      "_model_module_version": "1.2.0",
      "_model_name": "LayoutModel",
      "_view_count": null,
      "_view_module": "@jupyter-widgets/base",
      "_view_module_version": "1.2.0",
      "_view_name": "LayoutView",
      "align_content": null,
      "align_items": null,
      "align_self": null,
      "border": null,
      "bottom": null,
      "display": null,
      "flex": null,
      "flex_flow": null,
      "grid_area": null,
      "grid_auto_columns": null,
      "grid_auto_flow": null,
      "grid_auto_rows": null,
      "grid_column": null,
      "grid_gap": null,
      "grid_row": null,
      "grid_template_areas": null,
      "grid_template_columns": null,
      "grid_template_rows": null,
      "height": null,
      "justify_content": null,
      "justify_items": null,
      "left": null,
      "margin": null,
      "max_height": null,
      "max_width": null,
      "min_height": null,
      "min_width": null,
      "object_fit": null,
      "object_position": null,
      "order": null,
      "overflow": null,
      "overflow_x": null,
      "overflow_y": null,
      "padding": null,
      "right": null,
      "top": null,
      "visibility": null,
      "width": null
     }
    },
    "67bf177452db4a4da6df528d5509342c": {
     "model_module": "@jupyter-widgets/base",
     "model_name": "LayoutModel",
     "state": {
      "_model_module": "@jupyter-widgets/base",
      "_model_module_version": "1.2.0",
      "_model_name": "LayoutModel",
      "_view_count": null,
      "_view_module": "@jupyter-widgets/base",
      "_view_module_version": "1.2.0",
      "_view_name": "LayoutView",
      "align_content": null,
      "align_items": null,
      "align_self": null,
      "border": null,
      "bottom": null,
      "display": null,
      "flex": null,
      "flex_flow": null,
      "grid_area": null,
      "grid_auto_columns": null,
      "grid_auto_flow": null,
      "grid_auto_rows": null,
      "grid_column": null,
      "grid_gap": null,
      "grid_row": null,
      "grid_template_areas": null,
      "grid_template_columns": null,
      "grid_template_rows": null,
      "height": null,
      "justify_content": null,
      "justify_items": null,
      "left": null,
      "margin": null,
      "max_height": null,
      "max_width": null,
      "min_height": null,
      "min_width": null,
      "object_fit": null,
      "object_position": null,
      "order": null,
      "overflow": null,
      "overflow_x": null,
      "overflow_y": null,
      "padding": null,
      "right": null,
      "top": null,
      "visibility": null,
      "width": null
     }
    },
    "67ce521033f040b9a080937e91d1efc8": {
     "model_module": "@jupyter-widgets/controls",
     "model_name": "VBoxModel",
     "state": {
      "_dom_classes": [
       "widget-interact"
      ],
      "_model_module": "@jupyter-widgets/controls",
      "_model_module_version": "1.5.0",
      "_model_name": "VBoxModel",
      "_view_count": null,
      "_view_module": "@jupyter-widgets/controls",
      "_view_module_version": "1.5.0",
      "_view_name": "VBoxView",
      "box_style": "",
      "children": [
       "IPY_MODEL_7fc5938cb70747948b963b1d10a8277d",
       "IPY_MODEL_f0723a0746bd479ca644c1695f31584a"
      ],
      "layout": "IPY_MODEL_ed5af083ed7b406aab8457a0d8e42182"
     }
    },
    "6e9b89144aab4913861d4cfcd2bd28a5": {
     "model_module": "@jupyter-widgets/controls",
     "model_name": "SliderStyleModel",
     "state": {
      "_model_module": "@jupyter-widgets/controls",
      "_model_module_version": "1.5.0",
      "_model_name": "SliderStyleModel",
      "_view_count": null,
      "_view_module": "@jupyter-widgets/base",
      "_view_module_version": "1.2.0",
      "_view_name": "StyleView",
      "description_width": "",
      "handle_color": null
     }
    },
    "70263cba15a44b3aa9a1e5cf7fdb2f67": {
     "model_module": "@jupyter-widgets/controls",
     "model_name": "SliderStyleModel",
     "state": {
      "_model_module": "@jupyter-widgets/controls",
      "_model_module_version": "1.5.0",
      "_model_name": "SliderStyleModel",
      "_view_count": null,
      "_view_module": "@jupyter-widgets/base",
      "_view_module_version": "1.2.0",
      "_view_name": "StyleView",
      "description_width": "",
      "handle_color": null
     }
    },
    "70751ec55c0e4dee893c08c997ad035e": {
     "model_module": "@jupyter-widgets/controls",
     "model_name": "SliderStyleModel",
     "state": {
      "_model_module": "@jupyter-widgets/controls",
      "_model_module_version": "1.5.0",
      "_model_name": "SliderStyleModel",
      "_view_count": null,
      "_view_module": "@jupyter-widgets/base",
      "_view_module_version": "1.2.0",
      "_view_name": "StyleView",
      "description_width": "",
      "handle_color": null
     }
    },
    "7097da20fa7f470eb1ce493ca5d2640f": {
     "model_module": "@jupyter-widgets/controls",
     "model_name": "IntSliderModel",
     "state": {
      "_dom_classes": [],
      "_model_module": "@jupyter-widgets/controls",
      "_model_module_version": "1.5.0",
      "_model_name": "IntSliderModel",
      "_view_count": null,
      "_view_module": "@jupyter-widgets/controls",
      "_view_module_version": "1.5.0",
      "_view_name": "IntSliderView",
      "continuous_update": true,
      "description": "layer",
      "description_tooltip": null,
      "disabled": false,
      "layout": "IPY_MODEL_67bf177452db4a4da6df528d5509342c",
      "max": 59,
      "min": 0,
      "orientation": "horizontal",
      "readout": true,
      "readout_format": "d",
      "step": 1,
      "style": "IPY_MODEL_c855ab6711714b44ad77ec158e5719c1",
      "value": 17
     }
    },
    "72ae73c8ab7147a3972c38398c152ad6": {
     "model_module": "@jupyter-widgets/base",
     "model_name": "LayoutModel",
     "state": {
      "_model_module": "@jupyter-widgets/base",
      "_model_module_version": "1.2.0",
      "_model_name": "LayoutModel",
      "_view_count": null,
      "_view_module": "@jupyter-widgets/base",
      "_view_module_version": "1.2.0",
      "_view_name": "LayoutView",
      "align_content": null,
      "align_items": null,
      "align_self": null,
      "border": null,
      "bottom": null,
      "display": null,
      "flex": null,
      "flex_flow": null,
      "grid_area": null,
      "grid_auto_columns": null,
      "grid_auto_flow": null,
      "grid_auto_rows": null,
      "grid_column": null,
      "grid_gap": null,
      "grid_row": null,
      "grid_template_areas": null,
      "grid_template_columns": null,
      "grid_template_rows": null,
      "height": null,
      "justify_content": null,
      "justify_items": null,
      "left": null,
      "margin": null,
      "max_height": null,
      "max_width": null,
      "min_height": null,
      "min_width": null,
      "object_fit": null,
      "object_position": null,
      "order": null,
      "overflow": null,
      "overflow_x": null,
      "overflow_y": null,
      "padding": null,
      "right": null,
      "top": null,
      "visibility": null,
      "width": null
     }
    },
    "7d952e85fa9e4a8e981d4ad42f6ba6e8": {
     "model_module": "@jupyter-widgets/base",
     "model_name": "LayoutModel",
     "state": {
      "_model_module": "@jupyter-widgets/base",
      "_model_module_version": "1.2.0",
      "_model_name": "LayoutModel",
      "_view_count": null,
      "_view_module": "@jupyter-widgets/base",
      "_view_module_version": "1.2.0",
      "_view_name": "LayoutView",
      "align_content": null,
      "align_items": null,
      "align_self": null,
      "border": null,
      "bottom": null,
      "display": null,
      "flex": null,
      "flex_flow": null,
      "grid_area": null,
      "grid_auto_columns": null,
      "grid_auto_flow": null,
      "grid_auto_rows": null,
      "grid_column": null,
      "grid_gap": null,
      "grid_row": null,
      "grid_template_areas": null,
      "grid_template_columns": null,
      "grid_template_rows": null,
      "height": null,
      "justify_content": null,
      "justify_items": null,
      "left": null,
      "margin": null,
      "max_height": null,
      "max_width": null,
      "min_height": null,
      "min_width": null,
      "object_fit": null,
      "object_position": null,
      "order": null,
      "overflow": null,
      "overflow_x": null,
      "overflow_y": null,
      "padding": null,
      "right": null,
      "top": null,
      "visibility": null,
      "width": null
     }
    },
    "7e0c6e96131d48c6b8168846f72faaa2": {
     "model_module": "@jupyter-widgets/output",
     "model_name": "OutputModel",
     "state": {
      "_dom_classes": [],
      "_model_module": "@jupyter-widgets/output",
      "_model_module_version": "1.0.0",
      "_model_name": "OutputModel",
      "_view_count": null,
      "_view_module": "@jupyter-widgets/output",
      "_view_module_version": "1.0.0",
      "_view_name": "OutputView",
      "layout": "IPY_MODEL_cbfe0d531c554c748b07979f8573cf9d",
      "msg_id": "",
      "outputs": [
       {
        "image/png": "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\n",
        "metadata": {
         "tags": []
        },
        "output_type": "display_data",
        "text/plain": "<Figure size 720x360 with 1 Axes>"
       },
       {
        "metadata": {
         "tags": []
        },
        "output_type": "display_data",
        "text/plain": "147"
       }
      ]
     }
    },
    "7fc5938cb70747948b963b1d10a8277d": {
     "model_module": "@jupyter-widgets/controls",
     "model_name": "IntSliderModel",
     "state": {
      "_dom_classes": [],
      "_model_module": "@jupyter-widgets/controls",
      "_model_module_version": "1.5.0",
      "_model_name": "IntSliderModel",
      "_view_count": null,
      "_view_module": "@jupyter-widgets/controls",
      "_view_module_version": "1.5.0",
      "_view_name": "IntSliderView",
      "continuous_update": true,
      "description": "layer",
      "description_tooltip": null,
      "disabled": false,
      "layout": "IPY_MODEL_00aadfe7188046d6b9bfc89c63a76d77",
      "max": 59,
      "min": 0,
      "orientation": "horizontal",
      "readout": true,
      "readout_format": "d",
      "step": 1,
      "style": "IPY_MODEL_8392c38d44fa46ef98ad4a6e45bfffbd",
      "value": 29
     }
    },
    "8392c38d44fa46ef98ad4a6e45bfffbd": {
     "model_module": "@jupyter-widgets/controls",
     "model_name": "SliderStyleModel",
     "state": {
      "_model_module": "@jupyter-widgets/controls",
      "_model_module_version": "1.5.0",
      "_model_name": "SliderStyleModel",
      "_view_count": null,
      "_view_module": "@jupyter-widgets/base",
      "_view_module_version": "1.2.0",
      "_view_name": "StyleView",
      "description_width": "",
      "handle_color": null
     }
    },
    "867141c418984023a527f961975583af": {
     "model_module": "@jupyter-widgets/base",
     "model_name": "LayoutModel",
     "state": {
      "_model_module": "@jupyter-widgets/base",
      "_model_module_version": "1.2.0",
      "_model_name": "LayoutModel",
      "_view_count": null,
      "_view_module": "@jupyter-widgets/base",
      "_view_module_version": "1.2.0",
      "_view_name": "LayoutView",
      "align_content": null,
      "align_items": null,
      "align_self": null,
      "border": null,
      "bottom": null,
      "display": null,
      "flex": null,
      "flex_flow": null,
      "grid_area": null,
      "grid_auto_columns": null,
      "grid_auto_flow": null,
      "grid_auto_rows": null,
      "grid_column": null,
      "grid_gap": null,
      "grid_row": null,
      "grid_template_areas": null,
      "grid_template_columns": null,
      "grid_template_rows": null,
      "height": null,
      "justify_content": null,
      "justify_items": null,
      "left": null,
      "margin": null,
      "max_height": null,
      "max_width": null,
      "min_height": null,
      "min_width": null,
      "object_fit": null,
      "object_position": null,
      "order": null,
      "overflow": null,
      "overflow_x": null,
      "overflow_y": null,
      "padding": null,
      "right": null,
      "top": null,
      "visibility": null,
      "width": null
     }
    },
    "86db38a840ea4e9d890a7a82c9edb4bd": {
     "model_module": "@jupyter-widgets/controls",
     "model_name": "VBoxModel",
     "state": {
      "_dom_classes": [
       "widget-interact"
      ],
      "_model_module": "@jupyter-widgets/controls",
      "_model_module_version": "1.5.0",
      "_model_name": "VBoxModel",
      "_view_count": null,
      "_view_module": "@jupyter-widgets/controls",
      "_view_module_version": "1.5.0",
      "_view_name": "VBoxView",
      "box_style": "",
      "children": [
       "IPY_MODEL_ae42fce3272548ecad7cae3a1000ec2e",
       "IPY_MODEL_7e0c6e96131d48c6b8168846f72faaa2"
      ],
      "layout": "IPY_MODEL_867141c418984023a527f961975583af"
     }
    },
    "88b37f0a13f44d169776743021885b39": {
     "model_module": "@jupyter-widgets/controls",
     "model_name": "IntSliderModel",
     "state": {
      "_dom_classes": [],
      "_model_module": "@jupyter-widgets/controls",
      "_model_module_version": "1.5.0",
      "_model_name": "IntSliderModel",
      "_view_count": null,
      "_view_module": "@jupyter-widgets/controls",
      "_view_module_version": "1.5.0",
      "_view_name": "IntSliderView",
      "continuous_update": true,
      "description": "layer",
      "description_tooltip": null,
      "disabled": false,
      "layout": "IPY_MODEL_929d1ab98f414e93b1955bb1f7b06c46",
      "max": 15,
      "min": 0,
      "orientation": "horizontal",
      "readout": true,
      "readout_format": "d",
      "step": 1,
      "style": "IPY_MODEL_8ce5017a685e496ba32f9f6dbf91c28d",
      "value": 7
     }
    },
    "8ce5017a685e496ba32f9f6dbf91c28d": {
     "model_module": "@jupyter-widgets/controls",
     "model_name": "SliderStyleModel",
     "state": {
      "_model_module": "@jupyter-widgets/controls",
      "_model_module_version": "1.5.0",
      "_model_name": "SliderStyleModel",
      "_view_count": null,
      "_view_module": "@jupyter-widgets/base",
      "_view_module_version": "1.2.0",
      "_view_name": "StyleView",
      "description_width": "",
      "handle_color": null
     }
    },
    "929d1ab98f414e93b1955bb1f7b06c46": {
     "model_module": "@jupyter-widgets/base",
     "model_name": "LayoutModel",
     "state": {
      "_model_module": "@jupyter-widgets/base",
      "_model_module_version": "1.2.0",
      "_model_name": "LayoutModel",
      "_view_count": null,
      "_view_module": "@jupyter-widgets/base",
      "_view_module_version": "1.2.0",
      "_view_name": "LayoutView",
      "align_content": null,
      "align_items": null,
      "align_self": null,
      "border": null,
      "bottom": null,
      "display": null,
      "flex": null,
      "flex_flow": null,
      "grid_area": null,
      "grid_auto_columns": null,
      "grid_auto_flow": null,
      "grid_auto_rows": null,
      "grid_column": null,
      "grid_gap": null,
      "grid_row": null,
      "grid_template_areas": null,
      "grid_template_columns": null,
      "grid_template_rows": null,
      "height": null,
      "justify_content": null,
      "justify_items": null,
      "left": null,
      "margin": null,
      "max_height": null,
      "max_width": null,
      "min_height": null,
      "min_width": null,
      "object_fit": null,
      "object_position": null,
      "order": null,
      "overflow": null,
      "overflow_x": null,
      "overflow_y": null,
      "padding": null,
      "right": null,
      "top": null,
      "visibility": null,
      "width": null
     }
    },
    "941ec65f56c448f88285184a5e9a0cde": {
     "model_module": "@jupyter-widgets/controls",
     "model_name": "IntSliderModel",
     "state": {
      "_dom_classes": [],
      "_model_module": "@jupyter-widgets/controls",
      "_model_module_version": "1.5.0",
      "_model_name": "IntSliderModel",
      "_view_count": null,
      "_view_module": "@jupyter-widgets/controls",
      "_view_module_version": "1.5.0",
      "_view_name": "IntSliderView",
      "continuous_update": true,
      "description": "layer",
      "description_tooltip": null,
      "disabled": false,
      "layout": "IPY_MODEL_ce16009918924f62806f8f1a45acba33",
      "max": 295,
      "min": 0,
      "orientation": "horizontal",
      "readout": true,
      "readout_format": "d",
      "step": 1,
      "style": "IPY_MODEL_6e9b89144aab4913861d4cfcd2bd28a5",
      "value": 147
     }
    },
    "9f3b6d56e41c446c94083338562de636": {
     "model_module": "@jupyter-widgets/base",
     "model_name": "LayoutModel",
     "state": {
      "_model_module": "@jupyter-widgets/base",
      "_model_module_version": "1.2.0",
      "_model_name": "LayoutModel",
      "_view_count": null,
      "_view_module": "@jupyter-widgets/base",
      "_view_module_version": "1.2.0",
      "_view_name": "LayoutView",
      "align_content": null,
      "align_items": null,
      "align_self": null,
      "border": null,
      "bottom": null,
      "display": null,
      "flex": null,
      "flex_flow": null,
      "grid_area": null,
      "grid_auto_columns": null,
      "grid_auto_flow": null,
      "grid_auto_rows": null,
      "grid_column": null,
      "grid_gap": null,
      "grid_row": null,
      "grid_template_areas": null,
      "grid_template_columns": null,
      "grid_template_rows": null,
      "height": null,
      "justify_content": null,
      "justify_items": null,
      "left": null,
      "margin": null,
      "max_height": null,
      "max_width": null,
      "min_height": null,
      "min_width": null,
      "object_fit": null,
      "object_position": null,
      "order": null,
      "overflow": null,
      "overflow_x": null,
      "overflow_y": null,
      "padding": null,
      "right": null,
      "top": null,
      "visibility": null,
      "width": null
     }
    },
    "a712bd4c2fda4b4e9fb6e1791c6e1477": {
     "model_module": "@jupyter-widgets/base",
     "model_name": "LayoutModel",
     "state": {
      "_model_module": "@jupyter-widgets/base",
      "_model_module_version": "1.2.0",
      "_model_name": "LayoutModel",
      "_view_count": null,
      "_view_module": "@jupyter-widgets/base",
      "_view_module_version": "1.2.0",
      "_view_name": "LayoutView",
      "align_content": null,
      "align_items": null,
      "align_self": null,
      "border": null,
      "bottom": null,
      "display": null,
      "flex": null,
      "flex_flow": null,
      "grid_area": null,
      "grid_auto_columns": null,
      "grid_auto_flow": null,
      "grid_auto_rows": null,
      "grid_column": null,
      "grid_gap": null,
      "grid_row": null,
      "grid_template_areas": null,
      "grid_template_columns": null,
      "grid_template_rows": null,
      "height": null,
      "justify_content": null,
      "justify_items": null,
      "left": null,
      "margin": null,
      "max_height": null,
      "max_width": null,
      "min_height": null,
      "min_width": null,
      "object_fit": null,
      "object_position": null,
      "order": null,
      "overflow": null,
      "overflow_x": null,
      "overflow_y": null,
      "padding": null,
      "right": null,
      "top": null,
      "visibility": null,
      "width": null
     }
    },
    "aa188ff265754bd2978c31f2a301cea9": {
     "model_module": "@jupyter-widgets/controls",
     "model_name": "SliderStyleModel",
     "state": {
      "_model_module": "@jupyter-widgets/controls",
      "_model_module_version": "1.5.0",
      "_model_name": "SliderStyleModel",
      "_view_count": null,
      "_view_module": "@jupyter-widgets/base",
      "_view_module_version": "1.2.0",
      "_view_name": "StyleView",
      "description_width": "",
      "handle_color": null
     }
    },
    "ab4f7183b7bf46e890120e3eba3f1102": {
     "model_module": "@jupyter-widgets/controls",
     "model_name": "VBoxModel",
     "state": {
      "_dom_classes": [
       "widget-interact"
      ],
      "_model_module": "@jupyter-widgets/controls",
      "_model_module_version": "1.5.0",
      "_model_name": "VBoxModel",
      "_view_count": null,
      "_view_module": "@jupyter-widgets/controls",
      "_view_module_version": "1.5.0",
      "_view_name": "VBoxView",
      "box_style": "",
      "children": [
       "IPY_MODEL_941ec65f56c448f88285184a5e9a0cde",
       "IPY_MODEL_1eac61ae6ac3445c90a871d9b275550e"
      ],
      "layout": "IPY_MODEL_dcc5e7d8361845a5866c59c96d3d8670"
     }
    },
    "ac582a12c1cc4abaa3684e2ac5f83275": {
     "model_module": "@jupyter-widgets/base",
     "model_name": "LayoutModel",
     "state": {
      "_model_module": "@jupyter-widgets/base",
      "_model_module_version": "1.2.0",
      "_model_name": "LayoutModel",
      "_view_count": null,
      "_view_module": "@jupyter-widgets/base",
      "_view_module_version": "1.2.0",
      "_view_name": "LayoutView",
      "align_content": null,
      "align_items": null,
      "align_self": null,
      "border": null,
      "bottom": null,
      "display": null,
      "flex": null,
      "flex_flow": null,
      "grid_area": null,
      "grid_auto_columns": null,
      "grid_auto_flow": null,
      "grid_auto_rows": null,
      "grid_column": null,
      "grid_gap": null,
      "grid_row": null,
      "grid_template_areas": null,
      "grid_template_columns": null,
      "grid_template_rows": null,
      "height": null,
      "justify_content": null,
      "justify_items": null,
      "left": null,
      "margin": null,
      "max_height": null,
      "max_width": null,
      "min_height": null,
      "min_width": null,
      "object_fit": null,
      "object_position": null,
      "order": null,
      "overflow": null,
      "overflow_x": null,
      "overflow_y": null,
      "padding": null,
      "right": null,
      "top": null,
      "visibility": null,
      "width": null
     }
    },
    "ae42fce3272548ecad7cae3a1000ec2e": {
     "model_module": "@jupyter-widgets/controls",
     "model_name": "IntSliderModel",
     "state": {
      "_dom_classes": [],
      "_model_module": "@jupyter-widgets/controls",
      "_model_module_version": "1.5.0",
      "_model_name": "IntSliderModel",
      "_view_count": null,
      "_view_module": "@jupyter-widgets/controls",
      "_view_module_version": "1.5.0",
      "_view_name": "IntSliderView",
      "continuous_update": true,
      "description": "layer",
      "description_tooltip": null,
      "disabled": false,
      "layout": "IPY_MODEL_c0b8ca571dc54fcd9423125669300b55",
      "max": 295,
      "min": 0,
      "orientation": "horizontal",
      "readout": true,
      "readout_format": "d",
      "step": 1,
      "style": "IPY_MODEL_70751ec55c0e4dee893c08c997ad035e",
      "value": 147
     }
    },
    "b87242230b064cd99f7dde534a65cf16": {
     "model_module": "@jupyter-widgets/controls",
     "model_name": "VBoxModel",
     "state": {
      "_dom_classes": [
       "widget-interact"
      ],
      "_model_module": "@jupyter-widgets/controls",
      "_model_module_version": "1.5.0",
      "_model_name": "VBoxModel",
      "_view_count": null,
      "_view_module": "@jupyter-widgets/controls",
      "_view_module_version": "1.5.0",
      "_view_name": "VBoxView",
      "box_style": "",
      "children": [
       "IPY_MODEL_e1f1a1d122f44526a593eba95478fd95",
       "IPY_MODEL_14dc41fe46a24c3c875fe5815779527b"
      ],
      "layout": "IPY_MODEL_ac582a12c1cc4abaa3684e2ac5f83275"
     }
    },
    "c0b8ca571dc54fcd9423125669300b55": {
     "model_module": "@jupyter-widgets/base",
     "model_name": "LayoutModel",
     "state": {
      "_model_module": "@jupyter-widgets/base",
      "_model_module_version": "1.2.0",
      "_model_name": "LayoutModel",
      "_view_count": null,
      "_view_module": "@jupyter-widgets/base",
      "_view_module_version": "1.2.0",
      "_view_name": "LayoutView",
      "align_content": null,
      "align_items": null,
      "align_self": null,
      "border": null,
      "bottom": null,
      "display": null,
      "flex": null,
      "flex_flow": null,
      "grid_area": null,
      "grid_auto_columns": null,
      "grid_auto_flow": null,
      "grid_auto_rows": null,
      "grid_column": null,
      "grid_gap": null,
      "grid_row": null,
      "grid_template_areas": null,
      "grid_template_columns": null,
      "grid_template_rows": null,
      "height": null,
      "justify_content": null,
      "justify_items": null,
      "left": null,
      "margin": null,
      "max_height": null,
      "max_width": null,
      "min_height": null,
      "min_width": null,
      "object_fit": null,
      "object_position": null,
      "order": null,
      "overflow": null,
      "overflow_x": null,
      "overflow_y": null,
      "padding": null,
      "right": null,
      "top": null,
      "visibility": null,
      "width": null
     }
    },
    "c855ab6711714b44ad77ec158e5719c1": {
     "model_module": "@jupyter-widgets/controls",
     "model_name": "SliderStyleModel",
     "state": {
      "_model_module": "@jupyter-widgets/controls",
      "_model_module_version": "1.5.0",
      "_model_name": "SliderStyleModel",
      "_view_count": null,
      "_view_module": "@jupyter-widgets/base",
      "_view_module_version": "1.2.0",
      "_view_name": "StyleView",
      "description_width": "",
      "handle_color": null
     }
    },
    "cab7a9d9843f4a4282bece18511ae67b": {
     "model_module": "@jupyter-widgets/controls",
     "model_name": "IntSliderModel",
     "state": {
      "_dom_classes": [],
      "_model_module": "@jupyter-widgets/controls",
      "_model_module_version": "1.5.0",
      "_model_name": "IntSliderModel",
      "_view_count": null,
      "_view_module": "@jupyter-widgets/controls",
      "_view_module_version": "1.5.0",
      "_view_name": "IntSliderView",
      "continuous_update": true,
      "description": "layer",
      "description_tooltip": null,
      "disabled": false,
      "layout": "IPY_MODEL_3cf54f0a26934692b52c6d6ba8eff387",
      "max": 15,
      "min": 0,
      "orientation": "horizontal",
      "readout": true,
      "readout_format": "d",
      "step": 1,
      "style": "IPY_MODEL_70263cba15a44b3aa9a1e5cf7fdb2f67",
      "value": 7
     }
    },
    "cbfe0d531c554c748b07979f8573cf9d": {
     "model_module": "@jupyter-widgets/base",
     "model_name": "LayoutModel",
     "state": {
      "_model_module": "@jupyter-widgets/base",
      "_model_module_version": "1.2.0",
      "_model_name": "LayoutModel",
      "_view_count": null,
      "_view_module": "@jupyter-widgets/base",
      "_view_module_version": "1.2.0",
      "_view_name": "LayoutView",
      "align_content": null,
      "align_items": null,
      "align_self": null,
      "border": null,
      "bottom": null,
      "display": null,
      "flex": null,
      "flex_flow": null,
      "grid_area": null,
      "grid_auto_columns": null,
      "grid_auto_flow": null,
      "grid_auto_rows": null,
      "grid_column": null,
      "grid_gap": null,
      "grid_row": null,
      "grid_template_areas": null,
      "grid_template_columns": null,
      "grid_template_rows": null,
      "height": null,
      "justify_content": null,
      "justify_items": null,
      "left": null,
      "margin": null,
      "max_height": null,
      "max_width": null,
      "min_height": null,
      "min_width": null,
      "object_fit": null,
      "object_position": null,
      "order": null,
      "overflow": null,
      "overflow_x": null,
      "overflow_y": null,
      "padding": null,
      "right": null,
      "top": null,
      "visibility": null,
      "width": null
     }
    },
    "ccfa12132bf244359dc4f5f85d934dbe": {
     "model_module": "@jupyter-widgets/controls",
     "model_name": "IntSliderModel",
     "state": {
      "_dom_classes": [],
      "_model_module": "@jupyter-widgets/controls",
      "_model_module_version": "1.5.0",
      "_model_name": "IntSliderModel",
      "_view_count": null,
      "_view_module": "@jupyter-widgets/controls",
      "_view_module_version": "1.5.0",
      "_view_name": "IntSliderView",
      "continuous_update": true,
      "description": "layer",
      "description_tooltip": null,
      "disabled": false,
      "layout": "IPY_MODEL_9f3b6d56e41c446c94083338562de636",
      "max": 295,
      "min": 0,
      "orientation": "horizontal",
      "readout": true,
      "readout_format": "d",
      "step": 1,
      "style": "IPY_MODEL_aa188ff265754bd2978c31f2a301cea9",
      "value": 147
     }
    },
    "ce16009918924f62806f8f1a45acba33": {
     "model_module": "@jupyter-widgets/base",
     "model_name": "LayoutModel",
     "state": {
      "_model_module": "@jupyter-widgets/base",
      "_model_module_version": "1.2.0",
      "_model_name": "LayoutModel",
      "_view_count": null,
      "_view_module": "@jupyter-widgets/base",
      "_view_module_version": "1.2.0",
      "_view_name": "LayoutView",
      "align_content": null,
      "align_items": null,
      "align_self": null,
      "border": null,
      "bottom": null,
      "display": null,
      "flex": null,
      "flex_flow": null,
      "grid_area": null,
      "grid_auto_columns": null,
      "grid_auto_flow": null,
      "grid_auto_rows": null,
      "grid_column": null,
      "grid_gap": null,
      "grid_row": null,
      "grid_template_areas": null,
      "grid_template_columns": null,
      "grid_template_rows": null,
      "height": null,
      "justify_content": null,
      "justify_items": null,
      "left": null,
      "margin": null,
      "max_height": null,
      "max_width": null,
      "min_height": null,
      "min_width": null,
      "object_fit": null,
      "object_position": null,
      "order": null,
      "overflow": null,
      "overflow_x": null,
      "overflow_y": null,
      "padding": null,
      "right": null,
      "top": null,
      "visibility": null,
      "width": null
     }
    },
    "d95f0832cf9f4522b00f8ce1f3183520": {
     "model_module": "@jupyter-widgets/base",
     "model_name": "LayoutModel",
     "state": {
      "_model_module": "@jupyter-widgets/base",
      "_model_module_version": "1.2.0",
      "_model_name": "LayoutModel",
      "_view_count": null,
      "_view_module": "@jupyter-widgets/base",
      "_view_module_version": "1.2.0",
      "_view_name": "LayoutView",
      "align_content": null,
      "align_items": null,
      "align_self": null,
      "border": null,
      "bottom": null,
      "display": null,
      "flex": null,
      "flex_flow": null,
      "grid_area": null,
      "grid_auto_columns": null,
      "grid_auto_flow": null,
      "grid_auto_rows": null,
      "grid_column": null,
      "grid_gap": null,
      "grid_row": null,
      "grid_template_areas": null,
      "grid_template_columns": null,
      "grid_template_rows": null,
      "height": null,
      "justify_content": null,
      "justify_items": null,
      "left": null,
      "margin": null,
      "max_height": null,
      "max_width": null,
      "min_height": null,
      "min_width": null,
      "object_fit": null,
      "object_position": null,
      "order": null,
      "overflow": null,
      "overflow_x": null,
      "overflow_y": null,
      "padding": null,
      "right": null,
      "top": null,
      "visibility": null,
      "width": null
     }
    },
    "dae3f2852fa94764bc67ddf937364429": {
     "model_module": "@jupyter-widgets/controls",
     "model_name": "VBoxModel",
     "state": {
      "_dom_classes": [
       "widget-interact"
      ],
      "_model_module": "@jupyter-widgets/controls",
      "_model_module_version": "1.5.0",
      "_model_name": "VBoxModel",
      "_view_count": null,
      "_view_module": "@jupyter-widgets/controls",
      "_view_module_version": "1.5.0",
      "_view_name": "VBoxView",
      "box_style": "",
      "children": [
       "IPY_MODEL_ccfa12132bf244359dc4f5f85d934dbe",
       "IPY_MODEL_15fb4cffde2f4e538a8402534e4ebf88"
      ],
      "layout": "IPY_MODEL_3196486924204ad4a6ffcf106a114559"
     }
    },
    "dcc5e7d8361845a5866c59c96d3d8670": {
     "model_module": "@jupyter-widgets/base",
     "model_name": "LayoutModel",
     "state": {
      "_model_module": "@jupyter-widgets/base",
      "_model_module_version": "1.2.0",
      "_model_name": "LayoutModel",
      "_view_count": null,
      "_view_module": "@jupyter-widgets/base",
      "_view_module_version": "1.2.0",
      "_view_name": "LayoutView",
      "align_content": null,
      "align_items": null,
      "align_self": null,
      "border": null,
      "bottom": null,
      "display": null,
      "flex": null,
      "flex_flow": null,
      "grid_area": null,
      "grid_auto_columns": null,
      "grid_auto_flow": null,
      "grid_auto_rows": null,
      "grid_column": null,
      "grid_gap": null,
      "grid_row": null,
      "grid_template_areas": null,
      "grid_template_columns": null,
      "grid_template_rows": null,
      "height": null,
      "justify_content": null,
      "justify_items": null,
      "left": null,
      "margin": null,
      "max_height": null,
      "max_width": null,
      "min_height": null,
      "min_width": null,
      "object_fit": null,
      "object_position": null,
      "order": null,
      "overflow": null,
      "overflow_x": null,
      "overflow_y": null,
      "padding": null,
      "right": null,
      "top": null,
      "visibility": null,
      "width": null
     }
    },
    "e1f1a1d122f44526a593eba95478fd95": {
     "model_module": "@jupyter-widgets/controls",
     "model_name": "IntSliderModel",
     "state": {
      "_dom_classes": [],
      "_model_module": "@jupyter-widgets/controls",
      "_model_module_version": "1.5.0",
      "_model_name": "IntSliderModel",
      "_view_count": null,
      "_view_module": "@jupyter-widgets/controls",
      "_view_module_version": "1.5.0",
      "_view_name": "IntSliderView",
      "continuous_update": true,
      "description": "layer",
      "description_tooltip": null,
      "disabled": false,
      "layout": "IPY_MODEL_315bcea0c50c4cbca1ef0f5da7dc7597",
      "max": 295,
      "min": 0,
      "orientation": "horizontal",
      "readout": true,
      "readout_format": "d",
      "step": 1,
      "style": "IPY_MODEL_1bde713145f44d66b9859fcafb5aaa17",
      "value": 147
     }
    },
    "e2dafa27458e40a4ace139c70451efe5": {
     "model_module": "@jupyter-widgets/output",
     "model_name": "OutputModel",
     "state": {
      "_dom_classes": [],
      "_model_module": "@jupyter-widgets/output",
      "_model_module_version": "1.0.0",
      "_model_name": "OutputModel",
      "_view_count": null,
      "_view_module": "@jupyter-widgets/output",
      "_view_module_version": "1.0.0",
      "_view_name": "OutputView",
      "layout": "IPY_MODEL_52a776c74d7a40d6b54aaf40e027786c",
      "msg_id": "",
      "outputs": [
       {
        "image/png": "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\n",
        "metadata": {
         "tags": []
        },
        "output_type": "display_data",
        "text/plain": "<Figure size 720x360 with 1 Axes>"
       },
       {
        "metadata": {
         "tags": []
        },
        "output_type": "display_data",
        "text/plain": "7"
       }
      ]
     }
    },
    "ed5af083ed7b406aab8457a0d8e42182": {
     "model_module": "@jupyter-widgets/base",
     "model_name": "LayoutModel",
     "state": {
      "_model_module": "@jupyter-widgets/base",
      "_model_module_version": "1.2.0",
      "_model_name": "LayoutModel",
      "_view_count": null,
      "_view_module": "@jupyter-widgets/base",
      "_view_module_version": "1.2.0",
      "_view_name": "LayoutView",
      "align_content": null,
      "align_items": null,
      "align_self": null,
      "border": null,
      "bottom": null,
      "display": null,
      "flex": null,
      "flex_flow": null,
      "grid_area": null,
      "grid_auto_columns": null,
      "grid_auto_flow": null,
      "grid_auto_rows": null,
      "grid_column": null,
      "grid_gap": null,
      "grid_row": null,
      "grid_template_areas": null,
      "grid_template_columns": null,
      "grid_template_rows": null,
      "height": null,
      "justify_content": null,
      "justify_items": null,
      "left": null,
      "margin": null,
      "max_height": null,
      "max_width": null,
      "min_height": null,
      "min_width": null,
      "object_fit": null,
      "object_position": null,
      "order": null,
      "overflow": null,
      "overflow_x": null,
      "overflow_y": null,
      "padding": null,
      "right": null,
      "top": null,
      "visibility": null,
      "width": null
     }
    },
    "f0723a0746bd479ca644c1695f31584a": {
     "model_module": "@jupyter-widgets/output",
     "model_name": "OutputModel",
     "state": {
      "_dom_classes": [],
      "_model_module": "@jupyter-widgets/output",
      "_model_module_version": "1.0.0",
      "_model_name": "OutputModel",
      "_view_count": null,
      "_view_module": "@jupyter-widgets/output",
      "_view_module_version": "1.0.0",
      "_view_name": "OutputView",
      "layout": "IPY_MODEL_028a7a06663f4dddabe48f8951e288d8",
      "msg_id": "",
      "outputs": [
       {
        "image/png": "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\n",
        "metadata": {
         "tags": []
        },
        "output_type": "display_data",
        "text/plain": "<Figure size 720x360 with 1 Axes>"
       },
       {
        "metadata": {
         "tags": []
        },
        "output_type": "display_data",
        "text/plain": "29"
       }
      ]
     }
    }
   }
  }
 },
 "nbformat": 4,
 "nbformat_minor": 1
}
